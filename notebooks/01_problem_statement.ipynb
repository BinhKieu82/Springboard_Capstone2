{
 "cells": [
  {
   "cell_type": "markdown",
   "source": [
    "Gun possession & abuse is a big controversial issues within US society. It is necessary to reveal the mechanism causing high gun crime rate in the relationship with as many social features as possible, such as: gun possession rate, unemployment, education level…That helps the managements a foundation basis to issue & execute their gun moderator & management tools  \r\n",
    "\r\n",
    "Find out the relationship between gun crime cases with key features: gun possession, unemployment rate & education level to build a predictive model to predict the acceptable gun possession rate for future plan.\r\n",
    "Able to predict a gun possession causing a crime.  \r\n"
   ],
   "metadata": {}
  }
 ],
 "metadata": {
  "orig_nbformat": 4,
  "language_info": {
   "name": "python"
  }
 },
 "nbformat": 4,
 "nbformat_minor": 2
}