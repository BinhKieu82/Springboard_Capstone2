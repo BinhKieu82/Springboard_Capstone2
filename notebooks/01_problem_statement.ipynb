{
 "cells": [
  {
   "cell_type": "markdown",
   "source": [
    "## Deriving a strategy to reduce the number of massive gun violent incidences across the nation\r\n",
    "<p>Gun possession & abuse is a big controversial issues within US society. Mass shooting (described as a minimum of three or four deaths due to gun violence) causing extremely serve consequencies to related people & the society. It is necessary to reveal the mechanism causing such gun crime incidences, by that deriving suggestion for the managements a foundation basis to issue & execute their gun moderator & management tools.</p>\r\n",
    "\r\n",
    "<p>By looking at the demographics of gun accident victims for each US state. I find out the relationship between gun crime cases with key features: gun possession, unemployment rate, gender, age & education level. Now I want to use these patterns in order to derive suggestions for a policy action plan.</p>\r\n",
    "\r\n",
    "<p>To accomplish these tasks, we will make use of data wrangling, EDA, dimensionality reduction, and unsupervised clustering.</p>\r\n",
    "<p>The data was collected from the...</p>"
   ],
   "metadata": {}
  },
  {
   "cell_type": "markdown",
   "source": [],
   "metadata": {}
  }
 ],
 "metadata": {
  "orig_nbformat": 4,
  "language_info": {
   "name": "python"
  }
 },
 "nbformat": 4,
 "nbformat_minor": 2
}