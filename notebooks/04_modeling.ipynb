{
 "cells": [
  {
   "cell_type": "markdown",
   "source": [
    "## 4. Modeling\r\n",
    "### 4.1 Unsupervised clustering  \r\n",
    "### 4.2 Conclusion & summary"
   ],
   "metadata": {}
  },
  {
   "cell_type": "code",
   "execution_count": null,
   "source": [],
   "outputs": [],
   "metadata": {}
  }
 ],
 "metadata": {
  "orig_nbformat": 4,
  "language_info": {
   "name": "python",
   "version": "3.7.9",
   "mimetype": "text/x-python",
   "codemirror_mode": {
    "name": "ipython",
    "version": 3
   },
   "pygments_lexer": "ipython3",
   "nbconvert_exporter": "python",
   "file_extension": ".py"
  },
  "kernelspec": {
   "name": "python3",
   "display_name": "Python 3.7.9 64-bit ('DS': conda)"
  },
  "interpreter": {
   "hash": "b4bb8b8d2cc883794a51857fbbb51c36637924a112e0ed7b23f7b7e3860b68ad"
  }
 },
 "nbformat": 4,
 "nbformat_minor": 2
}