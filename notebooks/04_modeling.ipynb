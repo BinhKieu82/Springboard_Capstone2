{
 "cells": [
  {
   "cell_type": "markdown",
   "source": [
    "## 4. Modeling\r\n",
    "### 4.1 Importing modules & loading data\r\n",
    "### 4.2 Unsupervised clustering  \r\n",
    "### 4.3 Conclusion & summary"
   ],
   "metadata": {}
  },
  {
   "cell_type": "markdown",
   "source": [
    "### 4.1 Importing modules & loading data"
   ],
   "metadata": {}
  },
  {
   "cell_type": "code",
   "execution_count": 1,
   "source": [
    "import numpy as np\r\n",
    "import pandas as pd\r\n",
    "import matplotlib.pyplot as plt\r\n",
    "import seaborn as sns\r\n",
    "%matplotlib inline\r\n",
    "\r\n",
    "from sklearn.preprocessing import StandardScaler\r\n",
    "from sklearn import linear_model\r\n",
    "from sklearn.decomposition import PCA\r\n",
    "from sklearn.cluster import KMeans"
   ],
   "outputs": [],
   "metadata": {}
  },
  {
   "cell_type": "code",
   "execution_count": null,
   "source": [
    "features = car_acc.drop(['state', 'drvr_fatl_col_bmiles'], axis=1)\r\n",
    "target = car_acc.drvr_fatl_col_bmiles.copy()\r\n",
    "\r\n",
    "# Create a linear regression object\r\n",
    "reg = linear_model.LinearRegression()\r\n",
    "\r\n",
    "# Fit a multivariate linear regression model\r\n",
    "reg.fit(features,target)\r\n",
    "reg.score(features,target)\r\n",
    "# Retrieve the regression coefficients\r\n",
    "fit_coef = reg.coef_\r\n",
    "fit_coef"
   ],
   "outputs": [],
   "metadata": {}
  },
  {
   "cell_type": "markdown",
   "source": [
    "### 4.2 Unsupervised clustering  \r\n",
    "#### Clustering states by population, employeed, unemployment_rate, total_licensees, total_gun_deaths, gender, age, sectors, mentor_health_issues"
   ],
   "metadata": {}
  },
  {
   "cell_type": "code",
   "execution_count": null,
   "source": [
    "# A loop will be used to plot the explanatory power for up to 10 KMeans clusters\r\n",
    "ks = range(1, 10)\r\n",
    "inertias = []\r\n",
    "for k in ks:\r\n",
    "    # Initialize the KMeans object using the current number of clusters (k)\r\n",
    "    km = KMeans(n_clusters=k, random_state=8)\r\n",
    "    # Fit the scaled features to the KMeans object\r\n",
    "    km.fit(features_scaled)\r\n",
    "    # Append the inertia for `km` to the list of inertias\r\n",
    "    inertias.append(km.inertia_)\r\n",
    "    \r\n",
    "# Plot the results in a line plot\r\n",
    "plt.plot(ks, inertias, marker='o')"
   ],
   "outputs": [],
   "metadata": {}
  },
  {
   "cell_type": "code",
   "execution_count": null,
   "source": [
    "# Create a KMeans object with 3 clusters, use random_state=8 \r\n",
    "km = KMeans(n_clusters=3, random_state=8)\r\n",
    "\r\n",
    "# Fit the data to the `km` object\r\n",
    "km.fit(features_scaled)\r\n",
    "\r\n",
    "# Create a scatter plot of the first two principal components\r\n",
    "# and color it according to the KMeans cluster assignment \r\n",
    "plt.scatter(p_comp1, p_comp2, c=km.labels_)"
   ],
   "outputs": [],
   "metadata": {}
  },
  {
   "cell_type": "code",
   "execution_count": null,
   "source": [
    "# Create a new column with the labels from the KMeans clustering\r\n",
    "car_acc['cluster'] = km.labels_\r\n",
    "display(car_acc.head())\r\n",
    "\r\n",
    "# Reshape the DataFrame to the long format\r\n",
    "melt_car = pd.melt(car_acc, id_vars=['cluster'],\r\n",
    "                  var_name='measurement', value_name='percent',\r\n",
    "                  value_vars=['perc_fatl_speed', 'perc_fatl_alcohol','perc_fatl_1st_time'])\r\n",
    "display(melt_car.head())\r\n",
    "\r\n",
    "# Create a violin plot splitting and coloring the results according to the km-clusters\r\n",
    "sns.violinplot(melt_car['percent'], melt_car['measurement'], hue=melt_car['cluster'])"
   ],
   "outputs": [],
   "metadata": {}
  }
 ],
 "metadata": {
  "orig_nbformat": 4,
  "language_info": {
   "name": "python",
   "version": "3.7.9",
   "mimetype": "text/x-python",
   "codemirror_mode": {
    "name": "ipython",
    "version": 3
   },
   "pygments_lexer": "ipython3",
   "nbconvert_exporter": "python",
   "file_extension": ".py"
  },
  "kernelspec": {
   "name": "python3",
   "display_name": "Python 3.7.9 64-bit ('DS': conda)"
  },
  "interpreter": {
   "hash": "b4bb8b8d2cc883794a51857fbbb51c36637924a112e0ed7b23f7b7e3860b68ad"
  }
 },
 "nbformat": 4,
 "nbformat_minor": 2
}