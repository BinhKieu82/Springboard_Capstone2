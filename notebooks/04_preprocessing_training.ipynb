{
 "metadata": {
  "language_info": {
   "codemirror_mode": {
    "name": "ipython",
    "version": 3
   },
   "file_extension": ".py",
   "mimetype": "text/x-python",
   "name": "python",
   "nbconvert_exporter": "python",
   "pygments_lexer": "ipython3",
   "version": 3
  },
  "orig_nbformat": 2
 },
 "nbformat": 4,
 "nbformat_minor": 2,
 "cells": [
  {
   "source": [
    "4. Pre-processing & Training data  \n",
    "4.1 Imports & loading data  \n",
    "4.2 Impute missing features' values\n",
    "4.3 Train/Test split  \n",
    "4.4 Modeling  \n",
    "   * a. Linear Regression  \n",
    "   * b. Logistic Regression  \n",
    "   * c. Random Forest  \n",
    "* 4.5 Data quality assessment  \n",
    "* 4.6 Summary & Conclusion"
   ],
   "cell_type": "markdown",
   "metadata": {}
  }
 ]
}