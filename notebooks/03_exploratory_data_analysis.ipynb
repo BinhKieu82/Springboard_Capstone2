{
 "metadata": {
  "language_info": {
   "codemirror_mode": {
    "name": "ipython",
    "version": 3
   },
   "file_extension": ".py",
   "mimetype": "text/x-python",
   "name": "python",
   "nbconvert_exporter": "python",
   "pygments_lexer": "ipython3",
   "version": 3
  },
  "orig_nbformat": 2
 },
 "nbformat": 4,
 "nbformat_minor": 2,
 "cells": [
  {
   "source": [
    "3. Exploratory Data Analysis  \n",
    "3.1 Imports & loading Data  \n",
    "3.2 Explore the data  \n",
    "   * a. Features scanning & evaluation  \n",
    "   * b. Visualization  \n",
    "   * c. PCA tranformation if needed\n",
    "* 3.3 Conclusion & summary"
   ],
   "cell_type": "markdown",
   "metadata": {}
  }
 ]
}