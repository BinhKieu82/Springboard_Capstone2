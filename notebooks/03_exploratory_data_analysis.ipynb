{
 "metadata": {
  "language_info": {
   "codemirror_mode": {
    "name": "ipython",
    "version": 3
   },
   "file_extension": ".py",
   "mimetype": "text/x-python",
   "name": "python",
   "nbconvert_exporter": "python",
   "pygments_lexer": "ipython3",
   "version": "3.7.9"
  },
  "orig_nbformat": 2,
  "kernelspec": {
   "name": "python3",
   "display_name": "Python 3.7.9 64-bit ('DS': conda)"
  },
  "interpreter": {
   "hash": "b4bb8b8d2cc883794a51857fbbb51c36637924a112e0ed7b23f7b7e3860b68ad"
  }
 },
 "nbformat": 4,
 "nbformat_minor": 2,
 "cells": [
  {
   "cell_type": "markdown",
   "source": [
    "3. Exploratory Data Analysis  \n",
    "3.1 Imports & loading Data  \n",
    "3.2 Explore the data  \n",
    "   * a. Features scanning & evaluation  \n",
    "   * b. Visualization  \n",
    "   * c. PCA tranformation if needed\n",
    "* 3.3 Conclusion & summary"
   ],
   "metadata": {}
  },
  {
   "cell_type": "code",
   "execution_count": 1,
   "source": [
    "import numpy as np\r\n",
    "import pandas as pd\r\n",
    "import matplotlib.pyplot as plt\r\n",
    "import seaborn as sns\r\n",
    "import scipy"
   ],
   "outputs": [],
   "metadata": {}
  },
  {
   "cell_type": "code",
   "execution_count": 2,
   "source": [
    "GunVio20132018 = pd.read_csv('../data/Clean_data/GunViolence2013_2018.csv',index_col='date')"
   ],
   "outputs": [],
   "metadata": {}
  },
  {
   "cell_type": "code",
   "execution_count": 3,
   "source": [
    "GunVio20132018.info()"
   ],
   "outputs": [
    {
     "output_type": "stream",
     "name": "stdout",
     "text": [
      "<class 'pandas.core.frame.DataFrame'>\n",
      "Index: 239677 entries, 2013-01-01 to 2018-03-31\n",
      "Data columns (total 37 columns):\n",
      " #   Column                       Non-Null Count   Dtype  \n",
      "---  ------                       --------------   -----  \n",
      " 0   incident_id                  239677 non-null  int64  \n",
      " 1   state                        239677 non-null  object \n",
      " 2   city_or_county               239677 non-null  object \n",
      " 3   address                      223180 non-null  object \n",
      " 4   n_killed                     239677 non-null  int64  \n",
      " 5   n_injured                    239677 non-null  int64  \n",
      " 6   incident_url                 239677 non-null  object \n",
      " 7   source_url                   239209 non-null  object \n",
      " 8   incident_url_fields_missing  239677 non-null  bool   \n",
      " 9   congressional_district       227733 non-null  float64\n",
      " 10  gun_stolen                   140179 non-null  object \n",
      " 11  gun_type                     140226 non-null  object \n",
      " 12  incident_characteristics     239351 non-null  object \n",
      " 13  latitude                     231754 non-null  float64\n",
      " 14  location_description         42089 non-null   object \n",
      " 15  longitude                    231754 non-null  float64\n",
      " 16  n_guns_involved              140226 non-null  float64\n",
      " 17  notes                        158660 non-null  object \n",
      " 18  participant_age              147379 non-null  object \n",
      " 19  participant_age_group        197558 non-null  object \n",
      " 20  participant_gender           203315 non-null  object \n",
      " 21  participant_name             117424 non-null  object \n",
      " 22  participant_relationship     15774 non-null   object \n",
      " 23  participant_status           212051 non-null  object \n",
      " 24  participant_type             214814 non-null  object \n",
      " 25  sources                      239068 non-null  object \n",
      " 26  state_house_district         200905 non-null  float64\n",
      " 27  state_senate_district        207342 non-null  float64\n",
      " 28  date.1                       239677 non-null  object \n",
      " 29  year                         239677 non-null  int64  \n",
      " 30  month                        239677 non-null  int64  \n",
      " 31  monthday                     239677 non-null  int64  \n",
      " 32  weekday                      239677 non-null  int64  \n",
      " 33  total loss                   239677 non-null  int64  \n",
      " 34  participant_type_map         239677 non-null  object \n",
      " 35  participant_age_map          239677 non-null  object \n",
      " 36  participant_gender_map       239677 non-null  object \n",
      "dtypes: bool(1), float64(6), int64(8), object(22)\n",
      "memory usage: 67.9+ MB\n"
     ]
    }
   ],
   "metadata": {}
  },
  {
   "cell_type": "code",
   "execution_count": null,
   "source": [],
   "outputs": [],
   "metadata": {}
  }
 ]
}