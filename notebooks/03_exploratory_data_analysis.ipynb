{
 "metadata": {
  "language_info": {
   "codemirror_mode": {
    "name": "ipython",
    "version": 3
   },
   "file_extension": ".py",
   "mimetype": "text/x-python",
   "name": "python",
   "nbconvert_exporter": "python",
   "pygments_lexer": "ipython3",
   "version": "3.7.9"
  },
  "orig_nbformat": 2,
  "kernelspec": {
   "name": "python3",
   "display_name": "Python 3.7.9 64-bit ('DS': conda)"
  },
  "interpreter": {
   "hash": "b4bb8b8d2cc883794a51857fbbb51c36637924a112e0ed7b23f7b7e3860b68ad"
  }
 },
 "nbformat": 4,
 "nbformat_minor": 2,
 "cells": [
  {
   "cell_type": "markdown",
   "source": [
    "3. Exploratory Data Analysis  \n",
    "3.1 Imports & loading Data  \n",
    "3.2 Explore the data  \n",
    "   * a. Features scanning & evaluation  \n",
    "   * b. Visualization  \n",
    "   * c. PCA tranformation if needed\n",
    "* 3.3 Conclusion & summary"
   ],
   "metadata": {}
  },
  {
   "cell_type": "code",
   "execution_count": 1,
   "source": [
    "import numpy as np\r\n",
    "import pandas as pd\r\n",
    "import matplotlib.pyplot as plt\r\n",
    "import seaborn as sns\r\n",
    "import scipy"
   ],
   "outputs": [],
   "metadata": {}
  },
  {
   "cell_type": "code",
   "execution_count": 2,
   "source": [
    "GunVio20132018 = pd.read_csv('../data/Clean_data/GunViolence2013_2018.csv',index_col='date')"
   ],
   "outputs": [],
   "metadata": {}
  },
  {
   "cell_type": "code",
   "execution_count": 4,
   "source": [
    "GunVio20132018_final = pd.read_csv('../data/Clean_data/GunViolence2013_2018_final.csv',index_col='date')"
   ],
   "outputs": [
    {
     "output_type": "stream",
     "name": "stderr",
     "text": [
      "C:\\Users\\Binhkn\\anaconda3\\envs\\DS\\lib\\site-packages\\IPython\\core\\interactiveshell.py:3147: DtypeWarning: Columns (4,6,8,14,16,17) have mixed types.Specify dtype option on import or set low_memory=False.\n",
      "  interactivity=interactivity, compiler=compiler, result=result)\n"
     ]
    }
   ],
   "metadata": {}
  },
  {
   "cell_type": "code",
   "execution_count": 3,
   "source": [
    "GunVio20132018.info()"
   ],
   "outputs": [
    {
     "output_type": "stream",
     "name": "stdout",
     "text": [
      "<class 'pandas.core.frame.DataFrame'>\n",
      "Index: 239677 entries, 2013-01-01 to 2018-03-31\n",
      "Data columns (total 37 columns):\n",
      " #   Column                       Non-Null Count   Dtype  \n",
      "---  ------                       --------------   -----  \n",
      " 0   incident_id                  239677 non-null  int64  \n",
      " 1   state                        239677 non-null  object \n",
      " 2   city_or_county               239677 non-null  object \n",
      " 3   address                      223180 non-null  object \n",
      " 4   n_killed                     239677 non-null  int64  \n",
      " 5   n_injured                    239677 non-null  int64  \n",
      " 6   incident_url                 239677 non-null  object \n",
      " 7   source_url                   239209 non-null  object \n",
      " 8   incident_url_fields_missing  239677 non-null  bool   \n",
      " 9   congressional_district       227733 non-null  float64\n",
      " 10  gun_stolen                   140179 non-null  object \n",
      " 11  gun_type                     140226 non-null  object \n",
      " 12  incident_characteristics     239351 non-null  object \n",
      " 13  latitude                     231754 non-null  float64\n",
      " 14  location_description         42089 non-null   object \n",
      " 15  longitude                    231754 non-null  float64\n",
      " 16  n_guns_involved              140226 non-null  float64\n",
      " 17  notes                        158660 non-null  object \n",
      " 18  participant_age              147379 non-null  object \n",
      " 19  participant_age_group        197558 non-null  object \n",
      " 20  participant_gender           203315 non-null  object \n",
      " 21  participant_name             117424 non-null  object \n",
      " 22  participant_relationship     15774 non-null   object \n",
      " 23  participant_status           212051 non-null  object \n",
      " 24  participant_type             214814 non-null  object \n",
      " 25  sources                      239068 non-null  object \n",
      " 26  state_house_district         200905 non-null  float64\n",
      " 27  state_senate_district        207342 non-null  float64\n",
      " 28  date.1                       239677 non-null  object \n",
      " 29  year                         239677 non-null  int64  \n",
      " 30  month                        239677 non-null  int64  \n",
      " 31  monthday                     239677 non-null  int64  \n",
      " 32  weekday                      239677 non-null  int64  \n",
      " 33  total loss                   239677 non-null  int64  \n",
      " 34  participant_type_map         239677 non-null  object \n",
      " 35  participant_age_map          239677 non-null  object \n",
      " 36  participant_gender_map       239677 non-null  object \n",
      "dtypes: bool(1), float64(6), int64(8), object(22)\n",
      "memory usage: 67.9+ MB\n"
     ]
    }
   ],
   "metadata": {}
  },
  {
   "cell_type": "code",
   "execution_count": 5,
   "source": [
    "GunVio20132018_final.info()"
   ],
   "outputs": [
    {
     "output_type": "stream",
     "name": "stdout",
     "text": [
      "<class 'pandas.core.frame.DataFrame'>\n",
      "Index: 366148 entries, 2013-01-19 to 2018-02-14\n",
      "Data columns (total 64 columns):\n",
      " #   Column                       Non-Null Count   Dtype  \n",
      "---  ------                       --------------   -----  \n",
      " 0   Title                        366148 non-null  object \n",
      " 1   Location                     366148 non-null  object \n",
      " 2   Area                         366148 non-null  object \n",
      " 3   Incident Area                366148 non-null  object \n",
      " 4   Target                       366148 non-null  object \n",
      " 5   Cause                        366148 non-null  object \n",
      " 6   Summary                      366148 non-null  object \n",
      " 7   Shooter status               366148 non-null  object \n",
      " 8   No. of shooter/suspect       366148 non-null  object \n",
      " 9   Fatalities_x                 366148 non-null  int64  \n",
      " 10  Injured                      366148 non-null  int64  \n",
      " 11  Total victims                366148 non-null  int64  \n",
      " 12  Policeman Killed             366148 non-null  int64  \n",
      " 13  Age                          366148 non-null  object \n",
      " 14  Employeed (Y/N)              366148 non-null  int64  \n",
      " 15  Employed at                  366148 non-null  object \n",
      " 16  Mental Health Issues         366148 non-null  object \n",
      " 17  Race                         366148 non-null  object \n",
      " 18  Gender                       366148 non-null  object \n",
      " 19  date_x                       366148 non-null  object \n",
      " 20  year_x                       366148 non-null  int64  \n",
      " 21  month_x                      366148 non-null  int64  \n",
      " 22  monthday_x                   366148 non-null  int64  \n",
      " 23  weekday_x                    366148 non-null  int64  \n",
      " 24  state_x                      366148 non-null  object \n",
      " 25  incident_id                  366148 non-null  int64  \n",
      " 26  state_y                      366148 non-null  object \n",
      " 27  city_or_county               366148 non-null  object \n",
      " 28  address                      359340 non-null  object \n",
      " 29  n_killed                     366148 non-null  int64  \n",
      " 30  n_injured                    366148 non-null  int64  \n",
      " 31  incident_url                 366148 non-null  object \n",
      " 32  source_url                   364820 non-null  object \n",
      " 33  incident_url_fields_missing  366148 non-null  bool   \n",
      " 34  congressional_district       346023 non-null  float64\n",
      " 35  gun_stolen                   202245 non-null  object \n",
      " 36  gun_type                     202245 non-null  object \n",
      " 37  incident_characteristics     365573 non-null  object \n",
      " 38  latitude                     351345 non-null  float64\n",
      " 39  location_description         95692 non-null   object \n",
      " 40  longitude                    351345 non-null  float64\n",
      " 41  n_guns_involved              202245 non-null  float64\n",
      " 42  notes                        256289 non-null  object \n",
      " 43  participant_age              282859 non-null  object \n",
      " 44  participant_age_group        340388 non-null  object \n",
      " 45  participant_gender           338078 non-null  object \n",
      " 46  participant_name             229119 non-null  object \n",
      " 47  participant_relationship     35240 non-null   object \n",
      " 48  participant_status           366148 non-null  object \n",
      " 49  participant_type             366148 non-null  object \n",
      " 50  sources                      366038 non-null  object \n",
      " 51  state_house_district         311737 non-null  float64\n",
      " 52  state_senate_district        322052 non-null  float64\n",
      " 53  date_y                       366148 non-null  object \n",
      " 54  year_y                       366148 non-null  int64  \n",
      " 55  month_y                      366148 non-null  int64  \n",
      " 56  monthday_y                   366148 non-null  int64  \n",
      " 57  weekday_y                    366148 non-null  int64  \n",
      " 58  total loss                   366148 non-null  int64  \n",
      " 59  participant_type_map         366148 non-null  object \n",
      " 60  participant_age_map          366148 non-null  object \n",
      " 61  participant_gender_map       366148 non-null  object \n",
      " 62  suspect_age                  366148 non-null  object \n",
      " 63  Fatalities_y                 366148 non-null  int64  \n",
      "dtypes: bool(1), float64(6), int64(18), object(39)\n",
      "memory usage: 179.1+ MB\n"
     ]
    }
   ],
   "metadata": {}
  },
  {
   "cell_type": "code",
   "execution_count": 8,
   "source": [
    "a = GunVio20132018.columns\r\n",
    "b = GunVio20132018_final.columns"
   ],
   "outputs": [],
   "metadata": {}
  },
  {
   "cell_type": "code",
   "execution_count": 9,
   "source": [
    "print(a, b)"
   ],
   "outputs": [
    {
     "output_type": "stream",
     "name": "stdout",
     "text": [
      "Index(['incident_id', 'state', 'city_or_county', 'address', 'n_killed',\n",
      "       'n_injured', 'incident_url', 'source_url',\n",
      "       'incident_url_fields_missing', 'congressional_district', 'gun_stolen',\n",
      "       'gun_type', 'incident_characteristics', 'latitude',\n",
      "       'location_description', 'longitude', 'n_guns_involved', 'notes',\n",
      "       'participant_age', 'participant_age_group', 'participant_gender',\n",
      "       'participant_name', 'participant_relationship', 'participant_status',\n",
      "       'participant_type', 'sources', 'state_house_district',\n",
      "       'state_senate_district', 'date.1', 'year', 'month', 'monthday',\n",
      "       'weekday', 'total loss', 'participant_type_map', 'participant_age_map',\n",
      "       'participant_gender_map'],\n",
      "      dtype='object') Index(['Title', 'Location', 'Area', 'Incident Area', 'Target', 'Cause',\n",
      "       'Summary', 'Shooter status', 'No. of shooter/suspect', 'Fatalities_x',\n",
      "       'Injured', 'Total victims', 'Policeman Killed', 'Age',\n",
      "       'Employeed (Y/N)', 'Employed at', 'Mental Health Issues', 'Race',\n",
      "       'Gender', 'date_x', 'year_x', 'month_x', 'monthday_x', 'weekday_x',\n",
      "       'state_x', 'incident_id', 'state_y', 'city_or_county', 'address',\n",
      "       'n_killed', 'n_injured', 'incident_url', 'source_url',\n",
      "       'incident_url_fields_missing', 'congressional_district', 'gun_stolen',\n",
      "       'gun_type', 'incident_characteristics', 'latitude',\n",
      "       'location_description', 'longitude', 'n_guns_involved', 'notes',\n",
      "       'participant_age', 'participant_age_group', 'participant_gender',\n",
      "       'participant_name', 'participant_relationship', 'participant_status',\n",
      "       'participant_type', 'sources', 'state_house_district',\n",
      "       'state_senate_district', 'date_y', 'year_y', 'month_y', 'monthday_y',\n",
      "       'weekday_y', 'total loss', 'participant_type_map',\n",
      "       'participant_age_map', 'participant_gender_map', 'suspect_age',\n",
      "       'Fatalities_y'],\n",
      "      dtype='object')\n"
     ]
    }
   ],
   "metadata": {}
  },
  {
   "cell_type": "code",
   "execution_count": null,
   "source": [],
   "outputs": [],
   "metadata": {}
  }
 ]
}