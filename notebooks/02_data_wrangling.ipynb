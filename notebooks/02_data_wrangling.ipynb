{
 "metadata": {
  "language_info": {
   "codemirror_mode": {
    "name": "ipython",
    "version": 3
   },
   "file_extension": ".py",
   "mimetype": "text/x-python",
   "name": "python",
   "nbconvert_exporter": "python",
   "pygments_lexer": "ipython3",
   "version": "3.7.9"
  },
  "orig_nbformat": 2,
  "kernelspec": {
   "name": "python3",
   "display_name": "Python 3.7.9 64-bit ('DS': conda)"
  },
  "interpreter": {
   "hash": "b4bb8b8d2cc883794a51857fbbb51c36637924a112e0ed7b23f7b7e3860b68ad"
  }
 },
 "nbformat": 4,
 "nbformat_minor": 2,
 "cells": [
  {
   "cell_type": "markdown",
   "source": [
    "# 2. Data wrangling   \r\n",
    "### 2.1 Data overviews  \r\n",
    "### 2.2 Importing related libs & modules  \r\n",
    "### 2.3 Loading data  \r\n",
    "- Gun Possession: Total of gun licensees per <span style=\"color:red\">year</span>  \r\n",
    "- Gun Deaths: Total gun deaths (homicide, sucide...) per <span style=\"color:red\">year</span>  \r\n",
    "- [Firearm Deaths by Age](https://webappa.cdc.gov/sasweb/ncipc/mortrate.html): No of death group by age listed by <span style=\"color:red\">year</span>  \r\n",
    "- Mass Shooting: Number of mass shooting cases with shooter age, gender, mental health, employment by <span style=\"color:red\">year, states</span>  \r\n",
    "- Unemployment rate: Unemployment rate by <span style=\"color:red\">years, states</span>  \r\n",
    "### 2.4 Explore the data  \r\n",
    "- Data distribution & missing values  \r\n",
    "- Numeric features  \r\n",
    "- Category features   \r\n",
    "### 2.5 Target variables  \r\n",
    "### 2.6 Save data  \r\n",
    "### 2.7 Sumary  \r\n"
   ],
   "metadata": {}
  },
  {
   "cell_type": "markdown",
   "source": [
    "## 2.1 Data Overviews  \r\n",
    "### input data  \r\n",
    "index: Year 2013 - 2018  \r\n",
    "Dependent variable (y): Gun deaths per years & states     \r\n",
    "Independent variables (Xi): Population, Gun possession, Employment rate, Age group, Shooter age, Shooter gender, Unemployment rate,\r\n",
    "  \r\n",
    "### What to do  \r\n",
    "Load, transform & visualize data.  \r\n",
    "Q: Add more features for the prediction?  "
   ],
   "metadata": {}
  },
  {
   "cell_type": "markdown",
   "source": [
    "## 2.2 Import libs & modules  \n",
    "### geoplot for geodetic display"
   ],
   "metadata": {}
  },
  {
   "cell_type": "code",
   "execution_count": 1,
   "source": [
    "import numpy as np\r\n",
    "import pandas as pd\r\n",
    "import matplotlib.pyplot as plt\r\n",
    "from plotly.offline import init_notebook_mode, iplot\r\n",
    "import plotly.graph_objs as go\r\n",
    "import seaborn as sns\r\n",
    "import os\r\n",
    "\r\n",
    "from library.sb_utils import save_file"
   ],
   "outputs": [],
   "metadata": {}
  },
  {
   "cell_type": "markdown",
   "source": [
    "## 2.3 Loading data  \r\n",
    "### DF: GunDeaths_2009_2018; GunPossession_1986_2018; Mass_Shooting; Employment;   \r\n",
    "Additional data sorting by year."
   ],
   "metadata": {}
  },
  {
   "cell_type": "code",
   "execution_count": 2,
   "source": [
    "GunDeaths_2009_2018  = pd.read_csv('../data/USA_Crimes/GunDeaths_2009_2018.csv').set_index('Year')\r\n",
    "# FirearmDeaths_2000_2018  = pd.read_csv('../data/USA_Crimes/FirearmDeaths2000_2018.csv').set_index('Year')\r\n",
    "GunPossession_1986_2018 = pd.read_csv('../data/USA_Crimes/GunPossession_1986_2018.csv', index_col=0)"
   ],
   "outputs": [],
   "metadata": {}
  },
  {
   "cell_type": "code",
   "execution_count": 3,
   "source": [
    "GunPossession_1986_2018 = GunPossession_1986_2018[['Total Licensees ','Licensed Business Entities']]\r\n",
    "GunPossession_1986_2018.columns = ['total_licensees ','licensed_business_entities']\r\n",
    "GunPossession_1986_2018['year'] = GunPossession_1986_2018.index\r\n",
    "# GunPossession_1986_2018.info()"
   ],
   "outputs": [],
   "metadata": {}
  },
  {
   "cell_type": "code",
   "execution_count": null,
   "source": [
    "# FirearmDeaths_2000_2018.drop(['State','Ethnicity','First Year','Last Year','Cause of Death'], axis=1, inplace=True)\r\n",
    "# FirearmDeaths_2000_2018.columns"
   ],
   "outputs": [],
   "metadata": {}
  },
  {
   "cell_type": "code",
   "execution_count": 4,
   "source": [
    "GunDeaths_2009_2018 = GunDeaths_2009_2018[['Population','Total gun deaths','Total children and teen gun deaths']]\r\n",
    "GunDeaths_2009_2018.columns = ['population','total_gun_deaths','total_children_teen_gun_deaths']\r\n",
    "GunDeaths_2009_2018['year'] = GunDeaths_2009_2018.index\r\n",
    "# GunDeaths_2009_2018.columns "
   ],
   "outputs": [],
   "metadata": {}
  },
  {
   "cell_type": "markdown",
   "source": [
    "### **Combine data**\r\n",
    "#### Data: $\\color{cyan}{\\text{Year, Polpulation, Total licenses, Gun deaths, age group, sex.}}$\r\n",
    "#### DF = GunDeaths_2009_2018 + GunPossession_1986_2018 + Employment by year & states"
   ],
   "metadata": {}
  },
  {
   "cell_type": "markdown",
   "source": [
    "Yearly employment info by states"
   ],
   "metadata": {}
  },
  {
   "cell_type": "code",
   "execution_count": 5,
   "source": [
    "Employment_header = ['FIPS Code', 'State and area', 'Year', 'Civilian non-institutional population', \r\n",
    "  'Civilian labor force/Total', 'Civilian labor force/Percent of population', \r\n",
    "  'Civilian labor force/Employment/Total', 'Civilian labor force/Employment/Percent of population',\r\n",
    "  'Civilian labor force/Unemployment/Total','Civilian labor force/Unemployment/Rate']"
   ],
   "outputs": [],
   "metadata": {}
  },
  {
   "cell_type": "code",
   "execution_count": 6,
   "source": [
    "# Employment = pd.read_excel('../data/USA_Crimes/staadata.xlsx', header=0)\r\n",
    "Employment=pd.read_excel(\r\n",
    "     os.path.join(\"../data/USA_Crimes/\", \"staadata.xlsx\"),\r\n",
    "     engine='openpyxl', header=None, names= Employment_header,skiprows=8\r\n",
    ").set_index('Year')"
   ],
   "outputs": [],
   "metadata": {}
  },
  {
   "cell_type": "code",
   "execution_count": 7,
   "source": [
    "Employment = Employment[['State and area', 'Civilian non-institutional population', \r\n",
    "  'Civilian labor force/Total','Civilian labor force/Unemployment/Rate']]\r\n",
    "Employment.columns = ['state','state_population','state_labor_force','unemployment_rate']\r\n",
    "Employment['year'] = Employment.index"
   ],
   "outputs": [],
   "metadata": {}
  },
  {
   "cell_type": "code",
   "execution_count": 16,
   "source": [
    "Employment.head(2)"
   ],
   "outputs": [
    {
     "output_type": "execute_result",
     "data": {
      "text/html": [
       "<div>\n",
       "<style scoped>\n",
       "    .dataframe tbody tr th:only-of-type {\n",
       "        vertical-align: middle;\n",
       "    }\n",
       "\n",
       "    .dataframe tbody tr th {\n",
       "        vertical-align: top;\n",
       "    }\n",
       "\n",
       "    .dataframe thead th {\n",
       "        text-align: right;\n",
       "    }\n",
       "</style>\n",
       "<table border=\"1\" class=\"dataframe\">\n",
       "  <thead>\n",
       "    <tr style=\"text-align: right;\">\n",
       "      <th></th>\n",
       "      <th>state</th>\n",
       "      <th>state_population</th>\n",
       "      <th>state_labor_force</th>\n",
       "      <th>unemployment_rate</th>\n",
       "      <th>year</th>\n",
       "    </tr>\n",
       "    <tr>\n",
       "      <th>Year</th>\n",
       "      <th></th>\n",
       "      <th></th>\n",
       "      <th></th>\n",
       "      <th></th>\n",
       "      <th></th>\n",
       "    </tr>\n",
       "  </thead>\n",
       "  <tbody>\n",
       "    <tr>\n",
       "      <th>1976</th>\n",
       "      <td>Alabama</td>\n",
       "      <td>2632667</td>\n",
       "      <td>1501284</td>\n",
       "      <td>6.8</td>\n",
       "      <td>1976</td>\n",
       "    </tr>\n",
       "    <tr>\n",
       "      <th>1976</th>\n",
       "      <td>Alaska</td>\n",
       "      <td>239917</td>\n",
       "      <td>163570</td>\n",
       "      <td>7.6</td>\n",
       "      <td>1976</td>\n",
       "    </tr>\n",
       "  </tbody>\n",
       "</table>\n",
       "</div>"
      ],
      "text/plain": [
       "        state  state_population  state_labor_force  unemployment_rate  year\n",
       "Year                                                                       \n",
       "1976  Alabama           2632667            1501284                6.8  1976\n",
       "1976   Alaska            239917             163570                7.6  1976"
      ]
     },
     "metadata": {},
     "execution_count": 16
    }
   ],
   "metadata": {}
  },
  {
   "cell_type": "markdown",
   "source": [
    "Mass shooting for employment, mental health, gender, which will be merged with 3 other dataframes"
   ],
   "metadata": {}
  },
  {
   "cell_type": "code",
   "execution_count": 8,
   "source": [
    "Mass_Shooting = pd.read_csv('../data/USA_Crimes/USMassShooting19662019(cleaned).csv', parse_dates=True, index_col='Date')"
   ],
   "outputs": [],
   "metadata": {}
  },
  {
   "cell_type": "code",
   "execution_count": 9,
   "source": [
    "MS_column_drop = ['S#','Title','Area','Incident Area','Open/Close Location','Target','Cause','Summary',\r\n",
    "  'Shooter status','No. of shooter/suspect','Race','Latitude','Longitude']\r\n",
    "Mass_Shooting.sort_index(inplace=True)\r\n",
    "Mass_Shooting.drop(MS_column_drop, axis=1, inplace=True)"
   ],
   "outputs": [],
   "metadata": {}
  },
  {
   "cell_type": "code",
   "execution_count": 10,
   "source": [
    "Mass_Shooting['date'] = pd.to_datetime(Mass_Shooting.index)\r\n",
    "Mass_Shooting['year'] = Mass_Shooting['date'].dt.year\r\n",
    "# Mass_Shooting['month'] = Mass_Shooting['date'].dt.month\r\n",
    "# Mass_Shooting['monthday'] = Mass_Shooting['date'].dt.day\r\n",
    "# Mass_Shooting['weekday'] = Mass_Shooting['date'].dt.weekday"
   ],
   "outputs": [],
   "metadata": {}
  },
  {
   "cell_type": "code",
   "execution_count": 11,
   "source": [
    "#get states from locations\r\n",
    "def get_state(txt):\r\n",
    "    val = txt.split(\", \")[-1]            \r\n",
    "    return val\r\n",
    "\r\n",
    "Mass_Shooting['state'] = Mass_Shooting['Location'].apply(lambda x : get_state(x))"
   ],
   "outputs": [],
   "metadata": {}
  },
  {
   "cell_type": "code",
   "execution_count": 12,
   "source": [
    "Mass_Shooting.drop('Location',axis=1,inplace=True)\r\n",
    "Mass_Shooting.columns = ['fatalities', 'injured', 'total_victims',\r\n",
    "       'policeman_killed', 'age', 'employeed(Y/N)', 'employed_at',\r\n",
    "       'mental_health_issues', 'gender', 'date', 'year', 'state']"
   ],
   "outputs": [],
   "metadata": {}
  },
  {
   "cell_type": "code",
   "execution_count": 187,
   "source": [
    "print(len(Employment.state.unique()),np.sort(Employment.state.unique()),'\\n',\r\n",
    "  len(Mass_Shooting.state.unique()),np.sort(Mass_Shooting.state.unique()))"
   ],
   "outputs": [
    {
     "output_type": "stream",
     "name": "stdout",
     "text": [
      "53 ['Alabama' 'Alaska' 'Arizona' 'Arkansas' 'California' 'Colorado'\n",
      " 'Connecticut' 'Delaware' 'District of Columbia' 'Florida' 'Georgia'\n",
      " 'Hawaii' 'Idaho' 'Illinois' 'Indiana' 'Iowa' 'Kansas' 'Kentucky'\n",
      " 'Los Angeles County' 'Louisiana' 'Maine' 'Maryland' 'Massachusetts'\n",
      " 'Michigan' 'Minnesota' 'Mississippi' 'Missouri' 'Montana' 'Nebraska'\n",
      " 'Nevada' 'New Hampshire' 'New Jersey' 'New Mexico' 'New York'\n",
      " 'New York city' 'North Carolina' 'North Dakota' 'Ohio' 'Oklahoma'\n",
      " 'Oregon' 'Pennsylvania' 'Rhode Island' 'South Carolina' 'South Dakota'\n",
      " 'Tennessee' 'Texas' 'Utah' 'Vermont' 'Virginia' 'Washington'\n",
      " 'West Virginia' 'Wisconsin' 'Wyoming'] \n",
      " 53 [' Virginia' 'Alabama' 'Alaska' 'Arizona' 'Arkansas' 'CA' 'California'\n",
      " 'Colorado' 'Connecticut' 'Delaware' 'Florida' 'Georgia' 'Hawaii' 'Idaho'\n",
      " 'Illinois' 'Indiana' 'Iowa' 'Kansas' 'Kentucky' 'Louisiana' 'Lousiana'\n",
      " 'Maine' 'Maryland' 'Massachusetts' 'Michigan' 'Minnesota' 'Mississippi'\n",
      " 'Missouri' 'Montana' 'NV' 'Nebraska' 'Nevada' 'New Jersey' 'New Mexico'\n",
      " 'New York' 'North Carolina' 'Ohio' 'Oklahoma' 'Oregon' 'Pennsylvania'\n",
      " 'South Carolina' 'South Dakota' 'Tennessee' 'Texas' 'Texas ' 'Utah'\n",
      " 'Vermont' 'Virginia' 'Washington' 'Washington D.C.' 'West Virginia'\n",
      " 'Wisconsin' 'Wyoming']\n"
     ]
    }
   ],
   "metadata": {}
  },
  {
   "cell_type": "code",
   "execution_count": 19,
   "source": [
    "df = pd.merge(Mass_Shooting,GunPossession_1986_2018,on=['year'],how='left')"
   ],
   "outputs": [],
   "metadata": {}
  },
  {
   "cell_type": "code",
   "execution_count": 20,
   "source": [
    "df = pd.merge(df,GunDeaths_2009_2018,on=['year'],how='left')"
   ],
   "outputs": [],
   "metadata": {}
  },
  {
   "cell_type": "code",
   "execution_count": 21,
   "source": [
    "df = pd.merge(df,Employment,on=['year','state'],how='left')"
   ],
   "outputs": [],
   "metadata": {}
  },
  {
   "cell_type": "code",
   "execution_count": 22,
   "source": [
    "df.set_index('date',inplace=True)"
   ],
   "outputs": [],
   "metadata": {}
  },
  {
   "cell_type": "code",
   "execution_count": 23,
   "source": [
    "df.drop(df[(df.year<2009) | (df.year>2019)].index,inplace=True)"
   ],
   "outputs": [],
   "metadata": {}
  },
  {
   "cell_type": "code",
   "execution_count": 24,
   "source": [
    "print(Mass_Shooting.shape,GunPossession_1986_2018.shape,GunDeaths_2009_2018.shape,Employment.shape,df.shape)"
   ],
   "outputs": [
    {
     "output_type": "stream",
     "name": "stdout",
     "text": [
      "(339, 12) (33, 3) (10, 4) (2332, 5) (224, 19)\n"
     ]
    }
   ],
   "metadata": {}
  },
  {
   "cell_type": "code",
   "execution_count": 25,
   "source": [
    "df.head(2)"
   ],
   "outputs": [
    {
     "output_type": "execute_result",
     "data": {
      "text/html": [
       "<div>\n",
       "<style scoped>\n",
       "    .dataframe tbody tr th:only-of-type {\n",
       "        vertical-align: middle;\n",
       "    }\n",
       "\n",
       "    .dataframe tbody tr th {\n",
       "        vertical-align: top;\n",
       "    }\n",
       "\n",
       "    .dataframe thead th {\n",
       "        text-align: right;\n",
       "    }\n",
       "</style>\n",
       "<table border=\"1\" class=\"dataframe\">\n",
       "  <thead>\n",
       "    <tr style=\"text-align: right;\">\n",
       "      <th></th>\n",
       "      <th>fatalities</th>\n",
       "      <th>injured</th>\n",
       "      <th>total_victims</th>\n",
       "      <th>policeman_killed</th>\n",
       "      <th>age</th>\n",
       "      <th>employeed(Y/N)</th>\n",
       "      <th>employed_at</th>\n",
       "      <th>mental_health_issues</th>\n",
       "      <th>gender</th>\n",
       "      <th>year</th>\n",
       "      <th>state</th>\n",
       "      <th>total_licensees</th>\n",
       "      <th>licensed_business_entities</th>\n",
       "      <th>population</th>\n",
       "      <th>total_gun_deaths</th>\n",
       "      <th>total_children_teen_gun_deaths</th>\n",
       "      <th>state_population</th>\n",
       "      <th>state_labor_force</th>\n",
       "      <th>unemployment_rate</th>\n",
       "    </tr>\n",
       "    <tr>\n",
       "      <th>date</th>\n",
       "      <th></th>\n",
       "      <th></th>\n",
       "      <th></th>\n",
       "      <th></th>\n",
       "      <th></th>\n",
       "      <th></th>\n",
       "      <th></th>\n",
       "      <th></th>\n",
       "      <th></th>\n",
       "      <th></th>\n",
       "      <th></th>\n",
       "      <th></th>\n",
       "      <th></th>\n",
       "      <th></th>\n",
       "      <th></th>\n",
       "      <th></th>\n",
       "      <th></th>\n",
       "      <th></th>\n",
       "      <th></th>\n",
       "    </tr>\n",
       "  </thead>\n",
       "  <tbody>\n",
       "    <tr>\n",
       "      <th>2009-03-10</th>\n",
       "      <td>10</td>\n",
       "      <td>6</td>\n",
       "      <td>16</td>\n",
       "      <td>0</td>\n",
       "      <td>28</td>\n",
       "      <td>-999</td>\n",
       "      <td>-999</td>\n",
       "      <td>No</td>\n",
       "      <td>Male</td>\n",
       "      <td>2009</td>\n",
       "      <td>Alabama</td>\n",
       "      <td>115,395</td>\n",
       "      <td>60,349</td>\n",
       "      <td>307,006,550</td>\n",
       "      <td>31,347</td>\n",
       "      <td>2,811</td>\n",
       "      <td>3621410.0</td>\n",
       "      <td>2162999.0</td>\n",
       "      <td>11.0</td>\n",
       "    </tr>\n",
       "    <tr>\n",
       "      <th>2009-03-29</th>\n",
       "      <td>8</td>\n",
       "      <td>2</td>\n",
       "      <td>10</td>\n",
       "      <td>0</td>\n",
       "      <td>45</td>\n",
       "      <td>-999</td>\n",
       "      <td>-999</td>\n",
       "      <td>Yes</td>\n",
       "      <td>Male</td>\n",
       "      <td>2009</td>\n",
       "      <td>North Carolina</td>\n",
       "      <td>115,395</td>\n",
       "      <td>60,349</td>\n",
       "      <td>307,006,550</td>\n",
       "      <td>31,347</td>\n",
       "      <td>2,811</td>\n",
       "      <td>7117828.0</td>\n",
       "      <td>4570789.0</td>\n",
       "      <td>10.6</td>\n",
       "    </tr>\n",
       "  </tbody>\n",
       "</table>\n",
       "</div>"
      ],
      "text/plain": [
       "            fatalities  injured  total_victims  policeman_killed age  \\\n",
       "date                                                                   \n",
       "2009-03-10          10        6             16                 0  28   \n",
       "2009-03-29           8        2             10                 0  45   \n",
       "\n",
       "            employeed(Y/N) employed_at mental_health_issues gender  year  \\\n",
       "date                                                                       \n",
       "2009-03-10            -999        -999                   No   Male  2009   \n",
       "2009-03-29            -999        -999                  Yes   Male  2009   \n",
       "\n",
       "                     state total_licensees  licensed_business_entities  \\\n",
       "date                                                                     \n",
       "2009-03-10         Alabama          115,395                     60,349   \n",
       "2009-03-29  North Carolina          115,395                     60,349   \n",
       "\n",
       "             population total_gun_deaths total_children_teen_gun_deaths  \\\n",
       "date                                                                      \n",
       "2009-03-10  307,006,550           31,347                          2,811   \n",
       "2009-03-29  307,006,550           31,347                          2,811   \n",
       "\n",
       "            state_population  state_labor_force  unemployment_rate  \n",
       "date                                                                \n",
       "2009-03-10         3621410.0          2162999.0               11.0  \n",
       "2009-03-29         7117828.0          4570789.0               10.6  "
      ]
     },
     "metadata": {},
     "execution_count": 25
    }
   ],
   "metadata": {}
  },
  {
   "cell_type": "code",
   "execution_count": 26,
   "source": [
    "df.tail(2)"
   ],
   "outputs": [
    {
     "output_type": "execute_result",
     "data": {
      "text/html": [
       "<div>\n",
       "<style scoped>\n",
       "    .dataframe tbody tr th:only-of-type {\n",
       "        vertical-align: middle;\n",
       "    }\n",
       "\n",
       "    .dataframe tbody tr th {\n",
       "        vertical-align: top;\n",
       "    }\n",
       "\n",
       "    .dataframe thead th {\n",
       "        text-align: right;\n",
       "    }\n",
       "</style>\n",
       "<table border=\"1\" class=\"dataframe\">\n",
       "  <thead>\n",
       "    <tr style=\"text-align: right;\">\n",
       "      <th></th>\n",
       "      <th>fatalities</th>\n",
       "      <th>injured</th>\n",
       "      <th>total_victims</th>\n",
       "      <th>policeman_killed</th>\n",
       "      <th>age</th>\n",
       "      <th>employeed(Y/N)</th>\n",
       "      <th>employed_at</th>\n",
       "      <th>mental_health_issues</th>\n",
       "      <th>gender</th>\n",
       "      <th>year</th>\n",
       "      <th>state</th>\n",
       "      <th>total_licensees</th>\n",
       "      <th>licensed_business_entities</th>\n",
       "      <th>population</th>\n",
       "      <th>total_gun_deaths</th>\n",
       "      <th>total_children_teen_gun_deaths</th>\n",
       "      <th>state_population</th>\n",
       "      <th>state_labor_force</th>\n",
       "      <th>unemployment_rate</th>\n",
       "    </tr>\n",
       "    <tr>\n",
       "      <th>date</th>\n",
       "      <th></th>\n",
       "      <th></th>\n",
       "      <th></th>\n",
       "      <th></th>\n",
       "      <th></th>\n",
       "      <th></th>\n",
       "      <th></th>\n",
       "      <th></th>\n",
       "      <th></th>\n",
       "      <th></th>\n",
       "      <th></th>\n",
       "      <th></th>\n",
       "      <th></th>\n",
       "      <th></th>\n",
       "      <th></th>\n",
       "      <th></th>\n",
       "      <th></th>\n",
       "      <th></th>\n",
       "      <th></th>\n",
       "    </tr>\n",
       "  </thead>\n",
       "  <tbody>\n",
       "    <tr>\n",
       "      <th>2019-12-06</th>\n",
       "      <td>3</td>\n",
       "      <td>8</td>\n",
       "      <td>11</td>\n",
       "      <td>-999</td>\n",
       "      <td>-</td>\n",
       "      <td>-999</td>\n",
       "      <td>-999</td>\n",
       "      <td>-999</td>\n",
       "      <td>Male</td>\n",
       "      <td>2019</td>\n",
       "      <td>Florida</td>\n",
       "      <td>NaN</td>\n",
       "      <td>NaN</td>\n",
       "      <td>NaN</td>\n",
       "      <td>NaN</td>\n",
       "      <td>NaN</td>\n",
       "      <td>17410114.0</td>\n",
       "      <td>10336749.0</td>\n",
       "      <td>3.1</td>\n",
       "    </tr>\n",
       "    <tr>\n",
       "      <th>2019-12-10</th>\n",
       "      <td>4</td>\n",
       "      <td>3</td>\n",
       "      <td>7</td>\n",
       "      <td>-999</td>\n",
       "      <td>47</td>\n",
       "      <td>-999</td>\n",
       "      <td>-999</td>\n",
       "      <td>-999</td>\n",
       "      <td>Male</td>\n",
       "      <td>2019</td>\n",
       "      <td>New Jersey</td>\n",
       "      <td>NaN</td>\n",
       "      <td>NaN</td>\n",
       "      <td>NaN</td>\n",
       "      <td>NaN</td>\n",
       "      <td>NaN</td>\n",
       "      <td>7070716.0</td>\n",
       "      <td>4493125.0</td>\n",
       "      <td>3.6</td>\n",
       "    </tr>\n",
       "  </tbody>\n",
       "</table>\n",
       "</div>"
      ],
      "text/plain": [
       "            fatalities  injured  total_victims  policeman_killed age  \\\n",
       "date                                                                   \n",
       "2019-12-06           3        8             11              -999   -   \n",
       "2019-12-10           4        3              7              -999  47   \n",
       "\n",
       "            employeed(Y/N) employed_at mental_health_issues gender  year  \\\n",
       "date                                                                       \n",
       "2019-12-06            -999        -999                 -999   Male  2019   \n",
       "2019-12-10            -999        -999                 -999   Male  2019   \n",
       "\n",
       "                 state total_licensees  licensed_business_entities population  \\\n",
       "date                                                                            \n",
       "2019-12-06     Florida              NaN                        NaN        NaN   \n",
       "2019-12-10  New Jersey              NaN                        NaN        NaN   \n",
       "\n",
       "           total_gun_deaths total_children_teen_gun_deaths  state_population  \\\n",
       "date                                                                           \n",
       "2019-12-06              NaN                            NaN        17410114.0   \n",
       "2019-12-10              NaN                            NaN         7070716.0   \n",
       "\n",
       "            state_labor_force  unemployment_rate  \n",
       "date                                              \n",
       "2019-12-06         10336749.0                3.1  \n",
       "2019-12-10          4493125.0                3.6  "
      ]
     },
     "metadata": {},
     "execution_count": 26
    }
   ],
   "metadata": {}
  },
  {
   "cell_type": "code",
   "execution_count": 27,
   "source": [
    "df['total_victims'][df.year==2013].sum()"
   ],
   "outputs": [
    {
     "output_type": "execute_result",
     "data": {
      "text/plain": [
       "104"
      ]
     },
     "metadata": {},
     "execution_count": 27
    }
   ],
   "metadata": {}
  },
  {
   "cell_type": "code",
   "execution_count": 31,
   "source": [
    "df['total_victims'][(df.year==2013) & (df.state=='Texas')].sum()"
   ],
   "outputs": [
    {
     "output_type": "execute_result",
     "data": {
      "text/plain": [
       "8"
      ]
     },
     "metadata": {},
     "execution_count": 31
    }
   ],
   "metadata": {}
  },
  {
   "cell_type": "markdown",
   "source": [
    "## 2.4 Explore data  \n",
    "### a. Data transforming  "
   ],
   "metadata": {}
  },
  {
   "cell_type": "code",
   "execution_count": 32,
   "source": [
    "df.info()"
   ],
   "outputs": [
    {
     "output_type": "stream",
     "name": "stdout",
     "text": [
      "<class 'pandas.core.frame.DataFrame'>\n",
      "DatetimeIndex: 224 entries, 2009-03-10 to 2019-12-10\n",
      "Data columns (total 19 columns):\n",
      " #   Column                          Non-Null Count  Dtype  \n",
      "---  ------                          --------------  -----  \n",
      " 0   fatalities                      224 non-null    int64  \n",
      " 1   injured                         224 non-null    int64  \n",
      " 2   total_victims                   224 non-null    int64  \n",
      " 3   policeman_killed                224 non-null    int64  \n",
      " 4   age                             224 non-null    object \n",
      " 5   employeed(Y/N)                  224 non-null    int64  \n",
      " 6   employed_at                     224 non-null    object \n",
      " 7   mental_health_issues            224 non-null    object \n",
      " 8   gender                          224 non-null    object \n",
      " 9   year                            224 non-null    int64  \n",
      " 10  state                           224 non-null    object \n",
      " 11  total_licensees                 214 non-null    object \n",
      " 12  licensed_business_entities      214 non-null    object \n",
      " 13  population                      214 non-null    object \n",
      " 14  total_gun_deaths                214 non-null    object \n",
      " 15  total_children_teen_gun_deaths  214 non-null    object \n",
      " 16  state_population                217 non-null    float64\n",
      " 17  state_labor_force               217 non-null    float64\n",
      " 18  unemployment_rate               217 non-null    float64\n",
      "dtypes: float64(3), int64(6), object(10)\n",
      "memory usage: 35.0+ KB\n"
     ]
    }
   ],
   "metadata": {}
  },
  {
   "cell_type": "markdown",
   "source": [
    "##  2.5 Target variables  \r\n",
    "index: Year 2009 - 2019  \r\n",
    "Dependent variable (y): total_victims\r\n",
    "Independent variables (Xi): population, state population, suspect_age, total_licensees, unemployment_rate"
   ],
   "metadata": {}
  },
  {
   "cell_type": "markdown",
   "source": [
    "## 2.6 Save data  "
   ],
   "metadata": {}
  },
  {
   "cell_type": "code",
   "execution_count": 284,
   "source": [
    "df.to_csv('../data/Clean_data/MassShooting2009_2019_final.csv')"
   ],
   "outputs": [],
   "metadata": {}
  },
  {
   "cell_type": "markdown",
   "source": [
    "## 2.7 Summary  "
   ],
   "metadata": {}
  }
 ]
}