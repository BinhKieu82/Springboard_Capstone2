{
 "metadata": {
  "language_info": {
   "codemirror_mode": {
    "name": "ipython",
    "version": 3
   },
   "file_extension": ".py",
   "mimetype": "text/x-python",
   "name": "python",
   "nbconvert_exporter": "python",
   "pygments_lexer": "ipython3",
   "version": "3.7.9"
  },
  "orig_nbformat": 2,
  "kernelspec": {
   "name": "python3",
   "display_name": "Python 3.7.9 64-bit ('DS': conda)"
  },
  "interpreter": {
   "hash": "b4bb8b8d2cc883794a51857fbbb51c36637924a112e0ed7b23f7b7e3860b68ad"
  }
 },
 "nbformat": 4,
 "nbformat_minor": 2,
 "cells": [
  {
   "cell_type": "markdown",
   "source": [
    "# 2. Data wrangling   \r\n",
    "### 2.1 Data overviews  \r\n",
    "### 2.2 Importing related libs & modules  \r\n",
    "### 2.3 Loading data  \r\n",
    "- Gun Possession: Total of gun licensees per <span style=\"color:red\">year</span>  \r\n",
    "- Gun Deaths: Total gun deaths (homicide, sucide...) per <span style=\"color:red\">year</span>  \r\n",
    "- Mass Shooting: Number of mass shooting cases with shooter age, gender, mental health, employment by <span style=\"color:red\">year, states</span>  \r\n",
    "- Unemployment rate: Unemployment rate by <span style=\"color:red\">years, states</span>  \r\n",
    "### 2.4 Explore the data  \r\n",
    "- Data distribution & missing values  \r\n",
    "- Numeric features  \r\n",
    "- Category features   \r\n",
    "### 2.5 Target variables  \r\n",
    "### 2.6 Save data  \r\n",
    "### 2.7 Sumary  \r\n"
   ],
   "metadata": {}
  },
  {
   "cell_type": "markdown",
   "source": [
    "## 2.1 Data Overviews  \r\n",
    "### input data  \r\n",
    "index: Year 2009 - 2018  \r\n",
    "Dependent variable (y): Total mass shooting victims      \r\n",
    "Independent variables (Xi): population, state_population, age, gender, total_licensees, unemployment_rate, employees, mental_health_issues\r\n",
    "  \r\n",
    "### What to do  \r\n",
    "Load, transform "
   ],
   "metadata": {}
  },
  {
   "cell_type": "markdown",
   "source": [
    "## 2.2 Import libs & modules  \n",
    "### geoplot for geodetic display"
   ],
   "metadata": {}
  },
  {
   "cell_type": "code",
   "execution_count": 1,
   "source": [
    "import numpy as np\r\n",
    "import pandas as pd\r\n",
    "import matplotlib.pyplot as plt\r\n",
    "from plotly.offline import init_notebook_mode, iplot\r\n",
    "import plotly.graph_objs as go\r\n",
    "import seaborn as sns\r\n",
    "import os\r\n",
    "\r\n",
    "from library.sb_utils import save_file"
   ],
   "outputs": [],
   "metadata": {}
  },
  {
   "cell_type": "markdown",
   "source": [
    "## 2.3 Loading data  \r\n",
    "### DF: GunDeaths_2009_2018; GunPossession_1986_2018; Mass_Shooting; Employment;   \r\n",
    "Additional data sorting by year."
   ],
   "metadata": {}
  },
  {
   "cell_type": "code",
   "execution_count": 2,
   "source": [
    "GunDeaths_2009_2018  = pd.read_csv('../data/USA_Crimes/GunDeaths_2009_2018.csv').set_index('Year')\r\n",
    "GunPossession_1986_2018 = pd.read_csv('../data/USA_Crimes/GunPossession_1986_2018.csv', index_col=0)"
   ],
   "outputs": [],
   "metadata": {}
  },
  {
   "cell_type": "code",
   "execution_count": 3,
   "source": [
    "GunPossession_1986_2018 = GunPossession_1986_2018[['Total Licensees ','Licensed Business Entities']]\r\n",
    "GunPossession_1986_2018.columns = ['total_licensees ','licensed_business_entities']\r\n",
    "GunPossession_1986_2018['year'] = GunPossession_1986_2018.index\r\n",
    "# GunPossession_1986_2018.info()"
   ],
   "outputs": [],
   "metadata": {}
  },
  {
   "cell_type": "code",
   "execution_count": 4,
   "source": [
    "GunDeaths_2009_2018 = GunDeaths_2009_2018[['Population','Total gun deaths','Total children and teen gun deaths']]\r\n",
    "GunDeaths_2009_2018.columns = ['population','total_gun_deaths','total_children_teen_gun_deaths']\r\n",
    "GunDeaths_2009_2018['year'] = GunDeaths_2009_2018.index\r\n",
    "# GunDeaths_2009_2018.columns "
   ],
   "outputs": [],
   "metadata": {}
  },
  {
   "cell_type": "markdown",
   "source": [
    "### **Combine data**\r\n",
    "#### Data: $\\color{cyan}{\\text{Year, Polpulation, Total licenses, Gun deaths, age, gender.}}$\r\n",
    "#### Additional data = GunDeaths_2009_2018 + GunPossession_1986_2018 + Employment by year & states"
   ],
   "metadata": {}
  },
  {
   "cell_type": "markdown",
   "source": [
    "Yearly employment info by states"
   ],
   "metadata": {}
  },
  {
   "cell_type": "code",
   "execution_count": 5,
   "source": [
    "Employment_header = ['FIPS Code', 'State and area', 'Year', 'Civilian non-institutional population', \r\n",
    "  'Civilian labor force/Total', 'Civilian labor force/Percent of population', \r\n",
    "  'Civilian labor force/Employment/Total', 'Civilian labor force/Employment/Percent of population',\r\n",
    "  'Civilian labor force/Unemployment/Total','Civilian labor force/Unemployment/Rate']"
   ],
   "outputs": [],
   "metadata": {}
  },
  {
   "cell_type": "code",
   "execution_count": 122,
   "source": [
    "# Employment = pd.read_excel('../data/USA_Crimes/staadata.xlsx', header=0)\r\n",
    "Employment=pd.read_excel(\r\n",
    "     os.path.join(\"../data/USA_Crimes/\", \"staadata.xlsx\"),\r\n",
    "     engine='openpyxl', header=None, names= Employment_header,skiprows=8\r\n",
    ").set_index('Year')"
   ],
   "outputs": [],
   "metadata": {}
  },
  {
   "cell_type": "code",
   "execution_count": 123,
   "source": [
    "Employment = Employment[['State and area', 'Civilian non-institutional population', \r\n",
    "  'Civilian labor force/Total','Civilian labor force/Unemployment/Rate']]\r\n",
    "Employment.columns = ['state','state_population','state_labor_force','unemployment_rate']\r\n",
    "Employment['year'] = Employment.index"
   ],
   "outputs": [],
   "metadata": {}
  },
  {
   "cell_type": "code",
   "execution_count": 16,
   "source": [
    "Employment.head(2)"
   ],
   "outputs": [
    {
     "output_type": "execute_result",
     "data": {
      "text/html": [
       "<div>\n",
       "<style scoped>\n",
       "    .dataframe tbody tr th:only-of-type {\n",
       "        vertical-align: middle;\n",
       "    }\n",
       "\n",
       "    .dataframe tbody tr th {\n",
       "        vertical-align: top;\n",
       "    }\n",
       "\n",
       "    .dataframe thead th {\n",
       "        text-align: right;\n",
       "    }\n",
       "</style>\n",
       "<table border=\"1\" class=\"dataframe\">\n",
       "  <thead>\n",
       "    <tr style=\"text-align: right;\">\n",
       "      <th></th>\n",
       "      <th>state</th>\n",
       "      <th>state_population</th>\n",
       "      <th>state_labor_force</th>\n",
       "      <th>unemployment_rate</th>\n",
       "      <th>year</th>\n",
       "    </tr>\n",
       "    <tr>\n",
       "      <th>Year</th>\n",
       "      <th></th>\n",
       "      <th></th>\n",
       "      <th></th>\n",
       "      <th></th>\n",
       "      <th></th>\n",
       "    </tr>\n",
       "  </thead>\n",
       "  <tbody>\n",
       "    <tr>\n",
       "      <th>1976</th>\n",
       "      <td>Alabama</td>\n",
       "      <td>2632667</td>\n",
       "      <td>1501284</td>\n",
       "      <td>6.8</td>\n",
       "      <td>1976</td>\n",
       "    </tr>\n",
       "    <tr>\n",
       "      <th>1976</th>\n",
       "      <td>Alaska</td>\n",
       "      <td>239917</td>\n",
       "      <td>163570</td>\n",
       "      <td>7.6</td>\n",
       "      <td>1976</td>\n",
       "    </tr>\n",
       "  </tbody>\n",
       "</table>\n",
       "</div>"
      ],
      "text/plain": [
       "        state  state_population  state_labor_force  unemployment_rate  year\n",
       "Year                                                                       \n",
       "1976  Alabama           2632667            1501284                6.8  1976\n",
       "1976   Alaska            239917             163570                7.6  1976"
      ]
     },
     "metadata": {},
     "execution_count": 16
    }
   ],
   "metadata": {}
  },
  {
   "cell_type": "code",
   "execution_count": 20,
   "source": [
    "Employment.info()"
   ],
   "outputs": [
    {
     "output_type": "stream",
     "name": "stdout",
     "text": [
      "<class 'pandas.core.frame.DataFrame'>\n",
      "Int64Index: 2332 entries, 1976 to 2019\n",
      "Data columns (total 5 columns):\n",
      " #   Column             Non-Null Count  Dtype  \n",
      "---  ------             --------------  -----  \n",
      " 0   state              2332 non-null   object \n",
      " 1   state_population   2332 non-null   int64  \n",
      " 2   state_labor_force  2332 non-null   int64  \n",
      " 3   unemployment_rate  2332 non-null   float64\n",
      " 4   year               2332 non-null   int64  \n",
      "dtypes: float64(1), int64(3), object(1)\n",
      "memory usage: 109.3+ KB\n"
     ]
    }
   ],
   "metadata": {}
  },
  {
   "cell_type": "markdown",
   "source": [
    "#### DF = GunDeaths_2009_2018 + GunPossession_1986_2018 + Employment + Mass shooting by year & states  \r\n",
    "Mass shooting for total_victims, employees, mental health, age, gender, employed_at"
   ],
   "metadata": {}
  },
  {
   "cell_type": "code",
   "execution_count": 124,
   "source": [
    "Mass_Shooting = pd.read_csv('../data/USA_Crimes/USMassShooting19662019(cleaned).csv', parse_dates=True, index_col='Date')"
   ],
   "outputs": [],
   "metadata": {}
  },
  {
   "cell_type": "code",
   "execution_count": 125,
   "source": [
    "MS_column_drop = ['S#','Title','Area','Incident Area','Open/Close Location','Target','Cause','Summary',\r\n",
    "  'Shooter status','No. of shooter/suspect','Race','Latitude','Longitude']\r\n",
    "Mass_Shooting.sort_index(inplace=True)\r\n",
    "Mass_Shooting.drop(MS_column_drop, axis=1, inplace=True)"
   ],
   "outputs": [],
   "metadata": {}
  },
  {
   "cell_type": "code",
   "execution_count": 126,
   "source": [
    "Mass_Shooting['date'] = pd.to_datetime(Mass_Shooting.index)\r\n",
    "Mass_Shooting['year'] = Mass_Shooting['date'].dt.year\r\n",
    "# Mass_Shooting['month'] = Mass_Shooting['date'].dt.month\r\n",
    "# Mass_Shooting['monthday'] = Mass_Shooting['date'].dt.day\r\n",
    "# Mass_Shooting['weekday'] = Mass_Shooting['date'].dt.weekday"
   ],
   "outputs": [],
   "metadata": {}
  },
  {
   "cell_type": "code",
   "execution_count": 127,
   "source": [
    "#get states from locations\r\n",
    "def get_state(txt):\r\n",
    "    val = txt.split(\", \")[-1]            \r\n",
    "    return val\r\n",
    "\r\n",
    "Mass_Shooting['state'] = Mass_Shooting['Location'].apply(lambda x : get_state(x))"
   ],
   "outputs": [],
   "metadata": {}
  },
  {
   "cell_type": "code",
   "execution_count": 128,
   "source": [
    "Mass_Shooting.drop('Location',axis=1,inplace=True)\r\n",
    "Mass_Shooting.columns = ['fatalities', 'injured', 'total_victims',\r\n",
    "       'policeman_killed', 'age', 'employeed(Y/N)', 'employed_at',\r\n",
    "       'mental_health_issues', 'gender', 'date', 'year', 'state']"
   ],
   "outputs": [],
   "metadata": {}
  },
  {
   "cell_type": "code",
   "execution_count": 129,
   "source": [
    "print(len(np.sort(Mass_Shooting.state.unique())),np.sort(Mass_Shooting.state.unique()))\r\n",
    "print(len(np.sort(Employment.state.unique())),np.sort(Employment.state.unique()))"
   ],
   "outputs": [
    {
     "output_type": "stream",
     "name": "stdout",
     "text": [
      "53 [' Virginia' 'Alabama' 'Alaska' 'Arizona' 'Arkansas' 'CA' 'California'\n",
      " 'Colorado' 'Connecticut' 'Delaware' 'Florida' 'Georgia' 'Hawaii' 'Idaho'\n",
      " 'Illinois' 'Indiana' 'Iowa' 'Kansas' 'Kentucky' 'Louisiana' 'Lousiana'\n",
      " 'Maine' 'Maryland' 'Massachusetts' 'Michigan' 'Minnesota' 'Mississippi'\n",
      " 'Missouri' 'Montana' 'NV' 'Nebraska' 'Nevada' 'New Jersey' 'New Mexico'\n",
      " 'New York' 'North Carolina' 'Ohio' 'Oklahoma' 'Oregon' 'Pennsylvania'\n",
      " 'South Carolina' 'South Dakota' 'Tennessee' 'Texas' 'Texas ' 'Utah'\n",
      " 'Vermont' 'Virginia' 'Washington' 'Washington D.C.' 'West Virginia'\n",
      " 'Wisconsin' 'Wyoming']\n",
      "53 ['Alabama' 'Alaska' 'Arizona' 'Arkansas' 'California' 'Colorado'\n",
      " 'Connecticut' 'Delaware' 'District of Columbia' 'Florida' 'Georgia'\n",
      " 'Hawaii' 'Idaho' 'Illinois' 'Indiana' 'Iowa' 'Kansas' 'Kentucky'\n",
      " 'Los Angeles County' 'Louisiana' 'Maine' 'Maryland' 'Massachusetts'\n",
      " 'Michigan' 'Minnesota' 'Mississippi' 'Missouri' 'Montana' 'Nebraska'\n",
      " 'Nevada' 'New Hampshire' 'New Jersey' 'New Mexico' 'New York'\n",
      " 'New York city' 'North Carolina' 'North Dakota' 'Ohio' 'Oklahoma'\n",
      " 'Oregon' 'Pennsylvania' 'Rhode Island' 'South Carolina' 'South Dakota'\n",
      " 'Tennessee' 'Texas' 'Utah' 'Vermont' 'Virginia' 'Washington'\n",
      " 'West Virginia' 'Wisconsin' 'Wyoming']\n"
     ]
    }
   ],
   "metadata": {}
  },
  {
   "cell_type": "code",
   "execution_count": 130,
   "source": [
    "name_revise = {'District of Columbia': 'Washington D.C.','NV': 'Nevada','New York city': 'New York',\r\n",
    "'CA': 'California','Lousiana': 'Louisiana','Los Angeles County': 'California',\r\n",
    "'Texas ': 'Texas',' Virginia': 'Virginia'}\r\n",
    "\r\n",
    "# Employment[\"state\"] = Employment[\"state\"].apply(lambda x: name_revise.get(x))\r\n",
    "# Mass_Shooting[\"state\"] = Mass_Shooting[\"state\"].apply(lambda x: str(name_revise.get(x)))\r\n",
    "\r\n",
    "Mass_Shooting[\"state\"].replace(name_revise, inplace=True)\r\n",
    "Employment[\"state\"].replace(name_revise, inplace=True)\r\n"
   ],
   "outputs": [],
   "metadata": {}
  },
  {
   "cell_type": "code",
   "execution_count": 131,
   "source": [
    "print(len(np.sort(Mass_Shooting.state.unique())),np.sort(Mass_Shooting.state.unique()))\r\n",
    "print(len(np.sort(Employment.state.unique())),np.sort(Employment.state.unique()))"
   ],
   "outputs": [
    {
     "output_type": "stream",
     "name": "stdout",
     "text": [
      "48 ['Alabama' 'Alaska' 'Arizona' 'Arkansas' 'California' 'Colorado'\n",
      " 'Connecticut' 'Delaware' 'Florida' 'Georgia' 'Hawaii' 'Idaho' 'Illinois'\n",
      " 'Indiana' 'Iowa' 'Kansas' 'Kentucky' 'Louisiana' 'Maine' 'Maryland'\n",
      " 'Massachusetts' 'Michigan' 'Minnesota' 'Mississippi' 'Missouri' 'Montana'\n",
      " 'Nebraska' 'Nevada' 'New Jersey' 'New Mexico' 'New York' 'North Carolina'\n",
      " 'Ohio' 'Oklahoma' 'Oregon' 'Pennsylvania' 'South Carolina' 'South Dakota'\n",
      " 'Tennessee' 'Texas' 'Utah' 'Vermont' 'Virginia' 'Washington'\n",
      " 'Washington D.C.' 'West Virginia' 'Wisconsin' 'Wyoming']\n",
      "51 ['Alabama' 'Alaska' 'Arizona' 'Arkansas' 'California' 'Colorado'\n",
      " 'Connecticut' 'Delaware' 'Florida' 'Georgia' 'Hawaii' 'Idaho' 'Illinois'\n",
      " 'Indiana' 'Iowa' 'Kansas' 'Kentucky' 'Louisiana' 'Maine' 'Maryland'\n",
      " 'Massachusetts' 'Michigan' 'Minnesota' 'Mississippi' 'Missouri' 'Montana'\n",
      " 'Nebraska' 'Nevada' 'New Hampshire' 'New Jersey' 'New Mexico' 'New York'\n",
      " 'North Carolina' 'North Dakota' 'Ohio' 'Oklahoma' 'Oregon' 'Pennsylvania'\n",
      " 'Rhode Island' 'South Carolina' 'South Dakota' 'Tennessee' 'Texas' 'Utah'\n",
      " 'Vermont' 'Virginia' 'Washington' 'Washington D.C.' 'West Virginia'\n",
      " 'Wisconsin' 'Wyoming']\n"
     ]
    }
   ],
   "metadata": {}
  },
  {
   "cell_type": "code",
   "execution_count": 132,
   "source": [
    "emp_state = np.sort(Employment.state.unique())\r\n",
    "mas_state = np.sort(Mass_Shooting.state.unique())\r\n",
    "print(set(emp_state)^set(mas_state))"
   ],
   "outputs": [
    {
     "output_type": "stream",
     "name": "stdout",
     "text": [
      "{'North Dakota', 'New Hampshire', 'Rhode Island'}\n"
     ]
    }
   ],
   "metadata": {}
  },
  {
   "cell_type": "code",
   "execution_count": 133,
   "source": [
    "print(Mass_Shooting.shape,GunPossession_1986_2018.shape,GunDeaths_2009_2018.shape,Employment.shape)"
   ],
   "outputs": [
    {
     "output_type": "stream",
     "name": "stdout",
     "text": [
      "(339, 12) (33, 3) (10, 4) (2332, 5)\n"
     ]
    }
   ],
   "metadata": {}
  },
  {
   "cell_type": "markdown",
   "source": [
    "### Start merging data"
   ],
   "metadata": {}
  },
  {
   "cell_type": "code",
   "execution_count": 134,
   "source": [
    "df = pd.merge(Mass_Shooting,GunPossession_1986_2018,on=['year'],how='left')"
   ],
   "outputs": [],
   "metadata": {}
  },
  {
   "cell_type": "code",
   "execution_count": 135,
   "source": [
    "df = pd.merge(df,GunDeaths_2009_2018,on=['year'],how='left')"
   ],
   "outputs": [],
   "metadata": {}
  },
  {
   "cell_type": "code",
   "execution_count": 136,
   "source": [
    "df = pd.merge(df,Employment,on=['year','state'],how='left')"
   ],
   "outputs": [],
   "metadata": {}
  },
  {
   "cell_type": "code",
   "execution_count": 137,
   "source": [
    "df.set_index('date',inplace=True)"
   ],
   "outputs": [],
   "metadata": {}
  },
  {
   "cell_type": "markdown",
   "source": [
    "#### Filter data within 2009-2018 of which the mass shooting data is fully covered"
   ],
   "metadata": {}
  },
  {
   "cell_type": "code",
   "execution_count": null,
   "source": [
    "df.drop(df[(df.year<2009) | (df.year>2018)].index,inplace=True)"
   ],
   "outputs": [],
   "metadata": {}
  },
  {
   "cell_type": "code",
   "execution_count": 139,
   "source": [
    "print(Mass_Shooting.shape,GunPossession_1986_2018.shape,GunDeaths_2009_2018.shape,Employment.shape,df.shape)"
   ],
   "outputs": [
    {
     "output_type": "stream",
     "name": "stdout",
     "text": [
      "(339, 12) (33, 3) (10, 4) (2332, 5) (244, 19)\n"
     ]
    }
   ],
   "metadata": {}
  },
  {
   "cell_type": "markdown",
   "source": [
    "#### Few attempts of exploring final data"
   ],
   "metadata": {}
  },
  {
   "cell_type": "code",
   "execution_count": 142,
   "source": [
    "df['total_victims'][df.year==2013].sum()"
   ],
   "outputs": [
    {
     "output_type": "execute_result",
     "data": {
      "text/plain": [
       "133"
      ]
     },
     "metadata": {},
     "execution_count": 142
    }
   ],
   "metadata": {}
  },
  {
   "cell_type": "code",
   "execution_count": 141,
   "source": [
    "df['total_victims'][(df.year==2018) & (df.state=='Texas')].sum()"
   ],
   "outputs": [
    {
     "output_type": "execute_result",
     "data": {
      "text/plain": [
       "23"
      ]
     },
     "metadata": {},
     "execution_count": 141
    }
   ],
   "metadata": {}
  },
  {
   "cell_type": "markdown",
   "source": [
    "## 2.4 Explore data  \r\n",
    "### Data transforming  "
   ],
   "metadata": {}
  },
  {
   "cell_type": "code",
   "execution_count": 144,
   "source": [
    "df.isnull().sum()"
   ],
   "outputs": [
    {
     "output_type": "execute_result",
     "data": {
      "text/plain": [
       "fatalities                        0\n",
       "injured                           0\n",
       "total_victims                     0\n",
       "policeman_killed                  0\n",
       "age                               0\n",
       "employeed(Y/N)                    0\n",
       "employed_at                       0\n",
       "mental_health_issues              0\n",
       "gender                            0\n",
       "year                              0\n",
       "state                             0\n",
       "total_licensees                   0\n",
       "licensed_business_entities        0\n",
       "population                        0\n",
       "total_gun_deaths                  0\n",
       "total_children_teen_gun_deaths    0\n",
       "state_population                  0\n",
       "state_labor_force                 0\n",
       "unemployment_rate                 0\n",
       "dtype: int64"
      ]
     },
     "metadata": {},
     "execution_count": 144
    }
   ],
   "metadata": {}
  },
  {
   "cell_type": "code",
   "execution_count": 146,
   "source": [
    "df.info()"
   ],
   "outputs": [
    {
     "output_type": "stream",
     "name": "stdout",
     "text": [
      "<class 'pandas.core.frame.DataFrame'>\n",
      "DatetimeIndex: 244 entries, 2009-03-10 to 2018-11-19\n",
      "Data columns (total 19 columns):\n",
      " #   Column                          Non-Null Count  Dtype  \n",
      "---  ------                          --------------  -----  \n",
      " 0   fatalities                      244 non-null    int64  \n",
      " 1   injured                         244 non-null    int64  \n",
      " 2   total_victims                   244 non-null    int64  \n",
      " 3   policeman_killed                244 non-null    int64  \n",
      " 4   age                             244 non-null    object \n",
      " 5   employeed(Y/N)                  244 non-null    int64  \n",
      " 6   employed_at                     244 non-null    object \n",
      " 7   mental_health_issues            244 non-null    object \n",
      " 8   gender                          244 non-null    object \n",
      " 9   year                            244 non-null    int64  \n",
      " 10  state                           244 non-null    object \n",
      " 11  total_licensees                 244 non-null    object \n",
      " 12  licensed_business_entities      244 non-null    object \n",
      " 13  population                      244 non-null    object \n",
      " 14  total_gun_deaths                244 non-null    object \n",
      " 15  total_children_teen_gun_deaths  244 non-null    object \n",
      " 16  state_population                244 non-null    float64\n",
      " 17  state_labor_force               244 non-null    float64\n",
      " 18  unemployment_rate               244 non-null    float64\n",
      "dtypes: float64(3), int64(6), object(10)\n",
      "memory usage: 38.1+ KB\n"
     ]
    }
   ],
   "metadata": {}
  },
  {
   "cell_type": "markdown",
   "source": [
    "##  2.5 Target variables  \r\n",
    "index: Year 2009 - 2018  \r\n",
    "Dependent variable (y): total_victims  \r\n",
    "Independent variables (Xi): population, state_population, age, gender, total_licensees, unemployment_rate, employees, mental_health_issues"
   ],
   "metadata": {}
  },
  {
   "cell_type": "markdown",
   "source": [
    "## 2.6 Save data  "
   ],
   "metadata": {}
  },
  {
   "cell_type": "code",
   "execution_count": 145,
   "source": [
    "df.to_csv('../data/Clean_data/MassShooting2009_2018_final.csv')"
   ],
   "outputs": [],
   "metadata": {}
  },
  {
   "cell_type": "markdown",
   "source": [
    "## 2.7 Summary  "
   ],
   "metadata": {}
  },
  {
   "cell_type": "markdown",
   "source": [
    "- The final data is a time series which has 19 features and 244 not-null observations.  \r\n",
    "- Keys features are total_victims, population, state_population, age, gender, total_licensees, unemployment_rate, employees, mental_health_issues.  \r\n",
    "- The data need to be dived deeper, processed & statistical analyzed in order to form hypothesis & determine them to get as much insights as possible. Those futher steps are in the next EDA stage."
   ],
   "metadata": {}
  },
  {
   "cell_type": "markdown",
   "source": [],
   "metadata": {}
  }
 ]
}