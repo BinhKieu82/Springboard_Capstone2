{
 "metadata": {
  "language_info": {
   "codemirror_mode": {
    "name": "ipython",
    "version": 3
   },
   "file_extension": ".py",
   "mimetype": "text/x-python",
   "name": "python",
   "nbconvert_exporter": "python",
   "pygments_lexer": "ipython3",
   "version": "3.8.6-final"
  },
  "orig_nbformat": 2,
  "kernelspec": {
   "name": "python3",
   "display_name": "Python 3",
   "language": "python"
  }
 },
 "nbformat": 4,
 "nbformat_minor": 2,
 "cells": [
  {
   "source": [
    "# 2. Data wrangling   \n",
    "   ### * 2.1 Data overviews  \n",
    "   ### * 2.2 Importing related libs & modules  \n",
    "   ### * 2.3 Loading data  \n",
    "        * a. Gun Possession: number of guns by $\\color{red}{\\text{years}}$  \n",
    "        * b. Gun Deaths: number of deaths (homicide, sucide...) by $\\color{red}{\\text{years}}$  \n",
    "        * c. [Firearm Deaths by Age](https://webappa.cdc.gov/sasweb/ncipc/mortrate.html): No of death group by age listed by $\\color{red}{\\text{years}}$  \n",
    "        * d. Mass Shooting: No cases of shooting with shooter age, employeed  by $\\color{red}{\\text{years, states}}$  \n",
    "        * e. Unemployment rate: Unemployment rate by $\\color{red}{\\text{years, states}}$  \n",
    "   ### * 2.4 Explore the data  \n",
    "        * a. Data distribution & missing values  \n",
    "        * b. Numeric features  \n",
    "        * c. Category features   \n",
    "   ### * 2.5 Target variables  \n",
    "   ### * 2.6 Save data  \n",
    "   ### * 2.7 Sumary  \n"
   ],
   "cell_type": "markdown",
   "metadata": {}
  },
  {
   "source": [
    "## 2.1 Data Overviews  \n",
    "### Targeted data  \n",
    "index: Year 2009 - 2018  \n",
    "Dependent variable (y): Gun deaths; Age group; Shooter age; Employeed;    \n",
    "Independent variables (Xi): Population, Gun possession, Employment rate, Election year  \n",
    "  \n",
    "### What to do  \n",
    "Load, transform & visualize data.  \n",
    "Q: Add more features for the prediction?  "
   ],
   "cell_type": "markdown",
   "metadata": {}
  },
  {
   "source": [
    "## 2.2 Import libs & modules  \n",
    "### geoplot for geodetic display"
   ],
   "cell_type": "markdown",
   "metadata": {}
  },
  {
   "cell_type": "code",
   "execution_count": 1,
   "metadata": {},
   "outputs": [],
   "source": [
    "import numpy as np\n",
    "import pandas as pd\n",
    "import matplotlib.pyplot as plt\n",
    "from plotly.offline import init_notebook_mode, iplot\n",
    "import plotly.graph_objs as go\n",
    "import seaborn as sns\n",
    "import os\n",
    "\n",
    "from library.sb_utils import save_file"
   ]
  },
  {
   "source": [
    "## 2.3 Loading data  \n",
    "### DF: GunDeaths_2009_2018; FirearmDeaths_2000_2018; GunPossession_1986_2018; Mass_Shooting; Employment;  "
   ],
   "cell_type": "markdown",
   "metadata": {}
  },
  {
   "cell_type": "code",
   "execution_count": 2,
   "metadata": {},
   "outputs": [],
   "source": [
    "GunDeaths_2009_2018  = pd.read_csv('../data/USA_Crimes/GunDeaths_2009_2018.csv').set_index('Year')\n",
    "FirearmDeaths_2000_2018  = pd.read_csv('../data/USA_Crimes/FirearmDeaths2000_2018.csv').set_index('Year')\n",
    "GunPossession_1986_2018 = pd.read_csv('../data/USA_Crimes/GunPossession_1986_2018.csv', index_col=0)"
   ]
  },
  {
   "cell_type": "code",
   "execution_count": 3,
   "metadata": {},
   "outputs": [],
   "source": [
    "GunPossession_1986_2018 = GunPossession_1986_2018[['Total Manufactured Firearms','Total Imports','Total Licensees ']]\n",
    "# GunPossession_1986_2018.info()"
   ]
  },
  {
   "cell_type": "code",
   "execution_count": 4,
   "metadata": {},
   "outputs": [
    {
     "output_type": "execute_result",
     "data": {
      "text/plain": [
       "Index(['Population', 'Total gun deaths', 'Total children and teen gun deaths'], dtype='object')"
      ]
     },
     "metadata": {},
     "execution_count": 4
    }
   ],
   "source": [
    "GunDeaths_2009_2018 = GunDeaths_2009_2018[['Population','Total gun deaths','Total children and teen gun deaths']]\n",
    "GunDeaths_2009_2018.columns"
   ]
  },
  {
   "cell_type": "code",
   "execution_count": 5,
   "metadata": {},
   "outputs": [
    {
     "output_type": "execute_result",
     "data": {
      "text/plain": [
       "Index(['Sex', 'Race', 'Age Group', 'Deaths', 'Population', 'Crude Rate'], dtype='object')"
      ]
     },
     "metadata": {},
     "execution_count": 5
    }
   ],
   "source": [
    "FirearmDeaths_2000_2018.drop(['State','Ethnicity','First Year','Last Year','Cause of Death'], axis=1, inplace=True)\n",
    "FirearmDeaths_2000_2018.columns"
   ]
  },
  {
   "source": [
    "### Combine data\n",
    "##### Data1: $\\color{cyan}{\\text{Year, Polpulation, Total firearms, Total licenses, Gun deaths, age group, sex, race.}}$\n",
    "##### DF1 = GunDeaths_2009_2018 + FirearmDeaths_2000_2018 + GunPossession_1986_2018"
   ],
   "cell_type": "markdown",
   "metadata": {}
  },
  {
   "cell_type": "code",
   "execution_count": 6,
   "metadata": {},
   "outputs": [],
   "source": [
    "Employment_header = ['FIPS Code', 'State and area', 'Year', 'Civilian non-institutional population', 'Civilian labor force/Total', 'Civilian labor force', 'Civilian labor force/Percent of population', 'Civilian labor force/Employment/Total', 'Civilian labor force/Employment/Percent of population','Civilian labor force/Unemployment/Total','Civilian labor force/Unemployment/Rate']"
   ]
  },
  {
   "cell_type": "code",
   "execution_count": 7,
   "metadata": {},
   "outputs": [],
   "source": [
    "# Employment = pd.read_excel('../data/USA_Crimes/staadata.xlsx', header=0)\n",
    "Employment=pd.read_excel(\n",
    "     os.path.join(\"../data/USA_Crimes/\", \"staadata.xlsx\"),\n",
    "     engine='openpyxl', header=None, names= Employment_header\n",
    ").set_index('Year')"
   ]
  },
  {
   "cell_type": "code",
   "execution_count": 8,
   "metadata": {},
   "outputs": [],
   "source": [
    "Employment = Employment.iloc[8:]\n",
    "# Employment.head(10)"
   ]
  },
  {
   "cell_type": "code",
   "execution_count": 9,
   "metadata": {},
   "outputs": [],
   "source": [
    "Mass_Shooting = pd.read_csv('../data/USA_Crimes/US Mass Shooting 1966-2019 (cleaned).csv', parse_dates=True, index_col='Date')"
   ]
  },
  {
   "cell_type": "code",
   "execution_count": 10,
   "metadata": {},
   "outputs": [],
   "source": [
    "MS_column_drop = ['S#','Open/Close Location','Latitude','Longitude']\n",
    "Mass_Shooting.sort_index(inplace=True)\n",
    "Mass_Shooting.drop(MS_column_drop, axis=1, inplace=True)"
   ]
  },
  {
   "cell_type": "code",
   "execution_count": 11,
   "metadata": {},
   "outputs": [],
   "source": [
    "Mass_Shooting['date'] = pd.to_datetime(Mass_Shooting.index)\n",
    "Mass_Shooting['year'] = Mass_Shooting['date'].dt.year\n",
    "Mass_Shooting['month'] = Mass_Shooting['date'].dt.month\n",
    "Mass_Shooting['monthday'] = Mass_Shooting['date'].dt.day\n",
    "Mass_Shooting['weekday'] = Mass_Shooting['date'].dt.weekday"
   ]
  },
  {
   "cell_type": "code",
   "execution_count": 12,
   "metadata": {},
   "outputs": [],
   "source": [
    "def get_state(txt):\n",
    "    val = txt.split(\", \")[-1]            \n",
    "    return val\n",
    "\n",
    "Mass_Shooting['state'] = Mass_Shooting['Location'].apply(lambda x : get_state(x))"
   ]
  },
  {
   "source": [
    "### Combine data \n",
    "##### Data2: $\\color{cyan}{\\text{Year, State, Population, Unemployment rate, Gun violent cases, Shooter gender, Shooter age, Employeed.}}$  \n",
    "##### DF2 = Gun_violence_2013_2018  + Mass_shooting + Employment"
   ],
   "cell_type": "markdown",
   "metadata": {}
  },
  {
   "cell_type": "code",
   "execution_count": 13,
   "metadata": {},
   "outputs": [],
   "source": [
    "Gun_Violence_2013_2018 = pd.read_csv('../data/USA_Crimes/gun-violence-data_01-2013_03-2018.csv', parse_dates=True, index_col='date')\n",
    "# GV_column_drop = ['incident_id','city_or_county','address','gun_stolen','incident_url','source_url','location_description','incident_characteristics','participant_name','incident_url_fields_missing', 'participant_status','congressional_district','latitude','longitude','sources','state_house_district','state_senate_district']\n",
    "# Gun_Violence_2013_2018.sort_index(inplace=True)\n",
    "# Gun_Violence_2013_2018.drop(GV_column_drop, axis=1, inplace=True)"
   ]
  },
  {
   "cell_type": "code",
   "execution_count": 14,
   "metadata": {},
   "outputs": [],
   "source": [
    "Gun_Violence_2013_2018['date'] = pd.to_datetime(Gun_Violence_2013_2018.index)\n",
    "Gun_Violence_2013_2018['year'] = Gun_Violence_2013_2018['date'].dt.year\n",
    "Gun_Violence_2013_2018['month'] = Gun_Violence_2013_2018['date'].dt.month\n",
    "Gun_Violence_2013_2018['monthday'] = Gun_Violence_2013_2018['date'].dt.day\n",
    "Gun_Violence_2013_2018['weekday'] = Gun_Violence_2013_2018['date'].dt.weekday\n",
    "Gun_Violence_2013_2018['Total victims'] = Gun_Violence_2013_2018['n_killed'] + Gun_Violence_2013_2018['n_injured']"
   ]
  },
  {
   "source": [
    "## 2.4 Explore data  \n",
    "### a. Data transforming  "
   ],
   "cell_type": "markdown",
   "metadata": {}
  },
  {
   "cell_type": "code",
   "execution_count": 15,
   "metadata": {},
   "outputs": [
    {
     "output_type": "display_data",
     "data": {
      "application/vnd.plotly.v1+json": {
       "config": {
        "linkText": "Export to plot.ly",
        "plotlyServerURL": "https://plot.ly",
        "showLink": false
       },
       "data": [
        {
         "marker": {
          "color": "rgba(200, 20, 160, 0.6)"
         },
         "name": "month",
         "opacity": 0.75,
         "type": "bar",
         "x": [
          25,
          31,
          33,
          47,
          15,
          48,
          29,
          24,
          18,
          19,
          22,
          23,
          68,
          20,
          41,
          17,
          64,
          21,
          43,
          28,
          27,
          55,
          37,
          39,
          32,
          35,
          42,
          30,
          59,
          44,
          40,
          72,
          26,
          34,
          16,
          56,
          51,
          45,
          38,
          36,
          12,
          13,
          63,
          58,
          52,
          49,
          70,
          46,
          88,
          54,
          61,
          66,
          71,
          14,
          69,
          53,
          50,
          60,
          80,
          4,
          75,
          67,
          10,
          62,
          57,
          76,
          74,
          73,
          81,
          83,
          11,
          9,
          3,
          65,
          86,
          6,
          7,
          84,
          2,
          5,
          82,
          79,
          90,
          8,
          87,
          93,
          89,
          85,
          77,
          78,
          94,
          96,
          98,
          91,
          1,
          0,
          92,
          311
         ],
         "y": [
          4569,
          2740,
          2404,
          835,
          1500,
          833,
          3257,
          5030,
          6496,
          6539,
          5519,
          5186,
          158,
          5817,
          1179,
          4302,
          233,
          5651,
          1046,
          3451,
          3898,
          569,
          1857,
          1404,
          2671,
          2292,
          1108,
          3010,
          431,
          974,
          1370,
          105,
          4193,
          2356,
          2640,
          479,
          658,
          980,
          1678,
          1932,
          134,
          329,
          253,
          424,
          652,
          736,
          132,
          881,
          11,
          597,
          319,
          165,
          123,
          759,
          129,
          672,
          708,
          334,
          35,
          25,
          74,
          156,
          47,
          269,
          437,
          78,
          83,
          83,
          36,
          29,
          86,
          37,
          45,
          203,
          27,
          40,
          30,
          23,
          25,
          35,
          28,
          28,
          12,
          36,
          14,
          2,
          6,
          21,
          44,
          38,
          3,
          1,
          0,
          4,
          2,
          0,
          1,
          0
         ]
        }
       ],
       "layout": {
        "height": 400,
        "legend": {
         "orientation": "h"
        },
        "template": {
         "data": {
          "bar": [
           {
            "error_x": {
             "color": "#2a3f5f"
            },
            "error_y": {
             "color": "#2a3f5f"
            },
            "marker": {
             "line": {
              "color": "#E5ECF6",
              "width": 0.5
             }
            },
            "type": "bar"
           }
          ],
          "barpolar": [
           {
            "marker": {
             "line": {
              "color": "#E5ECF6",
              "width": 0.5
             }
            },
            "type": "barpolar"
           }
          ],
          "carpet": [
           {
            "aaxis": {
             "endlinecolor": "#2a3f5f",
             "gridcolor": "white",
             "linecolor": "white",
             "minorgridcolor": "white",
             "startlinecolor": "#2a3f5f"
            },
            "baxis": {
             "endlinecolor": "#2a3f5f",
             "gridcolor": "white",
             "linecolor": "white",
             "minorgridcolor": "white",
             "startlinecolor": "#2a3f5f"
            },
            "type": "carpet"
           }
          ],
          "choropleth": [
           {
            "colorbar": {
             "outlinewidth": 0,
             "ticks": ""
            },
            "type": "choropleth"
           }
          ],
          "contour": [
           {
            "colorbar": {
             "outlinewidth": 0,
             "ticks": ""
            },
            "colorscale": [
             [
              0,
              "#0d0887"
             ],
             [
              0.1111111111111111,
              "#46039f"
             ],
             [
              0.2222222222222222,
              "#7201a8"
             ],
             [
              0.3333333333333333,
              "#9c179e"
             ],
             [
              0.4444444444444444,
              "#bd3786"
             ],
             [
              0.5555555555555556,
              "#d8576b"
             ],
             [
              0.6666666666666666,
              "#ed7953"
             ],
             [
              0.7777777777777778,
              "#fb9f3a"
             ],
             [
              0.8888888888888888,
              "#fdca26"
             ],
             [
              1,
              "#f0f921"
             ]
            ],
            "type": "contour"
           }
          ],
          "contourcarpet": [
           {
            "colorbar": {
             "outlinewidth": 0,
             "ticks": ""
            },
            "type": "contourcarpet"
           }
          ],
          "heatmap": [
           {
            "colorbar": {
             "outlinewidth": 0,
             "ticks": ""
            },
            "colorscale": [
             [
              0,
              "#0d0887"
             ],
             [
              0.1111111111111111,
              "#46039f"
             ],
             [
              0.2222222222222222,
              "#7201a8"
             ],
             [
              0.3333333333333333,
              "#9c179e"
             ],
             [
              0.4444444444444444,
              "#bd3786"
             ],
             [
              0.5555555555555556,
              "#d8576b"
             ],
             [
              0.6666666666666666,
              "#ed7953"
             ],
             [
              0.7777777777777778,
              "#fb9f3a"
             ],
             [
              0.8888888888888888,
              "#fdca26"
             ],
             [
              1,
              "#f0f921"
             ]
            ],
            "type": "heatmap"
           }
          ],
          "heatmapgl": [
           {
            "colorbar": {
             "outlinewidth": 0,
             "ticks": ""
            },
            "colorscale": [
             [
              0,
              "#0d0887"
             ],
             [
              0.1111111111111111,
              "#46039f"
             ],
             [
              0.2222222222222222,
              "#7201a8"
             ],
             [
              0.3333333333333333,
              "#9c179e"
             ],
             [
              0.4444444444444444,
              "#bd3786"
             ],
             [
              0.5555555555555556,
              "#d8576b"
             ],
             [
              0.6666666666666666,
              "#ed7953"
             ],
             [
              0.7777777777777778,
              "#fb9f3a"
             ],
             [
              0.8888888888888888,
              "#fdca26"
             ],
             [
              1,
              "#f0f921"
             ]
            ],
            "type": "heatmapgl"
           }
          ],
          "histogram": [
           {
            "marker": {
             "colorbar": {
              "outlinewidth": 0,
              "ticks": ""
             }
            },
            "type": "histogram"
           }
          ],
          "histogram2d": [
           {
            "colorbar": {
             "outlinewidth": 0,
             "ticks": ""
            },
            "colorscale": [
             [
              0,
              "#0d0887"
             ],
             [
              0.1111111111111111,
              "#46039f"
             ],
             [
              0.2222222222222222,
              "#7201a8"
             ],
             [
              0.3333333333333333,
              "#9c179e"
             ],
             [
              0.4444444444444444,
              "#bd3786"
             ],
             [
              0.5555555555555556,
              "#d8576b"
             ],
             [
              0.6666666666666666,
              "#ed7953"
             ],
             [
              0.7777777777777778,
              "#fb9f3a"
             ],
             [
              0.8888888888888888,
              "#fdca26"
             ],
             [
              1,
              "#f0f921"
             ]
            ],
            "type": "histogram2d"
           }
          ],
          "histogram2dcontour": [
           {
            "colorbar": {
             "outlinewidth": 0,
             "ticks": ""
            },
            "colorscale": [
             [
              0,
              "#0d0887"
             ],
             [
              0.1111111111111111,
              "#46039f"
             ],
             [
              0.2222222222222222,
              "#7201a8"
             ],
             [
              0.3333333333333333,
              "#9c179e"
             ],
             [
              0.4444444444444444,
              "#bd3786"
             ],
             [
              0.5555555555555556,
              "#d8576b"
             ],
             [
              0.6666666666666666,
              "#ed7953"
             ],
             [
              0.7777777777777778,
              "#fb9f3a"
             ],
             [
              0.8888888888888888,
              "#fdca26"
             ],
             [
              1,
              "#f0f921"
             ]
            ],
            "type": "histogram2dcontour"
           }
          ],
          "mesh3d": [
           {
            "colorbar": {
             "outlinewidth": 0,
             "ticks": ""
            },
            "type": "mesh3d"
           }
          ],
          "parcoords": [
           {
            "line": {
             "colorbar": {
              "outlinewidth": 0,
              "ticks": ""
             }
            },
            "type": "parcoords"
           }
          ],
          "pie": [
           {
            "automargin": true,
            "type": "pie"
           }
          ],
          "scatter": [
           {
            "marker": {
             "colorbar": {
              "outlinewidth": 0,
              "ticks": ""
             }
            },
            "type": "scatter"
           }
          ],
          "scatter3d": [
           {
            "line": {
             "colorbar": {
              "outlinewidth": 0,
              "ticks": ""
             }
            },
            "marker": {
             "colorbar": {
              "outlinewidth": 0,
              "ticks": ""
             }
            },
            "type": "scatter3d"
           }
          ],
          "scattercarpet": [
           {
            "marker": {
             "colorbar": {
              "outlinewidth": 0,
              "ticks": ""
             }
            },
            "type": "scattercarpet"
           }
          ],
          "scattergeo": [
           {
            "marker": {
             "colorbar": {
              "outlinewidth": 0,
              "ticks": ""
             }
            },
            "type": "scattergeo"
           }
          ],
          "scattergl": [
           {
            "marker": {
             "colorbar": {
              "outlinewidth": 0,
              "ticks": ""
             }
            },
            "type": "scattergl"
           }
          ],
          "scattermapbox": [
           {
            "marker": {
             "colorbar": {
              "outlinewidth": 0,
              "ticks": ""
             }
            },
            "type": "scattermapbox"
           }
          ],
          "scatterpolar": [
           {
            "marker": {
             "colorbar": {
              "outlinewidth": 0,
              "ticks": ""
             }
            },
            "type": "scatterpolar"
           }
          ],
          "scatterpolargl": [
           {
            "marker": {
             "colorbar": {
              "outlinewidth": 0,
              "ticks": ""
             }
            },
            "type": "scatterpolargl"
           }
          ],
          "scatterternary": [
           {
            "marker": {
             "colorbar": {
              "outlinewidth": 0,
              "ticks": ""
             }
            },
            "type": "scatterternary"
           }
          ],
          "surface": [
           {
            "colorbar": {
             "outlinewidth": 0,
             "ticks": ""
            },
            "colorscale": [
             [
              0,
              "#0d0887"
             ],
             [
              0.1111111111111111,
              "#46039f"
             ],
             [
              0.2222222222222222,
              "#7201a8"
             ],
             [
              0.3333333333333333,
              "#9c179e"
             ],
             [
              0.4444444444444444,
              "#bd3786"
             ],
             [
              0.5555555555555556,
              "#d8576b"
             ],
             [
              0.6666666666666666,
              "#ed7953"
             ],
             [
              0.7777777777777778,
              "#fb9f3a"
             ],
             [
              0.8888888888888888,
              "#fdca26"
             ],
             [
              1,
              "#f0f921"
             ]
            ],
            "type": "surface"
           }
          ],
          "table": [
           {
            "cells": {
             "fill": {
              "color": "#EBF0F8"
             },
             "line": {
              "color": "white"
             }
            },
            "header": {
             "fill": {
              "color": "#C8D4E3"
             },
             "line": {
              "color": "white"
             }
            },
            "type": "table"
           }
          ]
         },
         "layout": {
          "annotationdefaults": {
           "arrowcolor": "#2a3f5f",
           "arrowhead": 0,
           "arrowwidth": 1
          },
          "autotypenumbers": "strict",
          "coloraxis": {
           "colorbar": {
            "outlinewidth": 0,
            "ticks": ""
           }
          },
          "colorscale": {
           "diverging": [
            [
             0,
             "#8e0152"
            ],
            [
             0.1,
             "#c51b7d"
            ],
            [
             0.2,
             "#de77ae"
            ],
            [
             0.3,
             "#f1b6da"
            ],
            [
             0.4,
             "#fde0ef"
            ],
            [
             0.5,
             "#f7f7f7"
            ],
            [
             0.6,
             "#e6f5d0"
            ],
            [
             0.7,
             "#b8e186"
            ],
            [
             0.8,
             "#7fbc41"
            ],
            [
             0.9,
             "#4d9221"
            ],
            [
             1,
             "#276419"
            ]
           ],
           "sequential": [
            [
             0,
             "#0d0887"
            ],
            [
             0.1111111111111111,
             "#46039f"
            ],
            [
             0.2222222222222222,
             "#7201a8"
            ],
            [
             0.3333333333333333,
             "#9c179e"
            ],
            [
             0.4444444444444444,
             "#bd3786"
            ],
            [
             0.5555555555555556,
             "#d8576b"
            ],
            [
             0.6666666666666666,
             "#ed7953"
            ],
            [
             0.7777777777777778,
             "#fb9f3a"
            ],
            [
             0.8888888888888888,
             "#fdca26"
            ],
            [
             1,
             "#f0f921"
            ]
           ],
           "sequentialminus": [
            [
             0,
             "#0d0887"
            ],
            [
             0.1111111111111111,
             "#46039f"
            ],
            [
             0.2222222222222222,
             "#7201a8"
            ],
            [
             0.3333333333333333,
             "#9c179e"
            ],
            [
             0.4444444444444444,
             "#bd3786"
            ],
            [
             0.5555555555555556,
             "#d8576b"
            ],
            [
             0.6666666666666666,
             "#ed7953"
            ],
            [
             0.7777777777777778,
             "#fb9f3a"
            ],
            [
             0.8888888888888888,
             "#fdca26"
            ],
            [
             1,
             "#f0f921"
            ]
           ]
          },
          "colorway": [
           "#636efa",
           "#EF553B",
           "#00cc96",
           "#ab63fa",
           "#FFA15A",
           "#19d3f3",
           "#FF6692",
           "#B6E880",
           "#FF97FF",
           "#FECB52"
          ],
          "font": {
           "color": "#2a3f5f"
          },
          "geo": {
           "bgcolor": "white",
           "lakecolor": "white",
           "landcolor": "#E5ECF6",
           "showlakes": true,
           "showland": true,
           "subunitcolor": "white"
          },
          "hoverlabel": {
           "align": "left"
          },
          "hovermode": "closest",
          "mapbox": {
           "style": "light"
          },
          "paper_bgcolor": "white",
          "plot_bgcolor": "#E5ECF6",
          "polar": {
           "angularaxis": {
            "gridcolor": "white",
            "linecolor": "white",
            "ticks": ""
           },
           "bgcolor": "#E5ECF6",
           "radialaxis": {
            "gridcolor": "white",
            "linecolor": "white",
            "ticks": ""
           }
          },
          "scene": {
           "xaxis": {
            "backgroundcolor": "#E5ECF6",
            "gridcolor": "white",
            "gridwidth": 2,
            "linecolor": "white",
            "showbackground": true,
            "ticks": "",
            "zerolinecolor": "white"
           },
           "yaxis": {
            "backgroundcolor": "#E5ECF6",
            "gridcolor": "white",
            "gridwidth": 2,
            "linecolor": "white",
            "showbackground": true,
            "ticks": "",
            "zerolinecolor": "white"
           },
           "zaxis": {
            "backgroundcolor": "#E5ECF6",
            "gridcolor": "white",
            "gridwidth": 2,
            "linecolor": "white",
            "showbackground": true,
            "ticks": "",
            "zerolinecolor": "white"
           }
          },
          "shapedefaults": {
           "line": {
            "color": "#2a3f5f"
           }
          },
          "ternary": {
           "aaxis": {
            "gridcolor": "white",
            "linecolor": "white",
            "ticks": ""
           },
           "baxis": {
            "gridcolor": "white",
            "linecolor": "white",
            "ticks": ""
           },
           "bgcolor": "#E5ECF6",
           "caxis": {
            "gridcolor": "white",
            "linecolor": "white",
            "ticks": ""
           }
          },
          "title": {
           "x": 0.05
          },
          "xaxis": {
           "automargin": true,
           "gridcolor": "white",
           "linecolor": "white",
           "ticks": "",
           "title": {
            "standoff": 15
           },
           "zerolinecolor": "white",
           "zerolinewidth": 2
          },
          "yaxis": {
           "automargin": true,
           "gridcolor": "white",
           "linecolor": "white",
           "ticks": "",
           "title": {
            "standoff": 15
           },
           "zerolinecolor": "white",
           "zerolinewidth": 2
          }
         }
        },
        "title": {
         "text": "Suspects Age - Distribution"
        },
        "xaxis": {
         "range": [
          0,
          100
         ]
        }
       }
      }
     },
     "metadata": {}
    }
   ],
   "source": [
    "def get_user_mapping(txt):\n",
    "    if txt == \"NA\":\n",
    "        return {}\n",
    "    mapping = {}\n",
    "    for d in txt.split(\"||\"):\n",
    "        try:\n",
    "            key = d.split(\"::\")[0]\n",
    "            val = d.split(\"::\")[1]\n",
    "            if key not in mapping:\n",
    "                mapping[key] = val\n",
    "        except:\n",
    "            pass\n",
    "    return mapping\n",
    "\n",
    "Gun_Violence_2013_2018['participant_type'] = Gun_Violence_2013_2018['participant_type'].fillna(\"NA\")\n",
    "Gun_Violence_2013_2018['participant_type_map'] = Gun_Violence_2013_2018['participant_type'].apply(lambda x : get_user_mapping(x))\n",
    "Gun_Violence_2013_2018['participant_age'] = Gun_Violence_2013_2018['participant_age'].fillna(\"NA\")\n",
    "Gun_Violence_2013_2018['participant_age_map'] = Gun_Violence_2013_2018['participant_age'].apply(lambda x : get_user_mapping(x))\n",
    "Gun_Violence_2013_2018['participant_gender'] = Gun_Violence_2013_2018['participant_gender'].fillna(\"NA\")\n",
    "Gun_Violence_2013_2018['participant_gender_map'] = Gun_Violence_2013_2018['participant_gender'].apply(lambda x : get_user_mapping(x))\n",
    "\n",
    "## Finding the Suspect Age Groups\n",
    "suspect_age_groups = {}\n",
    "for i, row in Gun_Violence_2013_2018.iterrows():\n",
    "    suspects = []\n",
    "    for k,v in row['participant_type_map'].items():\n",
    "        if \"suspect\" in v.lower():\n",
    "            suspects.append(k)\n",
    "    for suspect in suspects:\n",
    "        if suspect in row['participant_age_map']:\n",
    "            ag = row['participant_age_map'][suspect]\n",
    "            if ag not in suspect_age_groups:\n",
    "                suspect_age_groups[ag] = 0 \n",
    "            else:\n",
    "                suspect_age_groups[ag] += 1\n",
    "\n",
    "# suspect_age_groups = dict(sorted(suspect_age_groups.items()))\n",
    "trace1 = go.Bar(x=list(map(int,suspect_age_groups.keys())), y=list(suspect_age_groups.values()), opacity=0.75, name=\"month\", marker=dict(color='rgba(200, 20, 160, 0.6)'))\n",
    "layout = dict(height=400, title='Suspects Age - Distribution', xaxis=dict(range=[0, 100]), legend=dict(orientation=\"h\"));\n",
    "fig = go.Figure(data=[trace1], layout=layout)\n",
    "iplot(fig)"
   ]
  },
  {
   "cell_type": "code",
   "execution_count": 16,
   "metadata": {},
   "outputs": [],
   "source": [
    "# %%debug \n",
    "ag = []\n",
    "for i, row in Gun_Violence_2013_2018.iterrows():\n",
    "    suspects = []\n",
    "    for k,v in row['participant_type_map'].items():\n",
    "        if \"suspect\" in v.lower():\n",
    "            suspects.append(k)    \n",
    "    b=[]\n",
    "    for suspect in suspects:        \n",
    "        if suspect in row['participant_age_map']:\n",
    "            b.append(row['participant_age_map'][suspect])\n",
    "    ag.append(b)    \n",
    "\n",
    "Gun_Violence_2013_2018['suspect_age'] = ag"
   ]
  },
  {
   "cell_type": "code",
   "execution_count": 17,
   "metadata": {},
   "outputs": [
    {
     "output_type": "execute_result",
     "data": {
      "text/plain": [
       "20009"
      ]
     },
     "metadata": {},
     "execution_count": 17
    }
   ],
   "source": [
    "idx = Gun_Violence_2013_2018.index.intersection(Mass_Shooting.index)\n",
    "len(idx)"
   ]
  },
  {
   "cell_type": "code",
   "execution_count": 282,
   "metadata": {},
   "outputs": [],
   "source": [
    "idx = pd.merge(Mass_Shooting, Gun_Violence_2013_2018, how ='inner', on =['Total victims'], left_index=True)\n",
    "# idx = pd.concat([Gun_Violence_2013_2018, Mass_Shooting], axis=1, join=\"inner\")"
   ]
  },
  {
   "cell_type": "code",
   "execution_count": 283,
   "metadata": {},
   "outputs": [
    {
     "output_type": "stream",
     "name": "stdout",
     "text": [
      "<class 'pandas.core.frame.DataFrame'>\nDatetimeIndex: 366148 entries, 2013-01-19 to 2018-02-14\nData columns (total 64 columns):\n #   Column                       Non-Null Count   Dtype         \n---  ------                       --------------   -----         \n 0   Title                        366148 non-null  object        \n 1   Location                     366148 non-null  object        \n 2   Area                         366148 non-null  object        \n 3   Incident Area                366148 non-null  object        \n 4   Target                       366148 non-null  object        \n 5   Cause                        366148 non-null  object        \n 6   Summary                      366148 non-null  object        \n 7   Shooter status               366148 non-null  object        \n 8   No. of shooter/suspect       366148 non-null  object        \n 9   Fatalities_x                 366148 non-null  int64         \n 10  Injured                      366148 non-null  int64         \n 11  Total victims                366148 non-null  int64         \n 12  Policeman Killed             366148 non-null  int64         \n 13  Age                          366148 non-null  object        \n 14  Employeed (Y/N)              366148 non-null  int64         \n 15  Employed at                  366148 non-null  object        \n 16  Mental Health Issues         366148 non-null  object        \n 17  Race                         366148 non-null  object        \n 18  Gender                       366148 non-null  object        \n 19  date_x                       366148 non-null  datetime64[ns]\n 20  year_x                       366148 non-null  int64         \n 21  month_x                      366148 non-null  int64         \n 22  monthday_x                   366148 non-null  int64         \n 23  weekday_x                    366148 non-null  int64         \n 24  state_x                      366148 non-null  object        \n 25  incident_id                  366148 non-null  int64         \n 26  state_y                      366148 non-null  object        \n 27  city_or_county               366148 non-null  object        \n 28  address                      359340 non-null  object        \n 29  n_killed                     366148 non-null  int64         \n 30  n_injured                    366148 non-null  int64         \n 31  incident_url                 366148 non-null  object        \n 32  source_url                   364820 non-null  object        \n 33  incident_url_fields_missing  366148 non-null  bool          \n 34  congressional_district       346023 non-null  float64       \n 35  gun_stolen                   202245 non-null  object        \n 36  gun_type                     202245 non-null  object        \n 37  incident_characteristics     365573 non-null  object        \n 38  latitude                     351345 non-null  float64       \n 39  location_description         95692 non-null   object        \n 40  longitude                    351345 non-null  float64       \n 41  n_guns_involved              202245 non-null  float64       \n 42  notes                        256289 non-null  object        \n 43  participant_age              366148 non-null  object        \n 44  participant_age_group        340388 non-null  object        \n 45  participant_gender           366148 non-null  object        \n 46  participant_name             229119 non-null  object        \n 47  participant_relationship     35240 non-null   object        \n 48  participant_status           366148 non-null  object        \n 49  participant_type             366148 non-null  object        \n 50  sources                      366038 non-null  object        \n 51  state_house_district         311737 non-null  float64       \n 52  state_senate_district        322052 non-null  float64       \n 53  date_y                       366148 non-null  datetime64[ns]\n 54  year_y                       366148 non-null  int64         \n 55  month_y                      366148 non-null  int64         \n 56  monthday_y                   366148 non-null  int64         \n 57  weekday_y                    366148 non-null  int64         \n 58  total loss                   366148 non-null  int64         \n 59  participant_type_map         366148 non-null  object        \n 60  participant_age_map          366148 non-null  object        \n 61  participant_gender_map       366148 non-null  object        \n 62  suspect_age                  366148 non-null  object        \n 63  Fatalities_y                 366148 non-null  int64         \ndtypes: bool(1), datetime64[ns](2), float64(6), int64(18), object(37)\nmemory usage: 179.1+ MB\n"
     ]
    }
   ],
   "source": [
    "idx.info()"
   ]
  },
  {
   "cell_type": "code",
   "execution_count": 287,
   "metadata": {},
   "outputs": [
    {
     "output_type": "execute_result",
     "data": {
      "text/plain": [
       "239677"
      ]
     },
     "metadata": {},
     "execution_count": 287
    }
   ],
   "source": [
    "len(Gun_Violence_2013_2018)"
   ]
  },
  {
   "source": [
    "##  2.5 Tagert variables  \n",
    "index: Year 2009 - 2018  \n",
    "Dependent variable (y): Gun deaths; Age group; Shooter age; Employeed;    \n",
    "Independent variables (Xi): Population, Gun possession, Employment rate, Election year "
   ],
   "cell_type": "markdown",
   "metadata": {}
  },
  {
   "source": [
    "## 2.6 Save data  "
   ],
   "cell_type": "markdown",
   "metadata": {}
  },
  {
   "cell_type": "code",
   "execution_count": 18,
   "metadata": {},
   "outputs": [],
   "source": [
    "Gun_Violence_2013_2018.to_csv('../data/Clean_data/GunViolence2013_2018.csv')"
   ]
  },
  {
   "cell_type": "code",
   "execution_count": 284,
   "metadata": {},
   "outputs": [],
   "source": [
    "idx.to_csv('../data/Clean_data/GunViolence2013_2018_final.csv')"
   ]
  },
  {
   "source": [
    "## 2.7 Summary  "
   ],
   "cell_type": "markdown",
   "metadata": {}
  }
 ]
}