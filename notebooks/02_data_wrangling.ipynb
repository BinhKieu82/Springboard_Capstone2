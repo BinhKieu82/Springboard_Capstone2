{
 "metadata": {
  "language_info": {
   "codemirror_mode": {
    "name": "ipython",
    "version": 3
   },
   "file_extension": ".py",
   "mimetype": "text/x-python",
   "name": "python",
   "nbconvert_exporter": "python",
   "pygments_lexer": "ipython3",
   "version": "3.7.9"
  },
  "orig_nbformat": 2,
  "kernelspec": {
   "name": "python3",
   "display_name": "Python 3.7.9 64-bit ('DS': conda)"
  },
  "interpreter": {
   "hash": "b4bb8b8d2cc883794a51857fbbb51c36637924a112e0ed7b23f7b7e3860b68ad"
  }
 },
 "nbformat": 4,
 "nbformat_minor": 2,
 "cells": [
  {
   "cell_type": "markdown",
   "source": [
    "# 2. Data wrangling   \r\n",
    "   ### 2.1 Data overviews  \r\n",
    "   ### 2.2 Importing related libs & modules  \r\n",
    "   ### 2.3 Loading data  \r\n",
    "        a. Gun Possession: number of guns by $\\color{red}{\\text{years}}$  \r\n",
    "        b. Gun Deaths: number of deaths (homicide, sucide...) by $\\color{red}{\\text{years}}$  \r\n",
    "        c. [Firearm Deaths by Age](https://webappa.cdc.gov/sasweb/ncipc/mortrate.html): No of death group by age listed by $\\color{red}{\\text{years}}$  \r\n",
    "        d. Mass Shooting: No cases of shooting with shooter age, employeed  by $\\color{red}{\\text{years, states}}$  \r\n",
    "        e. Unemployment rate: Unemployment rate by $\\color{red}{\\text{years, states}}$  \r\n",
    "   ### 2.4 Explore the data  \r\n",
    "        a. Data distribution & missing values  \r\n",
    "        b. Numeric features  \r\n",
    "        c. Category features   \r\n",
    "   ### 2.5 Target variables  \r\n",
    "   ### 2.6 Save data  \r\n",
    "   ### 2.7 Sumary  \r\n"
   ],
   "metadata": {}
  },
  {
   "cell_type": "markdown",
   "source": [
    "## 2.1 Data Overviews  \n",
    "### Targeted data  \n",
    "index: Year 2009 - 2018  \n",
    "Dependent variable (y): Gun deaths; Age group; Shooter age; Employeed;    \n",
    "Independent variables (Xi): Population, Gun possession, Employment rate, Election year  \n",
    "  \n",
    "### What to do  \n",
    "Load, transform & visualize data.  \n",
    "Q: Add more features for the prediction?  "
   ],
   "metadata": {}
  },
  {
   "cell_type": "markdown",
   "source": [
    "## 2.2 Import libs & modules  \n",
    "### geoplot for geodetic display"
   ],
   "metadata": {}
  },
  {
   "cell_type": "code",
   "execution_count": 1,
   "source": [
    "import numpy as np\r\n",
    "import pandas as pd\r\n",
    "import matplotlib.pyplot as plt\r\n",
    "from plotly.offline import init_notebook_mode, iplot\r\n",
    "import plotly.graph_objs as go\r\n",
    "import seaborn as sns\r\n",
    "import os\r\n",
    "\r\n",
    "from library.sb_utils import save_file"
   ],
   "outputs": [],
   "metadata": {}
  },
  {
   "cell_type": "markdown",
   "source": [
    "## 2.3 Loading data  \n",
    "### DF: GunDeaths_2009_2018; FirearmDeaths_2000_2018; GunPossession_1986_2018; Mass_Shooting; Employment;  "
   ],
   "metadata": {}
  },
  {
   "cell_type": "code",
   "execution_count": 2,
   "source": [
    "GunDeaths_2009_2018  = pd.read_csv('../data/USA_Crimes/GunDeaths_2009_2018.csv').set_index('Year')\r\n",
    "FirearmDeaths_2000_2018  = pd.read_csv('../data/USA_Crimes/FirearmDeaths2000_2018.csv').set_index('Year')\r\n",
    "GunPossession_1986_2018 = pd.read_csv('../data/USA_Crimes/GunPossession_1986_2018.csv', index_col=0)"
   ],
   "outputs": [],
   "metadata": {}
  },
  {
   "cell_type": "code",
   "execution_count": 3,
   "source": [
    "GunPossession_1986_2018 = GunPossession_1986_2018[['Total Manufactured Firearms','Total Imports','Total Licensees ']]\r\n",
    "# GunPossession_1986_2018.info()"
   ],
   "outputs": [],
   "metadata": {}
  },
  {
   "cell_type": "code",
   "execution_count": 4,
   "source": [
    "GunDeaths_2009_2018 = GunDeaths_2009_2018[['Population','Total gun deaths','Total children and teen gun deaths']]\r\n",
    "GunDeaths_2009_2018.columns"
   ],
   "outputs": [
    {
     "output_type": "execute_result",
     "data": {
      "text/plain": [
       "Index(['Population', 'Total gun deaths', 'Total children and teen gun deaths'], dtype='object')"
      ]
     },
     "metadata": {},
     "execution_count": 4
    }
   ],
   "metadata": {}
  },
  {
   "cell_type": "code",
   "execution_count": 5,
   "source": [
    "FirearmDeaths_2000_2018.drop(['State','Ethnicity','First Year','Last Year','Cause of Death'], axis=1, inplace=True)\r\n",
    "FirearmDeaths_2000_2018.columns"
   ],
   "outputs": [
    {
     "output_type": "execute_result",
     "data": {
      "text/plain": [
       "Index(['Sex', 'Race', 'Age Group', 'Deaths', 'Population', 'Crude Rate'], dtype='object')"
      ]
     },
     "metadata": {},
     "execution_count": 5
    }
   ],
   "metadata": {}
  },
  {
   "cell_type": "markdown",
   "source": [
    "### **Combine data**\r\n",
    "#### Data1: $\\color{cyan}{\\text{Year, Polpulation, Total firearms, Total licenses, Gun deaths, age group, sex, race.}}$\r\n",
    "#### DF1 = GunDeaths_2009_2018 + FirearmDeaths_2000_2018 + GunPossession_1986_2018"
   ],
   "metadata": {}
  },
  {
   "cell_type": "code",
   "execution_count": 7,
   "source": [
    "Employment_header = ['FIPS Code', 'State and area', 'Year', 'Civilian non-institutional population', \r\n",
    "  'Civilian labor force/Total', 'Civilian labor force', 'Civilian labor force/Percent of population', \r\n",
    "  'Civilian labor force/Employment/Total', 'Civilian labor force/Employment/Percent of population',\r\n",
    "  'Civilian labor force/Unemployment/Total','Civilian labor force/Unemployment/Rate']"
   ],
   "outputs": [],
   "metadata": {}
  },
  {
   "cell_type": "code",
   "execution_count": 8,
   "source": [
    "# Employment = pd.read_excel('../data/USA_Crimes/staadata.xlsx', header=0)\r\n",
    "Employment=pd.read_excel(\r\n",
    "     os.path.join(\"../data/USA_Crimes/\", \"staadata.xlsx\"),\r\n",
    "     engine='openpyxl', header=None, names= Employment_header\r\n",
    ").set_index('Year')"
   ],
   "outputs": [],
   "metadata": {}
  },
  {
   "cell_type": "code",
   "execution_count": 9,
   "source": [
    "Employment = Employment.iloc[8:]\r\n",
    "# Employment.head(10)"
   ],
   "outputs": [],
   "metadata": {}
  },
  {
   "cell_type": "code",
   "execution_count": 10,
   "source": [
    "Mass_Shooting = pd.read_csv('../data/USA_Crimes/US Mass Shooting 1966-2019 (cleaned).csv', parse_dates=True, index_col='Date')"
   ],
   "outputs": [],
   "metadata": {}
  },
  {
   "cell_type": "code",
   "execution_count": 11,
   "source": [
    "MS_column_drop = ['S#','Open/Close Location','Latitude','Longitude']\r\n",
    "Mass_Shooting.sort_index(inplace=True)\r\n",
    "Mass_Shooting.drop(MS_column_drop, axis=1, inplace=True)"
   ],
   "outputs": [],
   "metadata": {}
  },
  {
   "cell_type": "code",
   "execution_count": 12,
   "source": [
    "Mass_Shooting['date'] = pd.to_datetime(Mass_Shooting.index)\r\n",
    "Mass_Shooting['year'] = Mass_Shooting['date'].dt.year\r\n",
    "Mass_Shooting['month'] = Mass_Shooting['date'].dt.month\r\n",
    "Mass_Shooting['monthday'] = Mass_Shooting['date'].dt.day\r\n",
    "Mass_Shooting['weekday'] = Mass_Shooting['date'].dt.weekday"
   ],
   "outputs": [],
   "metadata": {}
  },
  {
   "cell_type": "code",
   "execution_count": 13,
   "source": [
    "def get_state(txt):\r\n",
    "    val = txt.split(\", \")[-1]            \r\n",
    "    return val\r\n",
    "\r\n",
    "Mass_Shooting['state'] = Mass_Shooting['Location'].apply(lambda x : get_state(x))"
   ],
   "outputs": [],
   "metadata": {}
  },
  {
   "cell_type": "markdown",
   "source": [
    "### **Combine data**\r\n",
    "#### Data2: $\\color{cyan}{\\text{Year, State, Population, Unemployment rate, Gun violent cases, Shooter gender, Shooter age, Employeed.}}$  \r\n",
    "#### DF2 = Gun_violence_2013_2018  + Mass_shooting + Employment"
   ],
   "metadata": {}
  },
  {
   "cell_type": "code",
   "execution_count": 14,
   "source": [
    "Gun_Violence_2013_2018 = pd.read_csv('../data/USA_Crimes/gun-violence-data_01-2013_03-2018.csv', parse_dates=True, index_col='date')\r\n",
    "# GV_column_drop = ['incident_id','city_or_county','address','gun_stolen','incident_url','source_url','location_description','incident_characteristics','participant_name','incident_url_fields_missing', 'participant_status','congressional_district','latitude','longitude','sources','state_house_district','state_senate_district']\r\n",
    "# Gun_Violence_2013_2018.sort_index(inplace=True)\r\n",
    "# Gun_Violence_2013_2018.drop(GV_column_drop, axis=1, inplace=True)"
   ],
   "outputs": [],
   "metadata": {}
  },
  {
   "cell_type": "code",
   "execution_count": 15,
   "source": [
    "Gun_Violence_2013_2018['date'] = pd.to_datetime(Gun_Violence_2013_2018.index)\r\n",
    "Gun_Violence_2013_2018['year'] = Gun_Violence_2013_2018['date'].dt.year\r\n",
    "Gun_Violence_2013_2018['month'] = Gun_Violence_2013_2018['date'].dt.month\r\n",
    "Gun_Violence_2013_2018['monthday'] = Gun_Violence_2013_2018['date'].dt.day\r\n",
    "Gun_Violence_2013_2018['weekday'] = Gun_Violence_2013_2018['date'].dt.weekday\r\n",
    "Gun_Violence_2013_2018['Total victims'] = Gun_Violence_2013_2018['n_killed'] + Gun_Violence_2013_2018['n_injured']"
   ],
   "outputs": [],
   "metadata": {}
  },
  {
   "cell_type": "markdown",
   "source": [
    "## 2.4 Explore data  \n",
    "### a. Data transforming  "
   ],
   "metadata": {}
  },
  {
   "cell_type": "code",
   "execution_count": 16,
   "source": [
    "def get_user_mapping(txt):\r\n",
    "    if txt == \"NA\":\r\n",
    "        return {}\r\n",
    "    mapping = {}\r\n",
    "    for d in txt.split(\"||\"):\r\n",
    "        try:\r\n",
    "            key = d.split(\"::\")[0]\r\n",
    "            val = d.split(\"::\")[1]\r\n",
    "            if key not in mapping:\r\n",
    "                mapping[key] = val\r\n",
    "        except:\r\n",
    "            pass\r\n",
    "    return mapping\r\n",
    "\r\n",
    "Gun_Violence_2013_2018['participant_type'] = Gun_Violence_2013_2018['participant_type'].fillna(\"NA\")\r\n",
    "Gun_Violence_2013_2018['participant_type_map'] = Gun_Violence_2013_2018['participant_type'].apply(lambda x : get_user_mapping(x))\r\n",
    "Gun_Violence_2013_2018['participant_age'] = Gun_Violence_2013_2018['participant_age'].fillna(\"NA\")\r\n",
    "Gun_Violence_2013_2018['participant_age_map'] = Gun_Violence_2013_2018['participant_age'].apply(lambda x : get_user_mapping(x))\r\n",
    "Gun_Violence_2013_2018['participant_gender'] = Gun_Violence_2013_2018['participant_gender'].fillna(\"NA\")\r\n",
    "Gun_Violence_2013_2018['participant_gender_map'] = Gun_Violence_2013_2018['participant_gender'].apply(lambda x : get_user_mapping(x))\r\n",
    "\r\n",
    "## Finding the Suspect Age Groups\r\n",
    "suspect_age_groups = {}\r\n",
    "for i, row in Gun_Violence_2013_2018.iterrows():\r\n",
    "    suspects = []\r\n",
    "    for k,v in row['participant_type_map'].items():\r\n",
    "        if \"suspect\" in v.lower():\r\n",
    "            suspects.append(k)\r\n",
    "    for suspect in suspects:\r\n",
    "        if suspect in row['participant_age_map']:\r\n",
    "            ag = row['participant_age_map'][suspect]\r\n",
    "            if ag not in suspect_age_groups:\r\n",
    "                suspect_age_groups[ag] = 0 \r\n",
    "            else:\r\n",
    "                suspect_age_groups[ag] += 1\r\n",
    "\r\n",
    "# suspect_age_groups = dict(sorted(suspect_age_groups.items()))\r\n",
    "trace1 = go.Bar(x=list(map(int,suspect_age_groups.keys())), y=list(suspect_age_groups.values()), opacity=0.75, name=\"month\", marker=dict(color='rgba(200, 20, 160, 0.6)'))\r\n",
    "layout = dict(height=400, title='Suspects Age - Distribution', xaxis=dict(range=[0, 100]), legend=dict(orientation=\"h\"));\r\n",
    "fig = go.Figure(data=[trace1], layout=layout)\r\n",
    "iplot(fig)"
   ],
   "outputs": [
    {
     "output_type": "display_data",
     "data": {
      "application/vnd.plotly.v1+json": {
       "config": {
        "linkText": "Export to plot.ly",
        "plotlyServerURL": "https://plot.ly",
        "showLink": false
       },
       "data": [
        {
         "marker": {
          "color": "rgba(200, 20, 160, 0.6)"
         },
         "name": "month",
         "opacity": 0.75,
         "type": "bar",
         "x": [
          25,
          31,
          33,
          47,
          15,
          48,
          29,
          24,
          18,
          19,
          22,
          23,
          68,
          20,
          41,
          17,
          64,
          21,
          43,
          28,
          27,
          55,
          37,
          39,
          32,
          35,
          42,
          30,
          59,
          44,
          40,
          72,
          26,
          34,
          16,
          56,
          51,
          45,
          38,
          36,
          12,
          13,
          63,
          58,
          52,
          49,
          70,
          46,
          88,
          54,
          61,
          66,
          71,
          14,
          69,
          53,
          50,
          60,
          80,
          4,
          75,
          67,
          10,
          62,
          57,
          76,
          74,
          73,
          81,
          83,
          11,
          9,
          3,
          65,
          86,
          6,
          7,
          84,
          2,
          5,
          82,
          79,
          90,
          8,
          87,
          93,
          89,
          85,
          77,
          78,
          94,
          96,
          98,
          91,
          1,
          0,
          92,
          311
         ],
         "y": [
          4569,
          2740,
          2404,
          835,
          1500,
          833,
          3257,
          5030,
          6496,
          6539,
          5519,
          5186,
          158,
          5817,
          1179,
          4302,
          233,
          5651,
          1046,
          3451,
          3898,
          569,
          1857,
          1404,
          2671,
          2292,
          1108,
          3010,
          431,
          974,
          1370,
          105,
          4193,
          2356,
          2640,
          479,
          658,
          980,
          1678,
          1932,
          134,
          329,
          253,
          424,
          652,
          736,
          132,
          881,
          11,
          597,
          319,
          165,
          123,
          759,
          129,
          672,
          708,
          334,
          35,
          25,
          74,
          156,
          47,
          269,
          437,
          78,
          83,
          83,
          36,
          29,
          86,
          37,
          45,
          203,
          27,
          40,
          30,
          23,
          25,
          35,
          28,
          28,
          12,
          36,
          14,
          2,
          6,
          21,
          44,
          38,
          3,
          1,
          0,
          4,
          2,
          0,
          1,
          0
         ]
        }
       ],
       "layout": {
        "height": 400,
        "legend": {
         "orientation": "h"
        },
        "template": {
         "data": {
          "bar": [
           {
            "error_x": {
             "color": "#2a3f5f"
            },
            "error_y": {
             "color": "#2a3f5f"
            },
            "marker": {
             "line": {
              "color": "#E5ECF6",
              "width": 0.5
             },
             "pattern": {
              "fillmode": "overlay",
              "size": 10,
              "solidity": 0.2
             }
            },
            "type": "bar"
           }
          ],
          "barpolar": [
           {
            "marker": {
             "line": {
              "color": "#E5ECF6",
              "width": 0.5
             },
             "pattern": {
              "fillmode": "overlay",
              "size": 10,
              "solidity": 0.2
             }
            },
            "type": "barpolar"
           }
          ],
          "carpet": [
           {
            "aaxis": {
             "endlinecolor": "#2a3f5f",
             "gridcolor": "white",
             "linecolor": "white",
             "minorgridcolor": "white",
             "startlinecolor": "#2a3f5f"
            },
            "baxis": {
             "endlinecolor": "#2a3f5f",
             "gridcolor": "white",
             "linecolor": "white",
             "minorgridcolor": "white",
             "startlinecolor": "#2a3f5f"
            },
            "type": "carpet"
           }
          ],
          "choropleth": [
           {
            "colorbar": {
             "outlinewidth": 0,
             "ticks": ""
            },
            "type": "choropleth"
           }
          ],
          "contour": [
           {
            "colorbar": {
             "outlinewidth": 0,
             "ticks": ""
            },
            "colorscale": [
             [
              0,
              "#0d0887"
             ],
             [
              0.1111111111111111,
              "#46039f"
             ],
             [
              0.2222222222222222,
              "#7201a8"
             ],
             [
              0.3333333333333333,
              "#9c179e"
             ],
             [
              0.4444444444444444,
              "#bd3786"
             ],
             [
              0.5555555555555556,
              "#d8576b"
             ],
             [
              0.6666666666666666,
              "#ed7953"
             ],
             [
              0.7777777777777778,
              "#fb9f3a"
             ],
             [
              0.8888888888888888,
              "#fdca26"
             ],
             [
              1,
              "#f0f921"
             ]
            ],
            "type": "contour"
           }
          ],
          "contourcarpet": [
           {
            "colorbar": {
             "outlinewidth": 0,
             "ticks": ""
            },
            "type": "contourcarpet"
           }
          ],
          "heatmap": [
           {
            "colorbar": {
             "outlinewidth": 0,
             "ticks": ""
            },
            "colorscale": [
             [
              0,
              "#0d0887"
             ],
             [
              0.1111111111111111,
              "#46039f"
             ],
             [
              0.2222222222222222,
              "#7201a8"
             ],
             [
              0.3333333333333333,
              "#9c179e"
             ],
             [
              0.4444444444444444,
              "#bd3786"
             ],
             [
              0.5555555555555556,
              "#d8576b"
             ],
             [
              0.6666666666666666,
              "#ed7953"
             ],
             [
              0.7777777777777778,
              "#fb9f3a"
             ],
             [
              0.8888888888888888,
              "#fdca26"
             ],
             [
              1,
              "#f0f921"
             ]
            ],
            "type": "heatmap"
           }
          ],
          "heatmapgl": [
           {
            "colorbar": {
             "outlinewidth": 0,
             "ticks": ""
            },
            "colorscale": [
             [
              0,
              "#0d0887"
             ],
             [
              0.1111111111111111,
              "#46039f"
             ],
             [
              0.2222222222222222,
              "#7201a8"
             ],
             [
              0.3333333333333333,
              "#9c179e"
             ],
             [
              0.4444444444444444,
              "#bd3786"
             ],
             [
              0.5555555555555556,
              "#d8576b"
             ],
             [
              0.6666666666666666,
              "#ed7953"
             ],
             [
              0.7777777777777778,
              "#fb9f3a"
             ],
             [
              0.8888888888888888,
              "#fdca26"
             ],
             [
              1,
              "#f0f921"
             ]
            ],
            "type": "heatmapgl"
           }
          ],
          "histogram": [
           {
            "marker": {
             "pattern": {
              "fillmode": "overlay",
              "size": 10,
              "solidity": 0.2
             }
            },
            "type": "histogram"
           }
          ],
          "histogram2d": [
           {
            "colorbar": {
             "outlinewidth": 0,
             "ticks": ""
            },
            "colorscale": [
             [
              0,
              "#0d0887"
             ],
             [
              0.1111111111111111,
              "#46039f"
             ],
             [
              0.2222222222222222,
              "#7201a8"
             ],
             [
              0.3333333333333333,
              "#9c179e"
             ],
             [
              0.4444444444444444,
              "#bd3786"
             ],
             [
              0.5555555555555556,
              "#d8576b"
             ],
             [
              0.6666666666666666,
              "#ed7953"
             ],
             [
              0.7777777777777778,
              "#fb9f3a"
             ],
             [
              0.8888888888888888,
              "#fdca26"
             ],
             [
              1,
              "#f0f921"
             ]
            ],
            "type": "histogram2d"
           }
          ],
          "histogram2dcontour": [
           {
            "colorbar": {
             "outlinewidth": 0,
             "ticks": ""
            },
            "colorscale": [
             [
              0,
              "#0d0887"
             ],
             [
              0.1111111111111111,
              "#46039f"
             ],
             [
              0.2222222222222222,
              "#7201a8"
             ],
             [
              0.3333333333333333,
              "#9c179e"
             ],
             [
              0.4444444444444444,
              "#bd3786"
             ],
             [
              0.5555555555555556,
              "#d8576b"
             ],
             [
              0.6666666666666666,
              "#ed7953"
             ],
             [
              0.7777777777777778,
              "#fb9f3a"
             ],
             [
              0.8888888888888888,
              "#fdca26"
             ],
             [
              1,
              "#f0f921"
             ]
            ],
            "type": "histogram2dcontour"
           }
          ],
          "mesh3d": [
           {
            "colorbar": {
             "outlinewidth": 0,
             "ticks": ""
            },
            "type": "mesh3d"
           }
          ],
          "parcoords": [
           {
            "line": {
             "colorbar": {
              "outlinewidth": 0,
              "ticks": ""
             }
            },
            "type": "parcoords"
           }
          ],
          "pie": [
           {
            "automargin": true,
            "type": "pie"
           }
          ],
          "scatter": [
           {
            "marker": {
             "colorbar": {
              "outlinewidth": 0,
              "ticks": ""
             }
            },
            "type": "scatter"
           }
          ],
          "scatter3d": [
           {
            "line": {
             "colorbar": {
              "outlinewidth": 0,
              "ticks": ""
             }
            },
            "marker": {
             "colorbar": {
              "outlinewidth": 0,
              "ticks": ""
             }
            },
            "type": "scatter3d"
           }
          ],
          "scattercarpet": [
           {
            "marker": {
             "colorbar": {
              "outlinewidth": 0,
              "ticks": ""
             }
            },
            "type": "scattercarpet"
           }
          ],
          "scattergeo": [
           {
            "marker": {
             "colorbar": {
              "outlinewidth": 0,
              "ticks": ""
             }
            },
            "type": "scattergeo"
           }
          ],
          "scattergl": [
           {
            "marker": {
             "colorbar": {
              "outlinewidth": 0,
              "ticks": ""
             }
            },
            "type": "scattergl"
           }
          ],
          "scattermapbox": [
           {
            "marker": {
             "colorbar": {
              "outlinewidth": 0,
              "ticks": ""
             }
            },
            "type": "scattermapbox"
           }
          ],
          "scatterpolar": [
           {
            "marker": {
             "colorbar": {
              "outlinewidth": 0,
              "ticks": ""
             }
            },
            "type": "scatterpolar"
           }
          ],
          "scatterpolargl": [
           {
            "marker": {
             "colorbar": {
              "outlinewidth": 0,
              "ticks": ""
             }
            },
            "type": "scatterpolargl"
           }
          ],
          "scatterternary": [
           {
            "marker": {
             "colorbar": {
              "outlinewidth": 0,
              "ticks": ""
             }
            },
            "type": "scatterternary"
           }
          ],
          "surface": [
           {
            "colorbar": {
             "outlinewidth": 0,
             "ticks": ""
            },
            "colorscale": [
             [
              0,
              "#0d0887"
             ],
             [
              0.1111111111111111,
              "#46039f"
             ],
             [
              0.2222222222222222,
              "#7201a8"
             ],
             [
              0.3333333333333333,
              "#9c179e"
             ],
             [
              0.4444444444444444,
              "#bd3786"
             ],
             [
              0.5555555555555556,
              "#d8576b"
             ],
             [
              0.6666666666666666,
              "#ed7953"
             ],
             [
              0.7777777777777778,
              "#fb9f3a"
             ],
             [
              0.8888888888888888,
              "#fdca26"
             ],
             [
              1,
              "#f0f921"
             ]
            ],
            "type": "surface"
           }
          ],
          "table": [
           {
            "cells": {
             "fill": {
              "color": "#EBF0F8"
             },
             "line": {
              "color": "white"
             }
            },
            "header": {
             "fill": {
              "color": "#C8D4E3"
             },
             "line": {
              "color": "white"
             }
            },
            "type": "table"
           }
          ]
         },
         "layout": {
          "annotationdefaults": {
           "arrowcolor": "#2a3f5f",
           "arrowhead": 0,
           "arrowwidth": 1
          },
          "autotypenumbers": "strict",
          "coloraxis": {
           "colorbar": {
            "outlinewidth": 0,
            "ticks": ""
           }
          },
          "colorscale": {
           "diverging": [
            [
             0,
             "#8e0152"
            ],
            [
             0.1,
             "#c51b7d"
            ],
            [
             0.2,
             "#de77ae"
            ],
            [
             0.3,
             "#f1b6da"
            ],
            [
             0.4,
             "#fde0ef"
            ],
            [
             0.5,
             "#f7f7f7"
            ],
            [
             0.6,
             "#e6f5d0"
            ],
            [
             0.7,
             "#b8e186"
            ],
            [
             0.8,
             "#7fbc41"
            ],
            [
             0.9,
             "#4d9221"
            ],
            [
             1,
             "#276419"
            ]
           ],
           "sequential": [
            [
             0,
             "#0d0887"
            ],
            [
             0.1111111111111111,
             "#46039f"
            ],
            [
             0.2222222222222222,
             "#7201a8"
            ],
            [
             0.3333333333333333,
             "#9c179e"
            ],
            [
             0.4444444444444444,
             "#bd3786"
            ],
            [
             0.5555555555555556,
             "#d8576b"
            ],
            [
             0.6666666666666666,
             "#ed7953"
            ],
            [
             0.7777777777777778,
             "#fb9f3a"
            ],
            [
             0.8888888888888888,
             "#fdca26"
            ],
            [
             1,
             "#f0f921"
            ]
           ],
           "sequentialminus": [
            [
             0,
             "#0d0887"
            ],
            [
             0.1111111111111111,
             "#46039f"
            ],
            [
             0.2222222222222222,
             "#7201a8"
            ],
            [
             0.3333333333333333,
             "#9c179e"
            ],
            [
             0.4444444444444444,
             "#bd3786"
            ],
            [
             0.5555555555555556,
             "#d8576b"
            ],
            [
             0.6666666666666666,
             "#ed7953"
            ],
            [
             0.7777777777777778,
             "#fb9f3a"
            ],
            [
             0.8888888888888888,
             "#fdca26"
            ],
            [
             1,
             "#f0f921"
            ]
           ]
          },
          "colorway": [
           "#636efa",
           "#EF553B",
           "#00cc96",
           "#ab63fa",
           "#FFA15A",
           "#19d3f3",
           "#FF6692",
           "#B6E880",
           "#FF97FF",
           "#FECB52"
          ],
          "font": {
           "color": "#2a3f5f"
          },
          "geo": {
           "bgcolor": "white",
           "lakecolor": "white",
           "landcolor": "#E5ECF6",
           "showlakes": true,
           "showland": true,
           "subunitcolor": "white"
          },
          "hoverlabel": {
           "align": "left"
          },
          "hovermode": "closest",
          "mapbox": {
           "style": "light"
          },
          "paper_bgcolor": "white",
          "plot_bgcolor": "#E5ECF6",
          "polar": {
           "angularaxis": {
            "gridcolor": "white",
            "linecolor": "white",
            "ticks": ""
           },
           "bgcolor": "#E5ECF6",
           "radialaxis": {
            "gridcolor": "white",
            "linecolor": "white",
            "ticks": ""
           }
          },
          "scene": {
           "xaxis": {
            "backgroundcolor": "#E5ECF6",
            "gridcolor": "white",
            "gridwidth": 2,
            "linecolor": "white",
            "showbackground": true,
            "ticks": "",
            "zerolinecolor": "white"
           },
           "yaxis": {
            "backgroundcolor": "#E5ECF6",
            "gridcolor": "white",
            "gridwidth": 2,
            "linecolor": "white",
            "showbackground": true,
            "ticks": "",
            "zerolinecolor": "white"
           },
           "zaxis": {
            "backgroundcolor": "#E5ECF6",
            "gridcolor": "white",
            "gridwidth": 2,
            "linecolor": "white",
            "showbackground": true,
            "ticks": "",
            "zerolinecolor": "white"
           }
          },
          "shapedefaults": {
           "line": {
            "color": "#2a3f5f"
           }
          },
          "ternary": {
           "aaxis": {
            "gridcolor": "white",
            "linecolor": "white",
            "ticks": ""
           },
           "baxis": {
            "gridcolor": "white",
            "linecolor": "white",
            "ticks": ""
           },
           "bgcolor": "#E5ECF6",
           "caxis": {
            "gridcolor": "white",
            "linecolor": "white",
            "ticks": ""
           }
          },
          "title": {
           "x": 0.05
          },
          "xaxis": {
           "automargin": true,
           "gridcolor": "white",
           "linecolor": "white",
           "ticks": "",
           "title": {
            "standoff": 15
           },
           "zerolinecolor": "white",
           "zerolinewidth": 2
          },
          "yaxis": {
           "automargin": true,
           "gridcolor": "white",
           "linecolor": "white",
           "ticks": "",
           "title": {
            "standoff": 15
           },
           "zerolinecolor": "white",
           "zerolinewidth": 2
          }
         }
        },
        "title": {
         "text": "Suspects Age - Distribution"
        },
        "xaxis": {
         "range": [
          0,
          100
         ]
        }
       }
      }
     },
     "metadata": {}
    }
   ],
   "metadata": {}
  },
  {
   "cell_type": "code",
   "execution_count": 17,
   "source": [
    "# %%debug \r\n",
    "ag = []\r\n",
    "for i, row in Gun_Violence_2013_2018.iterrows():\r\n",
    "    suspects = []\r\n",
    "    for k,v in row['participant_type_map'].items():\r\n",
    "        if \"suspect\" in v.lower():\r\n",
    "            suspects.append(k)    \r\n",
    "    b=[]\r\n",
    "    for suspect in suspects:        \r\n",
    "        if suspect in row['participant_age_map']:\r\n",
    "            b.append(row['participant_age_map'][suspect])\r\n",
    "    ag.append(b)    \r\n",
    "\r\n",
    "Gun_Violence_2013_2018['suspect_age'] = ag"
   ],
   "outputs": [],
   "metadata": {}
  },
  {
   "cell_type": "code",
   "execution_count": 18,
   "source": [
    "idx = Gun_Violence_2013_2018.index.intersection(Mass_Shooting.index)\r\n",
    "len(idx)"
   ],
   "outputs": [
    {
     "output_type": "execute_result",
     "data": {
      "text/plain": [
       "20009"
      ]
     },
     "metadata": {},
     "execution_count": 18
    }
   ],
   "metadata": {}
  },
  {
   "cell_type": "code",
   "execution_count": 19,
   "source": [
    "idx = pd.merge(Mass_Shooting, Gun_Violence_2013_2018, how ='inner', on =['Total victims'], left_index=True)\r\n",
    "# idx = pd.concat([Gun_Violence_2013_2018, Mass_Shooting], axis=1, join=\"inner\")"
   ],
   "outputs": [],
   "metadata": {}
  },
  {
   "cell_type": "code",
   "execution_count": 20,
   "source": [
    "idx.info()"
   ],
   "outputs": [
    {
     "output_type": "stream",
     "name": "stdout",
     "text": [
      "<class 'pandas.core.frame.DataFrame'>\n",
      "DatetimeIndex: 366148 entries, 2013-01-19 to 2018-02-14\n",
      "Data columns (total 62 columns):\n",
      " #   Column                       Non-Null Count   Dtype         \n",
      "---  ------                       --------------   -----         \n",
      " 0   Title                        366148 non-null  object        \n",
      " 1   Location                     366148 non-null  object        \n",
      " 2   Area                         366148 non-null  object        \n",
      " 3   Incident Area                366148 non-null  object        \n",
      " 4   Target                       366148 non-null  object        \n",
      " 5   Cause                        366148 non-null  object        \n",
      " 6   Summary                      366148 non-null  object        \n",
      " 7   Shooter status               366148 non-null  object        \n",
      " 8   No. of shooter/suspect       366148 non-null  object        \n",
      " 9   Fatalities                   366148 non-null  int64         \n",
      " 10  Injured                      366148 non-null  int64         \n",
      " 11  Total victims                366148 non-null  int64         \n",
      " 12  Policeman Killed             366148 non-null  int64         \n",
      " 13  Age                          366148 non-null  object        \n",
      " 14  Employeed (Y/N)              366148 non-null  int64         \n",
      " 15  Employed at                  366148 non-null  object        \n",
      " 16  Mental Health Issues         366148 non-null  object        \n",
      " 17  Race                         366148 non-null  object        \n",
      " 18  Gender                       366148 non-null  object        \n",
      " 19  date_x                       366148 non-null  datetime64[ns]\n",
      " 20  year_x                       366148 non-null  int64         \n",
      " 21  month_x                      366148 non-null  int64         \n",
      " 22  monthday_x                   366148 non-null  int64         \n",
      " 23  weekday_x                    366148 non-null  int64         \n",
      " 24  state_x                      366148 non-null  object        \n",
      " 25  incident_id                  366148 non-null  int64         \n",
      " 26  state_y                      366148 non-null  object        \n",
      " 27  city_or_county               366148 non-null  object        \n",
      " 28  address                      359340 non-null  object        \n",
      " 29  n_killed                     366148 non-null  int64         \n",
      " 30  n_injured                    366148 non-null  int64         \n",
      " 31  incident_url                 366148 non-null  object        \n",
      " 32  source_url                   364820 non-null  object        \n",
      " 33  incident_url_fields_missing  366148 non-null  bool          \n",
      " 34  congressional_district       346023 non-null  float64       \n",
      " 35  gun_stolen                   202245 non-null  object        \n",
      " 36  gun_type                     202245 non-null  object        \n",
      " 37  incident_characteristics     365573 non-null  object        \n",
      " 38  latitude                     351345 non-null  float64       \n",
      " 39  location_description         95692 non-null   object        \n",
      " 40  longitude                    351345 non-null  float64       \n",
      " 41  n_guns_involved              202245 non-null  float64       \n",
      " 42  notes                        256289 non-null  object        \n",
      " 43  participant_age              366148 non-null  object        \n",
      " 44  participant_age_group        340388 non-null  object        \n",
      " 45  participant_gender           366148 non-null  object        \n",
      " 46  participant_name             229119 non-null  object        \n",
      " 47  participant_relationship     35240 non-null   object        \n",
      " 48  participant_status           366148 non-null  object        \n",
      " 49  participant_type             366148 non-null  object        \n",
      " 50  sources                      366038 non-null  object        \n",
      " 51  state_house_district         311737 non-null  float64       \n",
      " 52  state_senate_district        322052 non-null  float64       \n",
      " 53  date_y                       366148 non-null  datetime64[ns]\n",
      " 54  year_y                       366148 non-null  int64         \n",
      " 55  month_y                      366148 non-null  int64         \n",
      " 56  monthday_y                   366148 non-null  int64         \n",
      " 57  weekday_y                    366148 non-null  int64         \n",
      " 58  participant_type_map         366148 non-null  object        \n",
      " 59  participant_age_map          366148 non-null  object        \n",
      " 60  participant_gender_map       366148 non-null  object        \n",
      " 61  suspect_age                  366148 non-null  object        \n",
      "dtypes: bool(1), datetime64[ns](2), float64(6), int64(16), object(37)\n",
      "memory usage: 173.5+ MB\n"
     ]
    }
   ],
   "metadata": {}
  },
  {
   "cell_type": "code",
   "execution_count": 33,
   "source": [
    "print(idx.shape, idx.columns)"
   ],
   "outputs": [
    {
     "output_type": "stream",
     "name": "stdout",
     "text": [
      "(366148, 62) Index(['Title', 'Location', 'Area', 'Incident Area', 'Target', 'Cause',\n",
      "       'Summary', 'Shooter status', 'No. of shooter/suspect', 'Fatalities',\n",
      "       'Injured', 'Total victims', 'Policeman Killed', 'Age',\n",
      "       'Employeed (Y/N)', 'Employed at', 'Mental Health Issues', 'Race',\n",
      "       'Gender', 'date_x', 'year_x', 'month_x', 'monthday_x', 'weekday_x',\n",
      "       'state_x', 'incident_id', 'state_y', 'city_or_county', 'address',\n",
      "       'n_killed', 'n_injured', 'incident_url', 'source_url',\n",
      "       'incident_url_fields_missing', 'congressional_district', 'gun_stolen',\n",
      "       'gun_type', 'incident_characteristics', 'latitude',\n",
      "       'location_description', 'longitude', 'n_guns_involved', 'notes',\n",
      "       'participant_age', 'participant_age_group', 'participant_gender',\n",
      "       'participant_name', 'participant_relationship', 'participant_status',\n",
      "       'participant_type', 'sources', 'state_house_district',\n",
      "       'state_senate_district', 'date_y', 'year_y', 'month_y', 'monthday_y',\n",
      "       'weekday_y', 'participant_type_map', 'participant_age_map',\n",
      "       'participant_gender_map', 'suspect_age'],\n",
      "      dtype='object')\n"
     ]
    }
   ],
   "metadata": {}
  },
  {
   "cell_type": "code",
   "execution_count": 21,
   "source": [
    "idx.head(3)"
   ],
   "outputs": [
    {
     "output_type": "execute_result",
     "data": {
      "text/html": [
       "<div>\n",
       "<style scoped>\n",
       "    .dataframe tbody tr th:only-of-type {\n",
       "        vertical-align: middle;\n",
       "    }\n",
       "\n",
       "    .dataframe tbody tr th {\n",
       "        vertical-align: top;\n",
       "    }\n",
       "\n",
       "    .dataframe thead th {\n",
       "        text-align: right;\n",
       "    }\n",
       "</style>\n",
       "<table border=\"1\" class=\"dataframe\">\n",
       "  <thead>\n",
       "    <tr style=\"text-align: right;\">\n",
       "      <th></th>\n",
       "      <th>Title</th>\n",
       "      <th>Location</th>\n",
       "      <th>Area</th>\n",
       "      <th>Incident Area</th>\n",
       "      <th>Target</th>\n",
       "      <th>Cause</th>\n",
       "      <th>Summary</th>\n",
       "      <th>Shooter status</th>\n",
       "      <th>No. of shooter/suspect</th>\n",
       "      <th>Fatalities</th>\n",
       "      <th>...</th>\n",
       "      <th>state_senate_district</th>\n",
       "      <th>date_y</th>\n",
       "      <th>year_y</th>\n",
       "      <th>month_y</th>\n",
       "      <th>monthday_y</th>\n",
       "      <th>weekday_y</th>\n",
       "      <th>participant_type_map</th>\n",
       "      <th>participant_age_map</th>\n",
       "      <th>participant_gender_map</th>\n",
       "      <th>suspect_age</th>\n",
       "    </tr>\n",
       "    <tr>\n",
       "      <th>date</th>\n",
       "      <th></th>\n",
       "      <th></th>\n",
       "      <th></th>\n",
       "      <th></th>\n",
       "      <th></th>\n",
       "      <th></th>\n",
       "      <th></th>\n",
       "      <th></th>\n",
       "      <th></th>\n",
       "      <th></th>\n",
       "      <th></th>\n",
       "      <th></th>\n",
       "      <th></th>\n",
       "      <th></th>\n",
       "      <th></th>\n",
       "      <th></th>\n",
       "      <th></th>\n",
       "      <th></th>\n",
       "      <th></th>\n",
       "      <th></th>\n",
       "      <th></th>\n",
       "    </tr>\n",
       "  </thead>\n",
       "  <tbody>\n",
       "    <tr>\n",
       "      <th>2013-01-19</th>\n",
       "      <td>St. Aloysius Church</td>\n",
       "      <td>Spokane, Washington</td>\n",
       "      <td>Church</td>\n",
       "      <td>Church</td>\n",
       "      <td>random</td>\n",
       "      <td>terrorism</td>\n",
       "      <td>On November 11, 1971, a former MIT student ent...</td>\n",
       "      <td>killed</td>\n",
       "      <td>one</td>\n",
       "      <td>1</td>\n",
       "      <td>...</td>\n",
       "      <td>14.0</td>\n",
       "      <td>2013-01-19</td>\n",
       "      <td>2013</td>\n",
       "      <td>1</td>\n",
       "      <td>19</td>\n",
       "      <td>5</td>\n",
       "      <td>{'0': 'Victim', '1': 'Victim', '2': 'Victim', ...</td>\n",
       "      <td>{'0': '51', '1': '40', '2': '9', '3': '5', '4'...</td>\n",
       "      <td>{'0': 'Male', '1': 'Female', '2': 'Male', '3':...</td>\n",
       "      <td>[15]</td>\n",
       "    </tr>\n",
       "    <tr>\n",
       "      <th>2013-01-21</th>\n",
       "      <td>St. Aloysius Church</td>\n",
       "      <td>Spokane, Washington</td>\n",
       "      <td>Church</td>\n",
       "      <td>Church</td>\n",
       "      <td>random</td>\n",
       "      <td>terrorism</td>\n",
       "      <td>On November 11, 1971, a former MIT student ent...</td>\n",
       "      <td>killed</td>\n",
       "      <td>one</td>\n",
       "      <td>1</td>\n",
       "      <td>...</td>\n",
       "      <td>5.0</td>\n",
       "      <td>2013-01-21</td>\n",
       "      <td>2013</td>\n",
       "      <td>1</td>\n",
       "      <td>21</td>\n",
       "      <td>0</td>\n",
       "      <td>{'0': 'Victim', '1': 'Victim', '2': 'Victim', ...</td>\n",
       "      <td>{}</td>\n",
       "      <td>{'0': 'Male', '1': 'Male', '2': 'Male', '3': '...</td>\n",
       "      <td>[]</td>\n",
       "    </tr>\n",
       "    <tr>\n",
       "      <th>2013-01-26</th>\n",
       "      <td>St. Aloysius Church</td>\n",
       "      <td>Spokane, Washington</td>\n",
       "      <td>Church</td>\n",
       "      <td>Church</td>\n",
       "      <td>random</td>\n",
       "      <td>terrorism</td>\n",
       "      <td>On November 11, 1971, a former MIT student ent...</td>\n",
       "      <td>killed</td>\n",
       "      <td>one</td>\n",
       "      <td>1</td>\n",
       "      <td>...</td>\n",
       "      <td>21.0</td>\n",
       "      <td>2013-01-26</td>\n",
       "      <td>2013</td>\n",
       "      <td>1</td>\n",
       "      <td>26</td>\n",
       "      <td>5</td>\n",
       "      <td>{'0': 'Victim', '1': 'Victim', '2': 'Victim', ...</td>\n",
       "      <td>{'3': '78', '4': '48'}</td>\n",
       "      <td>{'0': 'Male', '1': 'Male', '2': 'Male', '3': '...</td>\n",
       "      <td>[48]</td>\n",
       "    </tr>\n",
       "  </tbody>\n",
       "</table>\n",
       "<p>3 rows × 62 columns</p>\n",
       "</div>"
      ],
      "text/plain": [
       "                          Title             Location    Area Incident Area  \\\n",
       "date                                                                         \n",
       "2013-01-19  St. Aloysius Church  Spokane, Washington  Church        Church   \n",
       "2013-01-21  St. Aloysius Church  Spokane, Washington  Church        Church   \n",
       "2013-01-26  St. Aloysius Church  Spokane, Washington  Church        Church   \n",
       "\n",
       "            Target      Cause  \\\n",
       "date                            \n",
       "2013-01-19  random  terrorism   \n",
       "2013-01-21  random  terrorism   \n",
       "2013-01-26  random  terrorism   \n",
       "\n",
       "                                                      Summary Shooter status  \\\n",
       "date                                                                           \n",
       "2013-01-19  On November 11, 1971, a former MIT student ent...         killed   \n",
       "2013-01-21  On November 11, 1971, a former MIT student ent...         killed   \n",
       "2013-01-26  On November 11, 1971, a former MIT student ent...         killed   \n",
       "\n",
       "           No. of shooter/suspect  Fatalities  ...  state_senate_district  \\\n",
       "date                                           ...                          \n",
       "2013-01-19                    one           1  ...                   14.0   \n",
       "2013-01-21                    one           1  ...                    5.0   \n",
       "2013-01-26                    one           1  ...                   21.0   \n",
       "\n",
       "               date_y  year_y month_y  monthday_y weekday_y  \\\n",
       "date                                                          \n",
       "2013-01-19 2013-01-19    2013       1          19         5   \n",
       "2013-01-21 2013-01-21    2013       1          21         0   \n",
       "2013-01-26 2013-01-26    2013       1          26         5   \n",
       "\n",
       "                                         participant_type_map  \\\n",
       "date                                                            \n",
       "2013-01-19  {'0': 'Victim', '1': 'Victim', '2': 'Victim', ...   \n",
       "2013-01-21  {'0': 'Victim', '1': 'Victim', '2': 'Victim', ...   \n",
       "2013-01-26  {'0': 'Victim', '1': 'Victim', '2': 'Victim', ...   \n",
       "\n",
       "                                          participant_age_map  \\\n",
       "date                                                            \n",
       "2013-01-19  {'0': '51', '1': '40', '2': '9', '3': '5', '4'...   \n",
       "2013-01-21                                                 {}   \n",
       "2013-01-26                             {'3': '78', '4': '48'}   \n",
       "\n",
       "                                       participant_gender_map suspect_age  \n",
       "date                                                                       \n",
       "2013-01-19  {'0': 'Male', '1': 'Female', '2': 'Male', '3':...        [15]  \n",
       "2013-01-21  {'0': 'Male', '1': 'Male', '2': 'Male', '3': '...          []  \n",
       "2013-01-26  {'0': 'Male', '1': 'Male', '2': 'Male', '3': '...        [48]  \n",
       "\n",
       "[3 rows x 62 columns]"
      ]
     },
     "metadata": {},
     "execution_count": 21
    }
   ],
   "metadata": {}
  },
  {
   "cell_type": "code",
   "execution_count": 34,
   "source": [
    "print(Gun_Violence_2013_2018.shape, Gun_Violence_2013_2018.columns)"
   ],
   "outputs": [
    {
     "output_type": "stream",
     "name": "stdout",
     "text": [
      "(239677, 38) Index(['incident_id', 'state', 'city_or_county', 'address', 'n_killed',\n",
      "       'n_injured', 'incident_url', 'source_url',\n",
      "       'incident_url_fields_missing', 'congressional_district', 'gun_stolen',\n",
      "       'gun_type', 'incident_characteristics', 'latitude',\n",
      "       'location_description', 'longitude', 'n_guns_involved', 'notes',\n",
      "       'participant_age', 'participant_age_group', 'participant_gender',\n",
      "       'participant_name', 'participant_relationship', 'participant_status',\n",
      "       'participant_type', 'sources', 'state_house_district',\n",
      "       'state_senate_district', 'date', 'year', 'month', 'monthday', 'weekday',\n",
      "       'Total victims', 'participant_type_map', 'participant_age_map',\n",
      "       'participant_gender_map', 'suspect_age'],\n",
      "      dtype='object')\n"
     ]
    }
   ],
   "metadata": {}
  },
  {
   "cell_type": "code",
   "execution_count": 22,
   "source": [
    "Gun_Violence_2013_2018.head(2)"
   ],
   "outputs": [
    {
     "output_type": "execute_result",
     "data": {
      "text/html": [
       "<div>\n",
       "<style scoped>\n",
       "    .dataframe tbody tr th:only-of-type {\n",
       "        vertical-align: middle;\n",
       "    }\n",
       "\n",
       "    .dataframe tbody tr th {\n",
       "        vertical-align: top;\n",
       "    }\n",
       "\n",
       "    .dataframe thead th {\n",
       "        text-align: right;\n",
       "    }\n",
       "</style>\n",
       "<table border=\"1\" class=\"dataframe\">\n",
       "  <thead>\n",
       "    <tr style=\"text-align: right;\">\n",
       "      <th></th>\n",
       "      <th>incident_id</th>\n",
       "      <th>state</th>\n",
       "      <th>city_or_county</th>\n",
       "      <th>address</th>\n",
       "      <th>n_killed</th>\n",
       "      <th>n_injured</th>\n",
       "      <th>incident_url</th>\n",
       "      <th>source_url</th>\n",
       "      <th>incident_url_fields_missing</th>\n",
       "      <th>congressional_district</th>\n",
       "      <th>...</th>\n",
       "      <th>date</th>\n",
       "      <th>year</th>\n",
       "      <th>month</th>\n",
       "      <th>monthday</th>\n",
       "      <th>weekday</th>\n",
       "      <th>Total victims</th>\n",
       "      <th>participant_type_map</th>\n",
       "      <th>participant_age_map</th>\n",
       "      <th>participant_gender_map</th>\n",
       "      <th>suspect_age</th>\n",
       "    </tr>\n",
       "    <tr>\n",
       "      <th>date</th>\n",
       "      <th></th>\n",
       "      <th></th>\n",
       "      <th></th>\n",
       "      <th></th>\n",
       "      <th></th>\n",
       "      <th></th>\n",
       "      <th></th>\n",
       "      <th></th>\n",
       "      <th></th>\n",
       "      <th></th>\n",
       "      <th></th>\n",
       "      <th></th>\n",
       "      <th></th>\n",
       "      <th></th>\n",
       "      <th></th>\n",
       "      <th></th>\n",
       "      <th></th>\n",
       "      <th></th>\n",
       "      <th></th>\n",
       "      <th></th>\n",
       "      <th></th>\n",
       "    </tr>\n",
       "  </thead>\n",
       "  <tbody>\n",
       "    <tr>\n",
       "      <th>2013-01-01</th>\n",
       "      <td>461105</td>\n",
       "      <td>Pennsylvania</td>\n",
       "      <td>Mckeesport</td>\n",
       "      <td>1506 Versailles Avenue and Coursin Street</td>\n",
       "      <td>0</td>\n",
       "      <td>4</td>\n",
       "      <td>http://www.gunviolencearchive.org/incident/461105</td>\n",
       "      <td>http://www.post-gazette.com/local/south/2013/0...</td>\n",
       "      <td>False</td>\n",
       "      <td>14.0</td>\n",
       "      <td>...</td>\n",
       "      <td>2013-01-01</td>\n",
       "      <td>2013</td>\n",
       "      <td>1</td>\n",
       "      <td>1</td>\n",
       "      <td>1</td>\n",
       "      <td>4</td>\n",
       "      <td>{'0': 'Victim', '1': 'Victim', '2': 'Victim', ...</td>\n",
       "      <td>{'0': '20'}</td>\n",
       "      <td>{'0': 'Male', '1': 'Male', '3': 'Male', '4': '...</td>\n",
       "      <td>[]</td>\n",
       "    </tr>\n",
       "    <tr>\n",
       "      <th>2013-01-01</th>\n",
       "      <td>460726</td>\n",
       "      <td>California</td>\n",
       "      <td>Hawthorne</td>\n",
       "      <td>13500 block of Cerise Avenue</td>\n",
       "      <td>1</td>\n",
       "      <td>3</td>\n",
       "      <td>http://www.gunviolencearchive.org/incident/460726</td>\n",
       "      <td>http://www.dailybulletin.com/article/zz/201301...</td>\n",
       "      <td>False</td>\n",
       "      <td>43.0</td>\n",
       "      <td>...</td>\n",
       "      <td>2013-01-01</td>\n",
       "      <td>2013</td>\n",
       "      <td>1</td>\n",
       "      <td>1</td>\n",
       "      <td>1</td>\n",
       "      <td>4</td>\n",
       "      <td>{'0': 'Victim', '1': 'Victim', '2': 'Victim', ...</td>\n",
       "      <td>{'0': '20'}</td>\n",
       "      <td>{'0': 'Male'}</td>\n",
       "      <td>[]</td>\n",
       "    </tr>\n",
       "  </tbody>\n",
       "</table>\n",
       "<p>2 rows × 38 columns</p>\n",
       "</div>"
      ],
      "text/plain": [
       "            incident_id         state city_or_county  \\\n",
       "date                                                   \n",
       "2013-01-01       461105  Pennsylvania     Mckeesport   \n",
       "2013-01-01       460726    California      Hawthorne   \n",
       "\n",
       "                                              address  n_killed  n_injured  \\\n",
       "date                                                                         \n",
       "2013-01-01  1506 Versailles Avenue and Coursin Street         0          4   \n",
       "2013-01-01               13500 block of Cerise Avenue         1          3   \n",
       "\n",
       "                                                 incident_url  \\\n",
       "date                                                            \n",
       "2013-01-01  http://www.gunviolencearchive.org/incident/461105   \n",
       "2013-01-01  http://www.gunviolencearchive.org/incident/460726   \n",
       "\n",
       "                                                   source_url  \\\n",
       "date                                                            \n",
       "2013-01-01  http://www.post-gazette.com/local/south/2013/0...   \n",
       "2013-01-01  http://www.dailybulletin.com/article/zz/201301...   \n",
       "\n",
       "            incident_url_fields_missing  congressional_district  ...  \\\n",
       "date                                                             ...   \n",
       "2013-01-01                        False                    14.0  ...   \n",
       "2013-01-01                        False                    43.0  ...   \n",
       "\n",
       "                 date  year month  monthday weekday  Total victims  \\\n",
       "date                                                                 \n",
       "2013-01-01 2013-01-01  2013     1         1       1              4   \n",
       "2013-01-01 2013-01-01  2013     1         1       1              4   \n",
       "\n",
       "                                         participant_type_map  \\\n",
       "date                                                            \n",
       "2013-01-01  {'0': 'Victim', '1': 'Victim', '2': 'Victim', ...   \n",
       "2013-01-01  {'0': 'Victim', '1': 'Victim', '2': 'Victim', ...   \n",
       "\n",
       "           participant_age_map  \\\n",
       "date                             \n",
       "2013-01-01         {'0': '20'}   \n",
       "2013-01-01         {'0': '20'}   \n",
       "\n",
       "                                       participant_gender_map suspect_age  \n",
       "date                                                                       \n",
       "2013-01-01  {'0': 'Male', '1': 'Male', '3': 'Male', '4': '...          []  \n",
       "2013-01-01                                      {'0': 'Male'}          []  \n",
       "\n",
       "[2 rows x 38 columns]"
      ]
     },
     "metadata": {},
     "execution_count": 22
    }
   ],
   "metadata": {}
  },
  {
   "cell_type": "code",
   "execution_count": 287,
   "source": [
    "len(Gun_Violence_2013_2018)"
   ],
   "outputs": [
    {
     "output_type": "execute_result",
     "data": {
      "text/plain": [
       "239677"
      ]
     },
     "metadata": {},
     "execution_count": 287
    }
   ],
   "metadata": {}
  },
  {
   "cell_type": "markdown",
   "source": [
    "##  2.5 Target variables  \r\n",
    "index: Year 2009 - 2018  \r\n",
    "Dependent variable (y): Gun deaths; Age group; Shooter age; Employeed;    \r\n",
    "Independent variables (Xi): Population, Gun possession, Employment rate, Election year "
   ],
   "metadata": {}
  },
  {
   "cell_type": "markdown",
   "source": [
    "## 2.6 Save data  "
   ],
   "metadata": {}
  },
  {
   "cell_type": "code",
   "execution_count": 18,
   "source": [
    "Gun_Violence_2013_2018.to_csv('../data/Clean_data/GunViolence2013_2018.csv')"
   ],
   "outputs": [],
   "metadata": {}
  },
  {
   "cell_type": "code",
   "execution_count": 284,
   "source": [
    "idx.to_csv('../data/Clean_data/GunViolence2013_2018_final.csv')"
   ],
   "outputs": [],
   "metadata": {}
  },
  {
   "cell_type": "markdown",
   "source": [
    "## 2.7 Summary  "
   ],
   "metadata": {}
  }
 ]
}