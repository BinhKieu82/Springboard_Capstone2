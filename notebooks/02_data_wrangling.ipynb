{
 "metadata": {
  "language_info": {
   "codemirror_mode": {
    "name": "ipython",
    "version": 3
   },
   "file_extension": ".py",
   "mimetype": "text/x-python",
   "name": "python",
   "nbconvert_exporter": "python",
   "pygments_lexer": "ipython3",
   "version": "3.7.9"
  },
  "orig_nbformat": 2,
  "kernelspec": {
   "name": "python3",
   "display_name": "Python 3.7.9 64-bit ('DS': conda)"
  },
  "interpreter": {
   "hash": "b4bb8b8d2cc883794a51857fbbb51c36637924a112e0ed7b23f7b7e3860b68ad"
  }
 },
 "nbformat": 4,
 "nbformat_minor": 2,
 "cells": [
  {
   "cell_type": "markdown",
   "source": [
    "# 2. Data wrangling   \r\n",
    "   ### 2.1 Data overviews  \r\n",
    "   ### 2.2 Importing related libs & modules  \r\n",
    "   ### 2.3 Loading data  \r\n",
    "        a. Gun Possession: number of guns by $\\color{red}{\\text{years}}$  \r\n",
    "        b. Gun Deaths: number of deaths (homicide, sucide...) by $\\color{red}{\\text{years}}$  \r\n",
    "        c. [Firearm Deaths by Age](https://webappa.cdc.gov/sasweb/ncipc/mortrate.html): No of death group by age listed by $\\color{red}{\\text{years}}$  \r\n",
    "        d. Mass Shooting: No cases of shooting with shooter age, employeed  by $\\color{red}{\\text{years, states}}$  \r\n",
    "        e. Unemployment rate: Unemployment rate by $\\color{red}{\\text{years, states}}$  \r\n",
    "   ### 2.4 Explore the data  \r\n",
    "        a. Data distribution & missing values  \r\n",
    "        b. Numeric features  \r\n",
    "        c. Category features   \r\n",
    "   ### 2.5 Target variables  \r\n",
    "   ### 2.6 Save data  \r\n",
    "   ### 2.7 Sumary  \r\n"
   ],
   "metadata": {}
  },
  {
   "cell_type": "markdown",
   "source": [
    "## 2.1 Data Overviews  \r\n",
    "### input data  \r\n",
    "index: Year 2013 - 2018  \r\n",
    "Dependent variable (y): Gun deaths per years & states     \r\n",
    "Independent variables (Xi): Population, Gun possession, Employment rate, Age group, Shooter age, Shooter gender, Unemployment rate,\r\n",
    "  \r\n",
    "### What to do  \r\n",
    "Load, transform & visualize data.  \r\n",
    "Q: Add more features for the prediction?  "
   ],
   "metadata": {}
  },
  {
   "cell_type": "markdown",
   "source": [
    "## 2.2 Import libs & modules  \n",
    "### geoplot for geodetic display"
   ],
   "metadata": {}
  },
  {
   "cell_type": "code",
   "execution_count": 1,
   "source": [
    "import numpy as np\r\n",
    "import pandas as pd\r\n",
    "import matplotlib.pyplot as plt\r\n",
    "from plotly.offline import init_notebook_mode, iplot\r\n",
    "import plotly.graph_objs as go\r\n",
    "import seaborn as sns\r\n",
    "import os\r\n",
    "\r\n",
    "from library.sb_utils import save_file"
   ],
   "outputs": [],
   "metadata": {}
  },
  {
   "cell_type": "markdown",
   "source": [
    "## 2.3 Loading data  \r\n",
    "### DF: GunDeaths_2009_2018; FirearmDeaths_2000_2018; GunPossession_1986_2018; Mass_Shooting; Employment;   \r\n",
    "Additional data sorting by year."
   ],
   "metadata": {}
  },
  {
   "cell_type": "code",
   "execution_count": 87,
   "source": [
    "GunDeaths_2009_2018  = pd.read_csv('../data/USA_Crimes/GunDeaths_2009_2018.csv').set_index('Year')\r\n",
    "# FirearmDeaths_2000_2018  = pd.read_csv('../data/USA_Crimes/FirearmDeaths2000_2018.csv').set_index('Year')\r\n",
    "GunPossession_1986_2018 = pd.read_csv('../data/USA_Crimes/GunPossession_1986_2018.csv', index_col=0)"
   ],
   "outputs": [],
   "metadata": {}
  },
  {
   "cell_type": "code",
   "execution_count": 88,
   "source": [
    "GunPossession_1986_2018 = GunPossession_1986_2018[['Total Licensees ','Licensed Business Entities']]\r\n",
    "GunPossession_1986_2018['year'] = GunPossession_1986_2018.index\r\n",
    "# GunPossession_1986_2018.info()"
   ],
   "outputs": [],
   "metadata": {}
  },
  {
   "cell_type": "code",
   "execution_count": null,
   "source": [
    "# FirearmDeaths_2000_2018.drop(['State','Ethnicity','First Year','Last Year','Cause of Death'], axis=1, inplace=True)\r\n",
    "# FirearmDeaths_2000_2018.columns"
   ],
   "outputs": [],
   "metadata": {}
  },
  {
   "cell_type": "code",
   "execution_count": 89,
   "source": [
    "GunDeaths_2009_2018 = GunDeaths_2009_2018[['Population','Total gun deaths','Total children and teen gun deaths']]\r\n",
    "GunDeaths_2009_2018['year'] = GunDeaths_2009_2018.index\r\n",
    "# GunDeaths_2009_2018.columns "
   ],
   "outputs": [],
   "metadata": {}
  },
  {
   "cell_type": "markdown",
   "source": [
    "### **Combine data**\r\n",
    "#### Data1: $\\color{cyan}{\\text{Year, Polpulation, Total firearms, Total licenses, Gun deaths, age group, sex, race.}}$\r\n",
    "#### DF1 = GunDeaths_2009_2018 + FirearmDeaths_2000_2018 + GunPossession_1986_2018"
   ],
   "metadata": {}
  },
  {
   "cell_type": "markdown",
   "source": [
    "Yearly employment info by states"
   ],
   "metadata": {}
  },
  {
   "cell_type": "code",
   "execution_count": 138,
   "source": [
    "Employment_header = ['FIPS Code', 'State and area', 'Year', 'Civilian non-institutional population', \r\n",
    "  'Civilian labor force/Total', 'Civilian labor force/Percent of population', \r\n",
    "  'Civilian labor force/Employment/Total', 'Civilian labor force/Employment/Percent of population',\r\n",
    "  'Civilian labor force/Unemployment/Total','Civilian labor force/Unemployment/Rate']"
   ],
   "outputs": [],
   "metadata": {}
  },
  {
   "cell_type": "code",
   "execution_count": 139,
   "source": [
    "# Employment = pd.read_excel('../data/USA_Crimes/staadata.xlsx', header=0)\r\n",
    "Employment=pd.read_excel(\r\n",
    "     os.path.join(\"../data/USA_Crimes/\", \"staadata.xlsx\"),\r\n",
    "     engine='openpyxl', header=None, names= Employment_header,skiprows=8\r\n",
    ").set_index('Year')"
   ],
   "outputs": [],
   "metadata": {}
  },
  {
   "cell_type": "code",
   "execution_count": 140,
   "source": [
    "Employment = Employment[['State and area', 'Civilian non-institutional population', \r\n",
    "  'Civilian labor force/Total','Civilian labor force/Unemployment/Rate']]\r\n",
    "Employment.columns = ['state','State population','State labor force','Unemployment rate']\r\n",
    "Employment['year'] = Employment.index"
   ],
   "outputs": [],
   "metadata": {}
  },
  {
   "cell_type": "code",
   "execution_count": 111,
   "source": [
    "Employment.head(2)"
   ],
   "outputs": [
    {
     "output_type": "execute_result",
     "data": {
      "text/html": [
       "<div>\n",
       "<style scoped>\n",
       "    .dataframe tbody tr th:only-of-type {\n",
       "        vertical-align: middle;\n",
       "    }\n",
       "\n",
       "    .dataframe tbody tr th {\n",
       "        vertical-align: top;\n",
       "    }\n",
       "\n",
       "    .dataframe thead th {\n",
       "        text-align: right;\n",
       "    }\n",
       "</style>\n",
       "<table border=\"1\" class=\"dataframe\">\n",
       "  <thead>\n",
       "    <tr style=\"text-align: right;\">\n",
       "      <th></th>\n",
       "      <th>FIPS Code</th>\n",
       "      <th>state</th>\n",
       "      <th>State population</th>\n",
       "      <th>State labor force</th>\n",
       "      <th>Unemployment rate</th>\n",
       "      <th>year</th>\n",
       "    </tr>\n",
       "    <tr>\n",
       "      <th>Year</th>\n",
       "      <th></th>\n",
       "      <th></th>\n",
       "      <th></th>\n",
       "      <th></th>\n",
       "      <th></th>\n",
       "      <th></th>\n",
       "    </tr>\n",
       "  </thead>\n",
       "  <tbody>\n",
       "    <tr>\n",
       "      <th>1976</th>\n",
       "      <td>1</td>\n",
       "      <td>Alabama</td>\n",
       "      <td>2632667</td>\n",
       "      <td>1501284</td>\n",
       "      <td>6.8</td>\n",
       "      <td>1976</td>\n",
       "    </tr>\n",
       "    <tr>\n",
       "      <th>1976</th>\n",
       "      <td>2</td>\n",
       "      <td>Alaska</td>\n",
       "      <td>239917</td>\n",
       "      <td>163570</td>\n",
       "      <td>7.6</td>\n",
       "      <td>1976</td>\n",
       "    </tr>\n",
       "  </tbody>\n",
       "</table>\n",
       "</div>"
      ],
      "text/plain": [
       "      FIPS Code    state  State population  State labor force  \\\n",
       "Year                                                            \n",
       "1976          1  Alabama           2632667            1501284   \n",
       "1976          2   Alaska            239917             163570   \n",
       "\n",
       "      Unemployment rate  year  \n",
       "Year                           \n",
       "1976                6.8  1976  \n",
       "1976                7.6  1976  "
      ]
     },
     "metadata": {},
     "execution_count": 111
    }
   ],
   "metadata": {}
  },
  {
   "cell_type": "markdown",
   "source": [
    "Mass shooting for employment, mental health, gender, lat, long which will be join with 2013-2018 gun violence data"
   ],
   "metadata": {}
  },
  {
   "cell_type": "code",
   "execution_count": 25,
   "source": [
    "Mass_Shooting = pd.read_csv('../data/USA_Crimes/US Mass Shooting 1966-2019 (cleaned).csv', parse_dates=True, index_col='Date')"
   ],
   "outputs": [],
   "metadata": {}
  },
  {
   "cell_type": "code",
   "execution_count": 28,
   "source": [
    "MS_column_drop = ['S#','Title','Area','Incident Area','Open/Close Location','Target','Cause','Summary',\r\n",
    "  'Shooter status','No. of shooter/suspect']\r\n",
    "Mass_Shooting.sort_index(inplace=True)\r\n",
    "Mass_Shooting.drop(MS_column_drop, axis=1, inplace=True)"
   ],
   "outputs": [],
   "metadata": {}
  },
  {
   "cell_type": "code",
   "execution_count": 43,
   "source": [
    "Mass_Shooting['date'] = pd.to_datetime(Mass_Shooting.index)\r\n",
    "Mass_Shooting['year'] = Mass_Shooting['date'].dt.year\r\n",
    "# Mass_Shooting['month'] = Mass_Shooting['date'].dt.month\r\n",
    "# Mass_Shooting['monthday'] = Mass_Shooting['date'].dt.day\r\n",
    "# Mass_Shooting['weekday'] = Mass_Shooting['date'].dt.weekday"
   ],
   "outputs": [],
   "metadata": {}
  },
  {
   "cell_type": "code",
   "execution_count": 30,
   "source": [
    "def get_state(txt):\r\n",
    "    val = txt.split(\", \")[-1]            \r\n",
    "    return val\r\n",
    "\r\n",
    "Mass_Shooting['state'] = Mass_Shooting['Location'].apply(lambda x : get_state(x))"
   ],
   "outputs": [],
   "metadata": {}
  },
  {
   "cell_type": "code",
   "execution_count": 31,
   "source": [
    "Mass_Shooting.head(2)"
   ],
   "outputs": [
    {
     "output_type": "execute_result",
     "data": {
      "text/html": [
       "<div>\n",
       "<style scoped>\n",
       "    .dataframe tbody tr th:only-of-type {\n",
       "        vertical-align: middle;\n",
       "    }\n",
       "\n",
       "    .dataframe tbody tr th {\n",
       "        vertical-align: top;\n",
       "    }\n",
       "\n",
       "    .dataframe thead th {\n",
       "        text-align: right;\n",
       "    }\n",
       "</style>\n",
       "<table border=\"1\" class=\"dataframe\">\n",
       "  <thead>\n",
       "    <tr style=\"text-align: right;\">\n",
       "      <th></th>\n",
       "      <th>Location</th>\n",
       "      <th>Fatalities</th>\n",
       "      <th>Injured</th>\n",
       "      <th>Total victims</th>\n",
       "      <th>Policeman Killed</th>\n",
       "      <th>Age</th>\n",
       "      <th>Employeed (Y/N)</th>\n",
       "      <th>Employed at</th>\n",
       "      <th>Mental Health Issues</th>\n",
       "      <th>Race</th>\n",
       "      <th>Gender</th>\n",
       "      <th>Latitude</th>\n",
       "      <th>Longitude</th>\n",
       "      <th>state</th>\n",
       "    </tr>\n",
       "    <tr>\n",
       "      <th>Date</th>\n",
       "      <th></th>\n",
       "      <th></th>\n",
       "      <th></th>\n",
       "      <th></th>\n",
       "      <th></th>\n",
       "      <th></th>\n",
       "      <th></th>\n",
       "      <th></th>\n",
       "      <th></th>\n",
       "      <th></th>\n",
       "      <th></th>\n",
       "      <th></th>\n",
       "      <th></th>\n",
       "      <th></th>\n",
       "    </tr>\n",
       "  </thead>\n",
       "  <tbody>\n",
       "    <tr>\n",
       "      <th>1971-11-11</th>\n",
       "      <td>Spokane, Washington</td>\n",
       "      <td>1</td>\n",
       "      <td>4</td>\n",
       "      <td>5</td>\n",
       "      <td>0</td>\n",
       "      <td>-999</td>\n",
       "      <td>-999</td>\n",
       "      <td>-999</td>\n",
       "      <td>Yes</td>\n",
       "      <td>White, White American or European American</td>\n",
       "      <td>Male</td>\n",
       "      <td>47.673674</td>\n",
       "      <td>-117.415984</td>\n",
       "      <td>Washington</td>\n",
       "    </tr>\n",
       "    <tr>\n",
       "      <th>1972-12-31</th>\n",
       "      <td>New Orleans, Louisiana</td>\n",
       "      <td>9</td>\n",
       "      <td>13</td>\n",
       "      <td>22</td>\n",
       "      <td>4</td>\n",
       "      <td>23</td>\n",
       "      <td>-999</td>\n",
       "      <td>-999</td>\n",
       "      <td>Yes</td>\n",
       "      <td>Black, Black American or African American</td>\n",
       "      <td>Male</td>\n",
       "      <td>30.068724</td>\n",
       "      <td>-89.931474</td>\n",
       "      <td>Louisiana</td>\n",
       "    </tr>\n",
       "  </tbody>\n",
       "</table>\n",
       "</div>"
      ],
      "text/plain": [
       "                          Location  Fatalities  Injured  Total victims  \\\n",
       "Date                                                                     \n",
       "1971-11-11     Spokane, Washington           1        4              5   \n",
       "1972-12-31  New Orleans, Louisiana           9       13             22   \n",
       "\n",
       "            Policeman Killed   Age  Employeed (Y/N) Employed at  \\\n",
       "Date                                                              \n",
       "1971-11-11                 0  -999             -999        -999   \n",
       "1972-12-31                 4    23             -999        -999   \n",
       "\n",
       "           Mental Health Issues                                        Race  \\\n",
       "Date                                                                          \n",
       "1971-11-11                  Yes  White, White American or European American   \n",
       "1972-12-31                  Yes   Black, Black American or African American   \n",
       "\n",
       "           Gender   Latitude   Longitude       state  \n",
       "Date                                                  \n",
       "1971-11-11   Male  47.673674 -117.415984  Washington  \n",
       "1972-12-31   Male  30.068724  -89.931474   Louisiana  "
      ]
     },
     "metadata": {},
     "execution_count": 31
    }
   ],
   "metadata": {}
  },
  {
   "cell_type": "markdown",
   "source": [
    "### **Combine data**\r\n",
    "#### Data2: $\\color{cyan}{\\text{Year, State, Population, Unemployment rate, Gun violent cases, Shooter gender, Shooter age, Employeed.}}$  \r\n",
    "#### DF2 = Gun_violence_2013_2018  + Mass_shooting + Employment"
   ],
   "metadata": {}
  },
  {
   "cell_type": "code",
   "execution_count": 82,
   "source": [
    "Gun_Violence_2013_2018 = pd.read_csv('../data/USA_Crimes/gun-violence-data_01-2013_03-2018.csv', parse_dates=True, index_col='date')"
   ],
   "outputs": [],
   "metadata": {}
  },
  {
   "cell_type": "code",
   "execution_count": 83,
   "source": [
    "GV_column_drop = ['city_or_county','address','gun_stolen','incident_url','source_url',\r\n",
    "  'incident_url_fields_missing','congressional_district','gun_stolen','gun_type','incident_characteristics',\r\n",
    "  'latitude','longitude','location_description','notes','participant_name','participant_age_group','participant_status','participant_relationship','sources',\r\n",
    "  'state_house_district','state_senate_district']\r\n",
    "Gun_Violence_2013_2018.sort_index(inplace=True)\r\n",
    "Gun_Violence_2013_2018.drop(GV_column_drop, axis=1, inplace=True)"
   ],
   "outputs": [],
   "metadata": {}
  },
  {
   "cell_type": "code",
   "execution_count": 49,
   "source": [
    "Gun_Violence_2013_2018.head(2)"
   ],
   "outputs": [
    {
     "output_type": "execute_result",
     "data": {
      "text/html": [
       "<div>\n",
       "<style scoped>\n",
       "    .dataframe tbody tr th:only-of-type {\n",
       "        vertical-align: middle;\n",
       "    }\n",
       "\n",
       "    .dataframe tbody tr th {\n",
       "        vertical-align: top;\n",
       "    }\n",
       "\n",
       "    .dataframe thead th {\n",
       "        text-align: right;\n",
       "    }\n",
       "</style>\n",
       "<table border=\"1\" class=\"dataframe\">\n",
       "  <thead>\n",
       "    <tr style=\"text-align: right;\">\n",
       "      <th></th>\n",
       "      <th>incident_id</th>\n",
       "      <th>state</th>\n",
       "      <th>n_killed</th>\n",
       "      <th>n_injured</th>\n",
       "      <th>n_guns_involved</th>\n",
       "      <th>participant_age</th>\n",
       "      <th>participant_gender</th>\n",
       "      <th>participant_type</th>\n",
       "    </tr>\n",
       "    <tr>\n",
       "      <th>date</th>\n",
       "      <th></th>\n",
       "      <th></th>\n",
       "      <th></th>\n",
       "      <th></th>\n",
       "      <th></th>\n",
       "      <th></th>\n",
       "      <th></th>\n",
       "      <th></th>\n",
       "    </tr>\n",
       "  </thead>\n",
       "  <tbody>\n",
       "    <tr>\n",
       "      <th>2013-01-01</th>\n",
       "      <td>461105</td>\n",
       "      <td>Pennsylvania</td>\n",
       "      <td>0</td>\n",
       "      <td>4</td>\n",
       "      <td>NaN</td>\n",
       "      <td>0::20</td>\n",
       "      <td>0::Male||1::Male||3::Male||4::Female</td>\n",
       "      <td>0::Victim||1::Victim||2::Victim||3::Victim||4:...</td>\n",
       "    </tr>\n",
       "    <tr>\n",
       "      <th>2013-01-01</th>\n",
       "      <td>460726</td>\n",
       "      <td>California</td>\n",
       "      <td>1</td>\n",
       "      <td>3</td>\n",
       "      <td>NaN</td>\n",
       "      <td>0::20</td>\n",
       "      <td>0::Male</td>\n",
       "      <td>0::Victim||1::Victim||2::Victim||3::Victim||4:...</td>\n",
       "    </tr>\n",
       "  </tbody>\n",
       "</table>\n",
       "</div>"
      ],
      "text/plain": [
       "            incident_id         state  n_killed  n_injured  n_guns_involved  \\\n",
       "date                                                                          \n",
       "2013-01-01       461105  Pennsylvania         0          4              NaN   \n",
       "2013-01-01       460726    California         1          3              NaN   \n",
       "\n",
       "           participant_age                    participant_gender  \\\n",
       "date                                                               \n",
       "2013-01-01           0::20  0::Male||1::Male||3::Male||4::Female   \n",
       "2013-01-01           0::20                               0::Male   \n",
       "\n",
       "                                             participant_type  \n",
       "date                                                           \n",
       "2013-01-01  0::Victim||1::Victim||2::Victim||3::Victim||4:...  \n",
       "2013-01-01  0::Victim||1::Victim||2::Victim||3::Victim||4:...  "
      ]
     },
     "metadata": {},
     "execution_count": 49
    }
   ],
   "metadata": {}
  },
  {
   "cell_type": "code",
   "execution_count": 84,
   "source": [
    "Gun_Violence_2013_2018['date'] = pd.to_datetime(Gun_Violence_2013_2018.index)\r\n",
    "Gun_Violence_2013_2018['year'] = Gun_Violence_2013_2018['date'].dt.year\r\n",
    "# Gun_Violence_2013_2018['month'] = Gun_Violence_2013_2018['date'].dt.month\r\n",
    "# Gun_Violence_2013_2018['monthday'] = Gun_Violence_2013_2018['date'].dt.day\r\n",
    "# Gun_Violence_2013_2018['weekday'] = Gun_Violence_2013_2018['date'].dt.weekday\r\n",
    "Gun_Violence_2013_2018['Total victims'] = Gun_Violence_2013_2018['n_killed'] + Gun_Violence_2013_2018['n_injured']"
   ],
   "outputs": [],
   "metadata": {}
  },
  {
   "cell_type": "markdown",
   "source": [
    "## 2.4 Explore data  \n",
    "### a. Data transforming  "
   ],
   "metadata": {}
  },
  {
   "cell_type": "code",
   "execution_count": 85,
   "source": [
    "def get_user_mapping(txt):\r\n",
    "    if txt == \"NA\":\r\n",
    "        return {}\r\n",
    "    mapping = {}\r\n",
    "    for d in txt.split(\"||\"):\r\n",
    "        try:\r\n",
    "            key = d.split(\"::\")[0]\r\n",
    "            val = d.split(\"::\")[1]\r\n",
    "            if key not in mapping:\r\n",
    "                mapping[key] = val\r\n",
    "        except:\r\n",
    "            pass\r\n",
    "    return mapping\r\n",
    "\r\n",
    "Gun_Violence_2013_2018['participant_type'] = Gun_Violence_2013_2018['participant_type'].fillna(\"NA\")\r\n",
    "Gun_Violence_2013_2018['participant_type_map'] = Gun_Violence_2013_2018['participant_type'].apply(lambda x : get_user_mapping(x))\r\n",
    "Gun_Violence_2013_2018['participant_age'] = Gun_Violence_2013_2018['participant_age'].fillna(\"NA\")\r\n",
    "Gun_Violence_2013_2018['participant_age_map'] = Gun_Violence_2013_2018['participant_age'].apply(lambda x : get_user_mapping(x))\r\n",
    "Gun_Violence_2013_2018['participant_gender'] = Gun_Violence_2013_2018['participant_gender'].fillna(\"NA\")\r\n",
    "Gun_Violence_2013_2018['participant_gender_map'] = Gun_Violence_2013_2018['participant_gender'].apply(lambda x : get_user_mapping(x))\r\n",
    "\r\n",
    "## Finding the Suspect Age Groups\r\n",
    "suspect_age_groups = {}\r\n",
    "for i, row in Gun_Violence_2013_2018.iterrows():\r\n",
    "    suspects = []\r\n",
    "    for k,v in row['participant_type_map'].items():\r\n",
    "        if \"suspect\" in v.lower():\r\n",
    "            suspects.append(k)\r\n",
    "    for suspect in suspects:\r\n",
    "        if suspect in row['participant_age_map']:\r\n",
    "            ag = row['participant_age_map'][suspect]\r\n",
    "            if ag not in suspect_age_groups:\r\n",
    "                suspect_age_groups[ag] = 0 \r\n",
    "            else:\r\n",
    "                suspect_age_groups[ag] += 1\r\n",
    "\r\n",
    "# suspect_age_groups = dict(sorted(suspect_age_groups.items()))\r\n",
    "trace1 = go.Bar(x=list(map(int,suspect_age_groups.keys())), y=list(suspect_age_groups.values()), opacity=0.75, name=\"month\", marker=dict(color='rgba(200, 20, 160, 0.6)'))\r\n",
    "layout = dict(height=400, title='Suspects Age - Distribution', xaxis=dict(range=[0, 100]), legend=dict(orientation=\"h\"));\r\n",
    "fig = go.Figure(data=[trace1], layout=layout)\r\n",
    "iplot(fig)"
   ],
   "outputs": [
    {
     "output_type": "display_data",
     "data": {
      "application/vnd.plotly.v1+json": {
       "config": {
        "linkText": "Export to plot.ly",
        "plotlyServerURL": "https://plot.ly",
        "showLink": false
       },
       "data": [
        {
         "marker": {
          "color": "rgba(200, 20, 160, 0.6)"
         },
         "name": "month",
         "opacity": 0.75,
         "type": "bar",
         "x": [
          25,
          31,
          33,
          47,
          15,
          48,
          29,
          24,
          18,
          19,
          22,
          23,
          68,
          20,
          41,
          17,
          64,
          21,
          43,
          28,
          27,
          55,
          37,
          39,
          32,
          35,
          42,
          30,
          59,
          44,
          40,
          72,
          26,
          34,
          16,
          56,
          51,
          45,
          38,
          36,
          12,
          13,
          63,
          58,
          52,
          49,
          70,
          46,
          88,
          54,
          61,
          66,
          71,
          14,
          69,
          53,
          50,
          60,
          80,
          4,
          75,
          67,
          10,
          62,
          57,
          76,
          74,
          73,
          81,
          83,
          11,
          9,
          3,
          65,
          86,
          6,
          7,
          84,
          2,
          5,
          82,
          79,
          90,
          8,
          87,
          93,
          89,
          85,
          77,
          78,
          94,
          96,
          98,
          91,
          1,
          0,
          92,
          311
         ],
         "y": [
          4569,
          2740,
          2404,
          835,
          1500,
          833,
          3257,
          5030,
          6496,
          6539,
          5519,
          5186,
          158,
          5817,
          1179,
          4302,
          233,
          5651,
          1046,
          3451,
          3898,
          569,
          1857,
          1404,
          2671,
          2292,
          1108,
          3010,
          431,
          974,
          1370,
          105,
          4193,
          2356,
          2640,
          479,
          658,
          980,
          1678,
          1932,
          134,
          329,
          253,
          424,
          652,
          736,
          132,
          881,
          11,
          597,
          319,
          165,
          123,
          759,
          129,
          672,
          708,
          334,
          35,
          25,
          74,
          156,
          47,
          269,
          437,
          78,
          83,
          83,
          36,
          29,
          86,
          37,
          45,
          203,
          27,
          40,
          30,
          23,
          25,
          35,
          28,
          28,
          12,
          36,
          14,
          2,
          6,
          21,
          44,
          38,
          3,
          1,
          0,
          4,
          2,
          0,
          1,
          0
         ]
        }
       ],
       "layout": {
        "height": 400,
        "legend": {
         "orientation": "h"
        },
        "template": {
         "data": {
          "bar": [
           {
            "error_x": {
             "color": "#2a3f5f"
            },
            "error_y": {
             "color": "#2a3f5f"
            },
            "marker": {
             "line": {
              "color": "#E5ECF6",
              "width": 0.5
             },
             "pattern": {
              "fillmode": "overlay",
              "size": 10,
              "solidity": 0.2
             }
            },
            "type": "bar"
           }
          ],
          "barpolar": [
           {
            "marker": {
             "line": {
              "color": "#E5ECF6",
              "width": 0.5
             },
             "pattern": {
              "fillmode": "overlay",
              "size": 10,
              "solidity": 0.2
             }
            },
            "type": "barpolar"
           }
          ],
          "carpet": [
           {
            "aaxis": {
             "endlinecolor": "#2a3f5f",
             "gridcolor": "white",
             "linecolor": "white",
             "minorgridcolor": "white",
             "startlinecolor": "#2a3f5f"
            },
            "baxis": {
             "endlinecolor": "#2a3f5f",
             "gridcolor": "white",
             "linecolor": "white",
             "minorgridcolor": "white",
             "startlinecolor": "#2a3f5f"
            },
            "type": "carpet"
           }
          ],
          "choropleth": [
           {
            "colorbar": {
             "outlinewidth": 0,
             "ticks": ""
            },
            "type": "choropleth"
           }
          ],
          "contour": [
           {
            "colorbar": {
             "outlinewidth": 0,
             "ticks": ""
            },
            "colorscale": [
             [
              0,
              "#0d0887"
             ],
             [
              0.1111111111111111,
              "#46039f"
             ],
             [
              0.2222222222222222,
              "#7201a8"
             ],
             [
              0.3333333333333333,
              "#9c179e"
             ],
             [
              0.4444444444444444,
              "#bd3786"
             ],
             [
              0.5555555555555556,
              "#d8576b"
             ],
             [
              0.6666666666666666,
              "#ed7953"
             ],
             [
              0.7777777777777778,
              "#fb9f3a"
             ],
             [
              0.8888888888888888,
              "#fdca26"
             ],
             [
              1,
              "#f0f921"
             ]
            ],
            "type": "contour"
           }
          ],
          "contourcarpet": [
           {
            "colorbar": {
             "outlinewidth": 0,
             "ticks": ""
            },
            "type": "contourcarpet"
           }
          ],
          "heatmap": [
           {
            "colorbar": {
             "outlinewidth": 0,
             "ticks": ""
            },
            "colorscale": [
             [
              0,
              "#0d0887"
             ],
             [
              0.1111111111111111,
              "#46039f"
             ],
             [
              0.2222222222222222,
              "#7201a8"
             ],
             [
              0.3333333333333333,
              "#9c179e"
             ],
             [
              0.4444444444444444,
              "#bd3786"
             ],
             [
              0.5555555555555556,
              "#d8576b"
             ],
             [
              0.6666666666666666,
              "#ed7953"
             ],
             [
              0.7777777777777778,
              "#fb9f3a"
             ],
             [
              0.8888888888888888,
              "#fdca26"
             ],
             [
              1,
              "#f0f921"
             ]
            ],
            "type": "heatmap"
           }
          ],
          "heatmapgl": [
           {
            "colorbar": {
             "outlinewidth": 0,
             "ticks": ""
            },
            "colorscale": [
             [
              0,
              "#0d0887"
             ],
             [
              0.1111111111111111,
              "#46039f"
             ],
             [
              0.2222222222222222,
              "#7201a8"
             ],
             [
              0.3333333333333333,
              "#9c179e"
             ],
             [
              0.4444444444444444,
              "#bd3786"
             ],
             [
              0.5555555555555556,
              "#d8576b"
             ],
             [
              0.6666666666666666,
              "#ed7953"
             ],
             [
              0.7777777777777778,
              "#fb9f3a"
             ],
             [
              0.8888888888888888,
              "#fdca26"
             ],
             [
              1,
              "#f0f921"
             ]
            ],
            "type": "heatmapgl"
           }
          ],
          "histogram": [
           {
            "marker": {
             "pattern": {
              "fillmode": "overlay",
              "size": 10,
              "solidity": 0.2
             }
            },
            "type": "histogram"
           }
          ],
          "histogram2d": [
           {
            "colorbar": {
             "outlinewidth": 0,
             "ticks": ""
            },
            "colorscale": [
             [
              0,
              "#0d0887"
             ],
             [
              0.1111111111111111,
              "#46039f"
             ],
             [
              0.2222222222222222,
              "#7201a8"
             ],
             [
              0.3333333333333333,
              "#9c179e"
             ],
             [
              0.4444444444444444,
              "#bd3786"
             ],
             [
              0.5555555555555556,
              "#d8576b"
             ],
             [
              0.6666666666666666,
              "#ed7953"
             ],
             [
              0.7777777777777778,
              "#fb9f3a"
             ],
             [
              0.8888888888888888,
              "#fdca26"
             ],
             [
              1,
              "#f0f921"
             ]
            ],
            "type": "histogram2d"
           }
          ],
          "histogram2dcontour": [
           {
            "colorbar": {
             "outlinewidth": 0,
             "ticks": ""
            },
            "colorscale": [
             [
              0,
              "#0d0887"
             ],
             [
              0.1111111111111111,
              "#46039f"
             ],
             [
              0.2222222222222222,
              "#7201a8"
             ],
             [
              0.3333333333333333,
              "#9c179e"
             ],
             [
              0.4444444444444444,
              "#bd3786"
             ],
             [
              0.5555555555555556,
              "#d8576b"
             ],
             [
              0.6666666666666666,
              "#ed7953"
             ],
             [
              0.7777777777777778,
              "#fb9f3a"
             ],
             [
              0.8888888888888888,
              "#fdca26"
             ],
             [
              1,
              "#f0f921"
             ]
            ],
            "type": "histogram2dcontour"
           }
          ],
          "mesh3d": [
           {
            "colorbar": {
             "outlinewidth": 0,
             "ticks": ""
            },
            "type": "mesh3d"
           }
          ],
          "parcoords": [
           {
            "line": {
             "colorbar": {
              "outlinewidth": 0,
              "ticks": ""
             }
            },
            "type": "parcoords"
           }
          ],
          "pie": [
           {
            "automargin": true,
            "type": "pie"
           }
          ],
          "scatter": [
           {
            "marker": {
             "colorbar": {
              "outlinewidth": 0,
              "ticks": ""
             }
            },
            "type": "scatter"
           }
          ],
          "scatter3d": [
           {
            "line": {
             "colorbar": {
              "outlinewidth": 0,
              "ticks": ""
             }
            },
            "marker": {
             "colorbar": {
              "outlinewidth": 0,
              "ticks": ""
             }
            },
            "type": "scatter3d"
           }
          ],
          "scattercarpet": [
           {
            "marker": {
             "colorbar": {
              "outlinewidth": 0,
              "ticks": ""
             }
            },
            "type": "scattercarpet"
           }
          ],
          "scattergeo": [
           {
            "marker": {
             "colorbar": {
              "outlinewidth": 0,
              "ticks": ""
             }
            },
            "type": "scattergeo"
           }
          ],
          "scattergl": [
           {
            "marker": {
             "colorbar": {
              "outlinewidth": 0,
              "ticks": ""
             }
            },
            "type": "scattergl"
           }
          ],
          "scattermapbox": [
           {
            "marker": {
             "colorbar": {
              "outlinewidth": 0,
              "ticks": ""
             }
            },
            "type": "scattermapbox"
           }
          ],
          "scatterpolar": [
           {
            "marker": {
             "colorbar": {
              "outlinewidth": 0,
              "ticks": ""
             }
            },
            "type": "scatterpolar"
           }
          ],
          "scatterpolargl": [
           {
            "marker": {
             "colorbar": {
              "outlinewidth": 0,
              "ticks": ""
             }
            },
            "type": "scatterpolargl"
           }
          ],
          "scatterternary": [
           {
            "marker": {
             "colorbar": {
              "outlinewidth": 0,
              "ticks": ""
             }
            },
            "type": "scatterternary"
           }
          ],
          "surface": [
           {
            "colorbar": {
             "outlinewidth": 0,
             "ticks": ""
            },
            "colorscale": [
             [
              0,
              "#0d0887"
             ],
             [
              0.1111111111111111,
              "#46039f"
             ],
             [
              0.2222222222222222,
              "#7201a8"
             ],
             [
              0.3333333333333333,
              "#9c179e"
             ],
             [
              0.4444444444444444,
              "#bd3786"
             ],
             [
              0.5555555555555556,
              "#d8576b"
             ],
             [
              0.6666666666666666,
              "#ed7953"
             ],
             [
              0.7777777777777778,
              "#fb9f3a"
             ],
             [
              0.8888888888888888,
              "#fdca26"
             ],
             [
              1,
              "#f0f921"
             ]
            ],
            "type": "surface"
           }
          ],
          "table": [
           {
            "cells": {
             "fill": {
              "color": "#EBF0F8"
             },
             "line": {
              "color": "white"
             }
            },
            "header": {
             "fill": {
              "color": "#C8D4E3"
             },
             "line": {
              "color": "white"
             }
            },
            "type": "table"
           }
          ]
         },
         "layout": {
          "annotationdefaults": {
           "arrowcolor": "#2a3f5f",
           "arrowhead": 0,
           "arrowwidth": 1
          },
          "autotypenumbers": "strict",
          "coloraxis": {
           "colorbar": {
            "outlinewidth": 0,
            "ticks": ""
           }
          },
          "colorscale": {
           "diverging": [
            [
             0,
             "#8e0152"
            ],
            [
             0.1,
             "#c51b7d"
            ],
            [
             0.2,
             "#de77ae"
            ],
            [
             0.3,
             "#f1b6da"
            ],
            [
             0.4,
             "#fde0ef"
            ],
            [
             0.5,
             "#f7f7f7"
            ],
            [
             0.6,
             "#e6f5d0"
            ],
            [
             0.7,
             "#b8e186"
            ],
            [
             0.8,
             "#7fbc41"
            ],
            [
             0.9,
             "#4d9221"
            ],
            [
             1,
             "#276419"
            ]
           ],
           "sequential": [
            [
             0,
             "#0d0887"
            ],
            [
             0.1111111111111111,
             "#46039f"
            ],
            [
             0.2222222222222222,
             "#7201a8"
            ],
            [
             0.3333333333333333,
             "#9c179e"
            ],
            [
             0.4444444444444444,
             "#bd3786"
            ],
            [
             0.5555555555555556,
             "#d8576b"
            ],
            [
             0.6666666666666666,
             "#ed7953"
            ],
            [
             0.7777777777777778,
             "#fb9f3a"
            ],
            [
             0.8888888888888888,
             "#fdca26"
            ],
            [
             1,
             "#f0f921"
            ]
           ],
           "sequentialminus": [
            [
             0,
             "#0d0887"
            ],
            [
             0.1111111111111111,
             "#46039f"
            ],
            [
             0.2222222222222222,
             "#7201a8"
            ],
            [
             0.3333333333333333,
             "#9c179e"
            ],
            [
             0.4444444444444444,
             "#bd3786"
            ],
            [
             0.5555555555555556,
             "#d8576b"
            ],
            [
             0.6666666666666666,
             "#ed7953"
            ],
            [
             0.7777777777777778,
             "#fb9f3a"
            ],
            [
             0.8888888888888888,
             "#fdca26"
            ],
            [
             1,
             "#f0f921"
            ]
           ]
          },
          "colorway": [
           "#636efa",
           "#EF553B",
           "#00cc96",
           "#ab63fa",
           "#FFA15A",
           "#19d3f3",
           "#FF6692",
           "#B6E880",
           "#FF97FF",
           "#FECB52"
          ],
          "font": {
           "color": "#2a3f5f"
          },
          "geo": {
           "bgcolor": "white",
           "lakecolor": "white",
           "landcolor": "#E5ECF6",
           "showlakes": true,
           "showland": true,
           "subunitcolor": "white"
          },
          "hoverlabel": {
           "align": "left"
          },
          "hovermode": "closest",
          "mapbox": {
           "style": "light"
          },
          "paper_bgcolor": "white",
          "plot_bgcolor": "#E5ECF6",
          "polar": {
           "angularaxis": {
            "gridcolor": "white",
            "linecolor": "white",
            "ticks": ""
           },
           "bgcolor": "#E5ECF6",
           "radialaxis": {
            "gridcolor": "white",
            "linecolor": "white",
            "ticks": ""
           }
          },
          "scene": {
           "xaxis": {
            "backgroundcolor": "#E5ECF6",
            "gridcolor": "white",
            "gridwidth": 2,
            "linecolor": "white",
            "showbackground": true,
            "ticks": "",
            "zerolinecolor": "white"
           },
           "yaxis": {
            "backgroundcolor": "#E5ECF6",
            "gridcolor": "white",
            "gridwidth": 2,
            "linecolor": "white",
            "showbackground": true,
            "ticks": "",
            "zerolinecolor": "white"
           },
           "zaxis": {
            "backgroundcolor": "#E5ECF6",
            "gridcolor": "white",
            "gridwidth": 2,
            "linecolor": "white",
            "showbackground": true,
            "ticks": "",
            "zerolinecolor": "white"
           }
          },
          "shapedefaults": {
           "line": {
            "color": "#2a3f5f"
           }
          },
          "ternary": {
           "aaxis": {
            "gridcolor": "white",
            "linecolor": "white",
            "ticks": ""
           },
           "baxis": {
            "gridcolor": "white",
            "linecolor": "white",
            "ticks": ""
           },
           "bgcolor": "#E5ECF6",
           "caxis": {
            "gridcolor": "white",
            "linecolor": "white",
            "ticks": ""
           }
          },
          "title": {
           "x": 0.05
          },
          "xaxis": {
           "automargin": true,
           "gridcolor": "white",
           "linecolor": "white",
           "ticks": "",
           "title": {
            "standoff": 15
           },
           "zerolinecolor": "white",
           "zerolinewidth": 2
          },
          "yaxis": {
           "automargin": true,
           "gridcolor": "white",
           "linecolor": "white",
           "ticks": "",
           "title": {
            "standoff": 15
           },
           "zerolinecolor": "white",
           "zerolinewidth": 2
          }
         }
        },
        "title": {
         "text": "Suspects Age - Distribution"
        },
        "xaxis": {
         "range": [
          0,
          100
         ]
        }
       }
      }
     },
     "metadata": {}
    }
   ],
   "metadata": {}
  },
  {
   "cell_type": "code",
   "execution_count": 94,
   "source": [
    "# %%debug \r\n",
    "ag = []\r\n",
    "for i, row in Gun_Violence_2013_2018.iterrows():\r\n",
    "    suspects = []\r\n",
    "    for k,v in row['participant_type_map'].items():\r\n",
    "        if \"suspect\" in v.lower():\r\n",
    "            suspects.append(k)    \r\n",
    "    b=[]\r\n",
    "    for suspect in suspects:        \r\n",
    "        if suspect in row['participant_age_map']:\r\n",
    "            b.append(row['participant_age_map'][suspect])\r\n",
    "    ag.append(b)    \r\n",
    "\r\n",
    "Gun_Violence_2013_2018['suspect_age'] = ag"
   ],
   "outputs": [],
   "metadata": {}
  },
  {
   "cell_type": "code",
   "execution_count": 95,
   "source": [
    "Gun_Violence_2013_2018.drop(['participant_type','participant_age','participant_gender'],axis=1,inplace=True)\r\n",
    "Gun_Violence_2013_2018.head(2)"
   ],
   "outputs": [
    {
     "output_type": "execute_result",
     "data": {
      "text/html": [
       "<div>\n",
       "<style scoped>\n",
       "    .dataframe tbody tr th:only-of-type {\n",
       "        vertical-align: middle;\n",
       "    }\n",
       "\n",
       "    .dataframe tbody tr th {\n",
       "        vertical-align: top;\n",
       "    }\n",
       "\n",
       "    .dataframe thead th {\n",
       "        text-align: right;\n",
       "    }\n",
       "</style>\n",
       "<table border=\"1\" class=\"dataframe\">\n",
       "  <thead>\n",
       "    <tr style=\"text-align: right;\">\n",
       "      <th></th>\n",
       "      <th>incident_id</th>\n",
       "      <th>state</th>\n",
       "      <th>n_killed</th>\n",
       "      <th>n_injured</th>\n",
       "      <th>n_guns_involved</th>\n",
       "      <th>date</th>\n",
       "      <th>year</th>\n",
       "      <th>Total victims</th>\n",
       "      <th>participant_type_map</th>\n",
       "      <th>participant_age_map</th>\n",
       "      <th>participant_gender_map</th>\n",
       "      <th>suspect_age</th>\n",
       "    </tr>\n",
       "    <tr>\n",
       "      <th>date</th>\n",
       "      <th></th>\n",
       "      <th></th>\n",
       "      <th></th>\n",
       "      <th></th>\n",
       "      <th></th>\n",
       "      <th></th>\n",
       "      <th></th>\n",
       "      <th></th>\n",
       "      <th></th>\n",
       "      <th></th>\n",
       "      <th></th>\n",
       "      <th></th>\n",
       "    </tr>\n",
       "  </thead>\n",
       "  <tbody>\n",
       "    <tr>\n",
       "      <th>2013-01-01</th>\n",
       "      <td>461105</td>\n",
       "      <td>Pennsylvania</td>\n",
       "      <td>0</td>\n",
       "      <td>4</td>\n",
       "      <td>NaN</td>\n",
       "      <td>2013-01-01</td>\n",
       "      <td>2013</td>\n",
       "      <td>4</td>\n",
       "      <td>{'0': 'Victim', '1': 'Victim', '2': 'Victim', ...</td>\n",
       "      <td>{'0': '20'}</td>\n",
       "      <td>{'0': 'Male', '1': 'Male', '3': 'Male', '4': '...</td>\n",
       "      <td>[]</td>\n",
       "    </tr>\n",
       "    <tr>\n",
       "      <th>2013-01-01</th>\n",
       "      <td>460726</td>\n",
       "      <td>California</td>\n",
       "      <td>1</td>\n",
       "      <td>3</td>\n",
       "      <td>NaN</td>\n",
       "      <td>2013-01-01</td>\n",
       "      <td>2013</td>\n",
       "      <td>4</td>\n",
       "      <td>{'0': 'Victim', '1': 'Victim', '2': 'Victim', ...</td>\n",
       "      <td>{'0': '20'}</td>\n",
       "      <td>{'0': 'Male'}</td>\n",
       "      <td>[]</td>\n",
       "    </tr>\n",
       "  </tbody>\n",
       "</table>\n",
       "</div>"
      ],
      "text/plain": [
       "            incident_id         state  n_killed  n_injured  n_guns_involved  \\\n",
       "date                                                                          \n",
       "2013-01-01       461105  Pennsylvania         0          4              NaN   \n",
       "2013-01-01       460726    California         1          3              NaN   \n",
       "\n",
       "                 date  year  Total victims  \\\n",
       "date                                         \n",
       "2013-01-01 2013-01-01  2013              4   \n",
       "2013-01-01 2013-01-01  2013              4   \n",
       "\n",
       "                                         participant_type_map  \\\n",
       "date                                                            \n",
       "2013-01-01  {'0': 'Victim', '1': 'Victim', '2': 'Victim', ...   \n",
       "2013-01-01  {'0': 'Victim', '1': 'Victim', '2': 'Victim', ...   \n",
       "\n",
       "           participant_age_map  \\\n",
       "date                             \n",
       "2013-01-01         {'0': '20'}   \n",
       "2013-01-01         {'0': '20'}   \n",
       "\n",
       "                                       participant_gender_map suspect_age  \n",
       "date                                                                       \n",
       "2013-01-01  {'0': 'Male', '1': 'Male', '3': 'Male', '4': '...          []  \n",
       "2013-01-01                                      {'0': 'Male'}          []  "
      ]
     },
     "metadata": {},
     "execution_count": 95
    }
   ],
   "metadata": {}
  },
  {
   "cell_type": "code",
   "execution_count": 96,
   "source": [
    "GunDeaths_2009_2018.head(2)"
   ],
   "outputs": [
    {
     "output_type": "execute_result",
     "data": {
      "text/html": [
       "<div>\n",
       "<style scoped>\n",
       "    .dataframe tbody tr th:only-of-type {\n",
       "        vertical-align: middle;\n",
       "    }\n",
       "\n",
       "    .dataframe tbody tr th {\n",
       "        vertical-align: top;\n",
       "    }\n",
       "\n",
       "    .dataframe thead th {\n",
       "        text-align: right;\n",
       "    }\n",
       "</style>\n",
       "<table border=\"1\" class=\"dataframe\">\n",
       "  <thead>\n",
       "    <tr style=\"text-align: right;\">\n",
       "      <th></th>\n",
       "      <th>Population</th>\n",
       "      <th>Total gun deaths</th>\n",
       "      <th>Total children and teen gun deaths</th>\n",
       "      <th>year</th>\n",
       "    </tr>\n",
       "    <tr>\n",
       "      <th>Year</th>\n",
       "      <th></th>\n",
       "      <th></th>\n",
       "      <th></th>\n",
       "      <th></th>\n",
       "    </tr>\n",
       "  </thead>\n",
       "  <tbody>\n",
       "    <tr>\n",
       "      <th>2009</th>\n",
       "      <td>307,006,550</td>\n",
       "      <td>31,347</td>\n",
       "      <td>2,811</td>\n",
       "      <td>2009</td>\n",
       "    </tr>\n",
       "    <tr>\n",
       "      <th>2010</th>\n",
       "      <td>309,330,219</td>\n",
       "      <td>31,672</td>\n",
       "      <td>2,711</td>\n",
       "      <td>2010</td>\n",
       "    </tr>\n",
       "  </tbody>\n",
       "</table>\n",
       "</div>"
      ],
      "text/plain": [
       "       Population Total gun deaths Total children and teen gun deaths  year\n",
       "Year                                                                       \n",
       "2009  307,006,550           31,347                              2,811  2009\n",
       "2010  309,330,219           31,672                              2,711  2010"
      ]
     },
     "metadata": {},
     "execution_count": 96
    }
   ],
   "metadata": {}
  },
  {
   "cell_type": "code",
   "execution_count": 97,
   "source": [
    "GunPossession_1986_2018.head(2)"
   ],
   "outputs": [
    {
     "output_type": "execute_result",
     "data": {
      "text/html": [
       "<div>\n",
       "<style scoped>\n",
       "    .dataframe tbody tr th:only-of-type {\n",
       "        vertical-align: middle;\n",
       "    }\n",
       "\n",
       "    .dataframe tbody tr th {\n",
       "        vertical-align: top;\n",
       "    }\n",
       "\n",
       "    .dataframe thead th {\n",
       "        text-align: right;\n",
       "    }\n",
       "</style>\n",
       "<table border=\"1\" class=\"dataframe\">\n",
       "  <thead>\n",
       "    <tr style=\"text-align: right;\">\n",
       "      <th></th>\n",
       "      <th>Total Licensees</th>\n",
       "      <th>Licensed Business Entities</th>\n",
       "      <th>year</th>\n",
       "    </tr>\n",
       "    <tr>\n",
       "      <th>Year</th>\n",
       "      <th></th>\n",
       "      <th></th>\n",
       "      <th></th>\n",
       "    </tr>\n",
       "  </thead>\n",
       "  <tbody>\n",
       "    <tr>\n",
       "      <th>1986</th>\n",
       "      <td>267,166</td>\n",
       "      <td>256,527</td>\n",
       "      <td>1986</td>\n",
       "    </tr>\n",
       "    <tr>\n",
       "      <th>1987</th>\n",
       "      <td>262,022</td>\n",
       "      <td>250,928</td>\n",
       "      <td>1987</td>\n",
       "    </tr>\n",
       "  </tbody>\n",
       "</table>\n",
       "</div>"
      ],
      "text/plain": [
       "      Total Licensees  Licensed Business Entities  year\n",
       "Year                                                   \n",
       "1986           267,166                    256,527  1986\n",
       "1987           262,022                    250,928  1987"
      ]
     },
     "metadata": {},
     "execution_count": 97
    }
   ],
   "metadata": {}
  },
  {
   "cell_type": "code",
   "execution_count": 141,
   "source": [
    "Employment.head(2)"
   ],
   "outputs": [
    {
     "output_type": "execute_result",
     "data": {
      "text/html": [
       "<div>\n",
       "<style scoped>\n",
       "    .dataframe tbody tr th:only-of-type {\n",
       "        vertical-align: middle;\n",
       "    }\n",
       "\n",
       "    .dataframe tbody tr th {\n",
       "        vertical-align: top;\n",
       "    }\n",
       "\n",
       "    .dataframe thead th {\n",
       "        text-align: right;\n",
       "    }\n",
       "</style>\n",
       "<table border=\"1\" class=\"dataframe\">\n",
       "  <thead>\n",
       "    <tr style=\"text-align: right;\">\n",
       "      <th></th>\n",
       "      <th>state</th>\n",
       "      <th>State population</th>\n",
       "      <th>State labor force</th>\n",
       "      <th>Unemployment rate</th>\n",
       "      <th>year</th>\n",
       "    </tr>\n",
       "    <tr>\n",
       "      <th>Year</th>\n",
       "      <th></th>\n",
       "      <th></th>\n",
       "      <th></th>\n",
       "      <th></th>\n",
       "      <th></th>\n",
       "    </tr>\n",
       "  </thead>\n",
       "  <tbody>\n",
       "    <tr>\n",
       "      <th>1976</th>\n",
       "      <td>Alabama</td>\n",
       "      <td>2632667</td>\n",
       "      <td>1501284</td>\n",
       "      <td>6.8</td>\n",
       "      <td>1976</td>\n",
       "    </tr>\n",
       "    <tr>\n",
       "      <th>1976</th>\n",
       "      <td>Alaska</td>\n",
       "      <td>239917</td>\n",
       "      <td>163570</td>\n",
       "      <td>7.6</td>\n",
       "      <td>1976</td>\n",
       "    </tr>\n",
       "  </tbody>\n",
       "</table>\n",
       "</div>"
      ],
      "text/plain": [
       "        state  State population  State labor force  Unemployment rate  year\n",
       "Year                                                                       \n",
       "1976  Alabama           2632667            1501284                6.8  1976\n",
       "1976   Alaska            239917             163570                7.6  1976"
      ]
     },
     "metadata": {},
     "execution_count": 141
    }
   ],
   "metadata": {}
  },
  {
   "cell_type": "code",
   "execution_count": 129,
   "source": [
    "print(len(Employment.state.unique()),np.sort(Employment.state.unique()),'\\n',\r\n",
    "  len(df.state.unique()),np.sort(df.state.unique()))"
   ],
   "outputs": [
    {
     "output_type": "stream",
     "name": "stdout",
     "text": [
      "53 ['Alabama' 'Alaska' 'Arizona' 'Arkansas' 'California' 'Colorado'\n",
      " 'Connecticut' 'Delaware' 'District of Columbia' 'Florida' 'Georgia'\n",
      " 'Hawaii' 'Idaho' 'Illinois' 'Indiana' 'Iowa' 'Kansas' 'Kentucky'\n",
      " 'Los Angeles County' 'Louisiana' 'Maine' 'Maryland' 'Massachusetts'\n",
      " 'Michigan' 'Minnesota' 'Mississippi' 'Missouri' 'Montana' 'Nebraska'\n",
      " 'Nevada' 'New Hampshire' 'New Jersey' 'New Mexico' 'New York'\n",
      " 'New York city' 'North Carolina' 'North Dakota' 'Ohio' 'Oklahoma'\n",
      " 'Oregon' 'Pennsylvania' 'Rhode Island' 'South Carolina' 'South Dakota'\n",
      " 'Tennessee' 'Texas' 'Utah' 'Vermont' 'Virginia' 'Washington'\n",
      " 'West Virginia' 'Wisconsin' 'Wyoming'] \n",
      " 51 ['Alabama' 'Alaska' 'Arizona' 'Arkansas' 'California' 'Colorado'\n",
      " 'Connecticut' 'Delaware' 'District of Columbia' 'Florida' 'Georgia'\n",
      " 'Hawaii' 'Idaho' 'Illinois' 'Indiana' 'Iowa' 'Kansas' 'Kentucky'\n",
      " 'Louisiana' 'Maine' 'Maryland' 'Massachusetts' 'Michigan' 'Minnesota'\n",
      " 'Mississippi' 'Missouri' 'Montana' 'Nebraska' 'Nevada' 'New Hampshire'\n",
      " 'New Jersey' 'New Mexico' 'New York' 'North Carolina' 'North Dakota'\n",
      " 'Ohio' 'Oklahoma' 'Oregon' 'Pennsylvania' 'Rhode Island' 'South Carolina'\n",
      " 'South Dakota' 'Tennessee' 'Texas' 'Utah' 'Vermont' 'Virginia'\n",
      " 'Washington' 'West Virginia' 'Wisconsin' 'Wyoming']\n"
     ]
    }
   ],
   "metadata": {}
  },
  {
   "cell_type": "code",
   "execution_count": 56,
   "source": [
    "def add_columns(row):\r\n",
    "  if Gun_Violence_2013_2018.year == GunDeaths_2009_2018.index:\r\n",
    "    return GunDeaths_2009_2018['Population']"
   ],
   "outputs": [],
   "metadata": {}
  },
  {
   "cell_type": "code",
   "execution_count": 142,
   "source": [
    "df = pd.merge(Gun_Violence_2013_2018,GunPossession_1986_2018,on=['year'],how='left')"
   ],
   "outputs": [],
   "metadata": {}
  },
  {
   "cell_type": "code",
   "execution_count": 143,
   "source": [
    "df = pd.merge(df,GunDeaths_2009_2018,on=['year'],how='left')"
   ],
   "outputs": [],
   "metadata": {}
  },
  {
   "cell_type": "code",
   "execution_count": 144,
   "source": [
    "df = pd.merge(df,Employment,on=['year','state'],how='left')"
   ],
   "outputs": [],
   "metadata": {}
  },
  {
   "cell_type": "code",
   "execution_count": 145,
   "source": [
    "print(Gun_Violence_2013_2018.shape,GunPossession_1986_2018.shape,GunDeaths_2009_2018.shape,Employment.shape,df.shape)"
   ],
   "outputs": [
    {
     "output_type": "stream",
     "name": "stdout",
     "text": [
      "(239677, 12) (33, 3) (10, 4) (2332, 5) (239677, 20)\n"
     ]
    }
   ],
   "metadata": {}
  },
  {
   "cell_type": "code",
   "execution_count": 150,
   "source": [
    "df.set_index('date',inplace=True)\r\n",
    "df.head(2)"
   ],
   "outputs": [
    {
     "output_type": "execute_result",
     "data": {
      "text/html": [
       "<div>\n",
       "<style scoped>\n",
       "    .dataframe tbody tr th:only-of-type {\n",
       "        vertical-align: middle;\n",
       "    }\n",
       "\n",
       "    .dataframe tbody tr th {\n",
       "        vertical-align: top;\n",
       "    }\n",
       "\n",
       "    .dataframe thead th {\n",
       "        text-align: right;\n",
       "    }\n",
       "</style>\n",
       "<table border=\"1\" class=\"dataframe\">\n",
       "  <thead>\n",
       "    <tr style=\"text-align: right;\">\n",
       "      <th></th>\n",
       "      <th>incident_id</th>\n",
       "      <th>state</th>\n",
       "      <th>n_killed</th>\n",
       "      <th>n_injured</th>\n",
       "      <th>n_guns_involved</th>\n",
       "      <th>year</th>\n",
       "      <th>Total victims</th>\n",
       "      <th>participant_type_map</th>\n",
       "      <th>participant_age_map</th>\n",
       "      <th>participant_gender_map</th>\n",
       "      <th>suspect_age</th>\n",
       "      <th>Total Licensees</th>\n",
       "      <th>Licensed Business Entities</th>\n",
       "      <th>Population</th>\n",
       "      <th>Total gun deaths</th>\n",
       "      <th>Total children and teen gun deaths</th>\n",
       "      <th>State population</th>\n",
       "      <th>State labor force</th>\n",
       "      <th>Unemployment rate</th>\n",
       "    </tr>\n",
       "    <tr>\n",
       "      <th>date</th>\n",
       "      <th></th>\n",
       "      <th></th>\n",
       "      <th></th>\n",
       "      <th></th>\n",
       "      <th></th>\n",
       "      <th></th>\n",
       "      <th></th>\n",
       "      <th></th>\n",
       "      <th></th>\n",
       "      <th></th>\n",
       "      <th></th>\n",
       "      <th></th>\n",
       "      <th></th>\n",
       "      <th></th>\n",
       "      <th></th>\n",
       "      <th></th>\n",
       "      <th></th>\n",
       "      <th></th>\n",
       "      <th></th>\n",
       "    </tr>\n",
       "  </thead>\n",
       "  <tbody>\n",
       "    <tr>\n",
       "      <th>2013-01-01</th>\n",
       "      <td>461105</td>\n",
       "      <td>Pennsylvania</td>\n",
       "      <td>0</td>\n",
       "      <td>4</td>\n",
       "      <td>NaN</td>\n",
       "      <td>2013</td>\n",
       "      <td>4</td>\n",
       "      <td>{'0': 'Victim', '1': 'Victim', '2': 'Victim', ...</td>\n",
       "      <td>{'0': '20'}</td>\n",
       "      <td>{'0': 'Male', '1': 'Male', '3': 'Male', '4': '...</td>\n",
       "      <td>[]</td>\n",
       "      <td>139,244</td>\n",
       "      <td>74,795</td>\n",
       "      <td>316,497,531</td>\n",
       "      <td>33,636</td>\n",
       "      <td>2,465</td>\n",
       "      <td>10178255</td>\n",
       "      <td>6442411</td>\n",
       "      <td>7.4</td>\n",
       "    </tr>\n",
       "    <tr>\n",
       "      <th>2013-01-01</th>\n",
       "      <td>460726</td>\n",
       "      <td>California</td>\n",
       "      <td>1</td>\n",
       "      <td>3</td>\n",
       "      <td>NaN</td>\n",
       "      <td>2013</td>\n",
       "      <td>4</td>\n",
       "      <td>{'0': 'Victim', '1': 'Victim', '2': 'Victim', ...</td>\n",
       "      <td>{'0': '20'}</td>\n",
       "      <td>{'0': 'Male'}</td>\n",
       "      <td>[]</td>\n",
       "      <td>139,244</td>\n",
       "      <td>74,795</td>\n",
       "      <td>316,497,531</td>\n",
       "      <td>33,636</td>\n",
       "      <td>2,465</td>\n",
       "      <td>29637113</td>\n",
       "      <td>18624992</td>\n",
       "      <td>8.9</td>\n",
       "    </tr>\n",
       "  </tbody>\n",
       "</table>\n",
       "</div>"
      ],
      "text/plain": [
       "            incident_id         state  n_killed  n_injured  n_guns_involved  \\\n",
       "date                                                                          \n",
       "2013-01-01       461105  Pennsylvania         0          4              NaN   \n",
       "2013-01-01       460726    California         1          3              NaN   \n",
       "\n",
       "            year  Total victims  \\\n",
       "date                              \n",
       "2013-01-01  2013              4   \n",
       "2013-01-01  2013              4   \n",
       "\n",
       "                                         participant_type_map  \\\n",
       "date                                                            \n",
       "2013-01-01  {'0': 'Victim', '1': 'Victim', '2': 'Victim', ...   \n",
       "2013-01-01  {'0': 'Victim', '1': 'Victim', '2': 'Victim', ...   \n",
       "\n",
       "           participant_age_map  \\\n",
       "date                             \n",
       "2013-01-01         {'0': '20'}   \n",
       "2013-01-01         {'0': '20'}   \n",
       "\n",
       "                                       participant_gender_map suspect_age  \\\n",
       "date                                                                        \n",
       "2013-01-01  {'0': 'Male', '1': 'Male', '3': 'Male', '4': '...          []   \n",
       "2013-01-01                                      {'0': 'Male'}          []   \n",
       "\n",
       "           Total Licensees  Licensed Business Entities   Population  \\\n",
       "date                                                                  \n",
       "2013-01-01          139,244                     74,795  316,497,531   \n",
       "2013-01-01          139,244                     74,795  316,497,531   \n",
       "\n",
       "           Total gun deaths Total children and teen gun deaths  \\\n",
       "date                                                             \n",
       "2013-01-01           33,636                              2,465   \n",
       "2013-01-01           33,636                              2,465   \n",
       "\n",
       "            State population  State labor force  Unemployment rate  \n",
       "date                                                                \n",
       "2013-01-01          10178255            6442411                7.4  \n",
       "2013-01-01          29637113           18624992                8.9  "
      ]
     },
     "metadata": {},
     "execution_count": 150
    }
   ],
   "metadata": {}
  },
  {
   "cell_type": "code",
   "execution_count": 162,
   "source": [
    "df['Total victims'][df.year==2013].sum()"
   ],
   "outputs": [
    {
     "output_type": "execute_result",
     "data": {
      "text/plain": [
       "1296"
      ]
     },
     "metadata": {},
     "execution_count": 162
    }
   ],
   "metadata": {}
  },
  {
   "cell_type": "code",
   "execution_count": 168,
   "source": [
    "df['Total victims'][(df.year==2013) & (df.state=='Texas')].sum()"
   ],
   "outputs": [
    {
     "output_type": "execute_result",
     "data": {
      "text/plain": [
       "65"
      ]
     },
     "metadata": {},
     "execution_count": 168
    }
   ],
   "metadata": {}
  },
  {
   "cell_type": "markdown",
   "source": [
    "##  2.5 Target variables  \r\n",
    "index: Year 2013 - 2018  \r\n",
    "Dependent variable (y): Total victims\r\n",
    "Independent variables (Xi): Population, State population, suspect_age, Total Licensees, Unemployment rate"
   ],
   "metadata": {}
  },
  {
   "cell_type": "markdown",
   "source": [
    "## 2.6 Save data  "
   ],
   "metadata": {}
  },
  {
   "cell_type": "code",
   "execution_count": 284,
   "source": [
    "df.to_csv('../data/Clean_data/GunViolence2013_2018_final.csv')"
   ],
   "outputs": [],
   "metadata": {}
  },
  {
   "cell_type": "markdown",
   "source": [
    "## 2.7 Summary  "
   ],
   "metadata": {}
  }
 ]
}